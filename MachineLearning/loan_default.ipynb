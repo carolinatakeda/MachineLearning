{
 "cells": [
  {
   "cell_type": "markdown",
   "metadata": {
    "id": "Gi5jxcBT_4OB"
   },
   "source": [
    "# Configurações Iniciais"
   ]
  },
  {
   "cell_type": "markdown",
   "metadata": {
    "id": "c2EFVedmRRBQ"
   },
   "source": [
    "Primeiramente, vamos importar algumas bibliotecas que utilizaremos inicialmente."
   ]
  },
  {
   "cell_type": "code",
   "execution_count": 1,
   "metadata": {
    "id": "XN2O85FQAAJO"
   },
   "outputs": [],
   "source": [
    "import numpy as np\n",
    "import os\n",
    "import pandas as pd"
   ]
  },
  {
   "cell_type": "markdown",
   "metadata": {
    "id": "UGNzzy2vRacO"
   },
   "source": [
    "Vamos fixar uma semente aleatória para o restante do modelo."
   ]
  },
  {
   "cell_type": "code",
   "execution_count": 2,
   "metadata": {
    "id": "-2kRzwkNAHkn"
   },
   "outputs": [],
   "source": [
    "seed = 4\n",
    "np.random.seed(seed)"
   ]
  },
  {
   "cell_type": "markdown",
   "metadata": {
    "id": "sF5CYSq_Re5w"
   },
   "source": [
    "Importando módulos básicos para plotar figuras e gráficos."
   ]
  },
  {
   "cell_type": "code",
   "execution_count": 3,
   "metadata": {
    "id": "S-0c2zjMALVG"
   },
   "outputs": [],
   "source": [
    "%matplotlib inline\n",
    "import matplotlib as mpl\n",
    "import matplotlib.pyplot as plt\n",
    "import seaborn as sns\n",
    "\n",
    "mpl.rc('axes', labelsize=7)\n",
    "mpl.rc('xtick', labelsize=9)\n",
    "mpl.rc('ytick', labelsize=9)"
   ]
  },
  {
   "cell_type": "markdown",
   "metadata": {
    "id": "QVSn2bjtANl-"
   },
   "source": [
    "# Enquadrando o problema"
   ]
  },
  {
   "cell_type": "markdown",
   "metadata": {
    "id": "EiGfrVuZASHW"
   },
   "source": [
    "Considere o seguinte cenário: A empresa Carrara Empréstimos notou perdas significativas devido à inadimplência de empréstimos de veículos. Isso levou a uma maior rigidez na  subscrição de empréstimos de veículos e ao aumento das taxas de rejeição. Afim de sanar a necessidade de um melhor modelo de pontuação de risco de crédito, a Carrara Empréstimos nos contratou para implementar um modelo que preve com precisão a probabilidade de um cliente inadimplir um empréstimo de veículo na primeira prestação mensal na data de vencimento.\n",
    "\n",
    "Para isto a empresa nos fornceu um dataset que iremos detalhar mais a frente."
   ]
  },
  {
   "cell_type": "markdown",
   "metadata": {
    "id": "XEU98SJ7FDin"
   },
   "source": [
    "# Obtendo os dados"
   ]
  },
  {
   "cell_type": "markdown",
   "metadata": {
    "id": "kkJiLO8uRpRz"
   },
   "source": [
    "Como o dataset é muito grande, vamos importa-lo do google drive."
   ]
  },
  {
   "cell_type": "code",
   "execution_count": 5,
   "metadata": {
    "colab": {
     "base_uri": "https://localhost:8080/"
    },
    "id": "DhZkLq9vtbG6",
    "outputId": "f6fe3ae3-2858-4c21-d005-b0142d95dd1e"
   },
   "outputs": [],
   "source": [
    "!pip install gdown\n",
    "\n",
    "!gdown --id '10RooMx1FwE3Ujp8VKJhNJlotT2XTLVs6' #train\n",
    "!gdown --id '1jgJT6T8UA27mfjV3OPnBdh_Re7LNsbvK'#test\n",
    "\n",
    "df = pd.read_csv('train.csv')\n"
   ]
  },
  {
   "cell_type": "markdown",
   "metadata": {
    "id": "j8Cj8ROGR1QB"
   },
   "source": [
    "Vamos transformar agora em um DataFrame"
   ]
  },
  {
   "cell_type": "code",
   "execution_count": 6,
   "metadata": {
    "id": "UytoyzBxMCiA"
   },
   "outputs": [],
   "source": [
    "columns = df.columns.tolist()\n",
    "loans = pd.DataFrame(df, columns=columns)"
   ]
  },
  {
   "cell_type": "markdown",
   "metadata": {
    "id": "MO-0cKYB9545"
   },
   "source": [
    "Façamos uma cópia do loans para uso futuro (será explicado na extratificação de dados)."
   ]
  },
  {
   "cell_type": "code",
   "execution_count": 7,
   "metadata": {
    "id": "PBvOTNzG1rH7"
   },
   "outputs": [],
   "source": [
    "loan_ord = loans.copy()"
   ]
  },
  {
   "cell_type": "markdown",
   "metadata": {
    "id": "ZCwZKDREPT2_"
   },
   "source": [
    "# Conhecendo os dados"
   ]
  },
  {
   "cell_type": "markdown",
   "metadata": {
    "id": "zMF6QvEhciZh"
   },
   "source": [
    "Vamos printar as 5 primeiras linhas de dados."
   ]
  },
  {
   "cell_type": "code",
   "execution_count": 8,
   "metadata": {
    "colab": {
     "base_uri": "https://localhost:8080/"
    },
    "id": "oESju62hca98",
    "outputId": "a2a22368-5545-461c-a8ad-d9c875bff85c"
   },
   "outputs": [
    {
     "data": {
      "text/html": [
       "<div>\n",
       "<style scoped>\n",
       "    .dataframe tbody tr th:only-of-type {\n",
       "        vertical-align: middle;\n",
       "    }\n",
       "\n",
       "    .dataframe tbody tr th {\n",
       "        vertical-align: top;\n",
       "    }\n",
       "\n",
       "    .dataframe thead th {\n",
       "        text-align: right;\n",
       "    }\n",
       "</style>\n",
       "<table border=\"1\" class=\"dataframe\">\n",
       "  <thead>\n",
       "    <tr style=\"text-align: right;\">\n",
       "      <th></th>\n",
       "      <th>UniqueID</th>\n",
       "      <th>disbursed_amount</th>\n",
       "      <th>asset_cost</th>\n",
       "      <th>ltv</th>\n",
       "      <th>branch_id</th>\n",
       "      <th>supplier_id</th>\n",
       "      <th>manufacturer_id</th>\n",
       "      <th>Current_pincode_ID</th>\n",
       "      <th>Date.of.Birth</th>\n",
       "      <th>Employment.Type</th>\n",
       "      <th>...</th>\n",
       "      <th>SEC.SANCTIONED.AMOUNT</th>\n",
       "      <th>SEC.DISBURSED.AMOUNT</th>\n",
       "      <th>PRIMARY.INSTAL.AMT</th>\n",
       "      <th>SEC.INSTAL.AMT</th>\n",
       "      <th>NEW.ACCTS.IN.LAST.SIX.MONTHS</th>\n",
       "      <th>DELINQUENT.ACCTS.IN.LAST.SIX.MONTHS</th>\n",
       "      <th>AVERAGE.ACCT.AGE</th>\n",
       "      <th>CREDIT.HISTORY.LENGTH</th>\n",
       "      <th>NO.OF_INQUIRIES</th>\n",
       "      <th>loan_default</th>\n",
       "    </tr>\n",
       "  </thead>\n",
       "  <tbody>\n",
       "    <tr>\n",
       "      <th>0</th>\n",
       "      <td>420825</td>\n",
       "      <td>50578</td>\n",
       "      <td>58400</td>\n",
       "      <td>89.55</td>\n",
       "      <td>67</td>\n",
       "      <td>22807</td>\n",
       "      <td>45</td>\n",
       "      <td>1441</td>\n",
       "      <td>01-01-84</td>\n",
       "      <td>Salaried</td>\n",
       "      <td>...</td>\n",
       "      <td>0</td>\n",
       "      <td>0</td>\n",
       "      <td>0</td>\n",
       "      <td>0</td>\n",
       "      <td>0</td>\n",
       "      <td>0</td>\n",
       "      <td>0yrs 0mon</td>\n",
       "      <td>0yrs 0mon</td>\n",
       "      <td>0</td>\n",
       "      <td>0</td>\n",
       "    </tr>\n",
       "    <tr>\n",
       "      <th>1</th>\n",
       "      <td>537409</td>\n",
       "      <td>47145</td>\n",
       "      <td>65550</td>\n",
       "      <td>73.23</td>\n",
       "      <td>67</td>\n",
       "      <td>22807</td>\n",
       "      <td>45</td>\n",
       "      <td>1502</td>\n",
       "      <td>31-07-85</td>\n",
       "      <td>Self employed</td>\n",
       "      <td>...</td>\n",
       "      <td>0</td>\n",
       "      <td>0</td>\n",
       "      <td>1991</td>\n",
       "      <td>0</td>\n",
       "      <td>0</td>\n",
       "      <td>1</td>\n",
       "      <td>1yrs 11mon</td>\n",
       "      <td>1yrs 11mon</td>\n",
       "      <td>0</td>\n",
       "      <td>1</td>\n",
       "    </tr>\n",
       "    <tr>\n",
       "      <th>2</th>\n",
       "      <td>417566</td>\n",
       "      <td>53278</td>\n",
       "      <td>61360</td>\n",
       "      <td>89.63</td>\n",
       "      <td>67</td>\n",
       "      <td>22807</td>\n",
       "      <td>45</td>\n",
       "      <td>1497</td>\n",
       "      <td>24-08-85</td>\n",
       "      <td>Self employed</td>\n",
       "      <td>...</td>\n",
       "      <td>0</td>\n",
       "      <td>0</td>\n",
       "      <td>0</td>\n",
       "      <td>0</td>\n",
       "      <td>0</td>\n",
       "      <td>0</td>\n",
       "      <td>0yrs 0mon</td>\n",
       "      <td>0yrs 0mon</td>\n",
       "      <td>0</td>\n",
       "      <td>0</td>\n",
       "    </tr>\n",
       "    <tr>\n",
       "      <th>3</th>\n",
       "      <td>624493</td>\n",
       "      <td>57513</td>\n",
       "      <td>66113</td>\n",
       "      <td>88.48</td>\n",
       "      <td>67</td>\n",
       "      <td>22807</td>\n",
       "      <td>45</td>\n",
       "      <td>1501</td>\n",
       "      <td>30-12-93</td>\n",
       "      <td>Self employed</td>\n",
       "      <td>...</td>\n",
       "      <td>0</td>\n",
       "      <td>0</td>\n",
       "      <td>31</td>\n",
       "      <td>0</td>\n",
       "      <td>0</td>\n",
       "      <td>0</td>\n",
       "      <td>0yrs 8mon</td>\n",
       "      <td>1yrs 3mon</td>\n",
       "      <td>1</td>\n",
       "      <td>1</td>\n",
       "    </tr>\n",
       "    <tr>\n",
       "      <th>4</th>\n",
       "      <td>539055</td>\n",
       "      <td>52378</td>\n",
       "      <td>60300</td>\n",
       "      <td>88.39</td>\n",
       "      <td>67</td>\n",
       "      <td>22807</td>\n",
       "      <td>45</td>\n",
       "      <td>1495</td>\n",
       "      <td>09-12-77</td>\n",
       "      <td>Self employed</td>\n",
       "      <td>...</td>\n",
       "      <td>0</td>\n",
       "      <td>0</td>\n",
       "      <td>0</td>\n",
       "      <td>0</td>\n",
       "      <td>0</td>\n",
       "      <td>0</td>\n",
       "      <td>0yrs 0mon</td>\n",
       "      <td>0yrs 0mon</td>\n",
       "      <td>1</td>\n",
       "      <td>1</td>\n",
       "    </tr>\n",
       "  </tbody>\n",
       "</table>\n",
       "<p>5 rows × 41 columns</p>\n",
       "</div>"
      ],
      "text/plain": [
       "   UniqueID  disbursed_amount  asset_cost    ltv  branch_id  supplier_id  \\\n",
       "0    420825             50578       58400  89.55         67        22807   \n",
       "1    537409             47145       65550  73.23         67        22807   \n",
       "2    417566             53278       61360  89.63         67        22807   \n",
       "3    624493             57513       66113  88.48         67        22807   \n",
       "4    539055             52378       60300  88.39         67        22807   \n",
       "\n",
       "   manufacturer_id  Current_pincode_ID Date.of.Birth Employment.Type  ...  \\\n",
       "0               45                1441      01-01-84        Salaried  ...   \n",
       "1               45                1502      31-07-85   Self employed  ...   \n",
       "2               45                1497      24-08-85   Self employed  ...   \n",
       "3               45                1501      30-12-93   Self employed  ...   \n",
       "4               45                1495      09-12-77   Self employed  ...   \n",
       "\n",
       "  SEC.SANCTIONED.AMOUNT  SEC.DISBURSED.AMOUNT  PRIMARY.INSTAL.AMT  \\\n",
       "0                     0                     0                   0   \n",
       "1                     0                     0                1991   \n",
       "2                     0                     0                   0   \n",
       "3                     0                     0                  31   \n",
       "4                     0                     0                   0   \n",
       "\n",
       "   SEC.INSTAL.AMT  NEW.ACCTS.IN.LAST.SIX.MONTHS  \\\n",
       "0               0                             0   \n",
       "1               0                             0   \n",
       "2               0                             0   \n",
       "3               0                             0   \n",
       "4               0                             0   \n",
       "\n",
       "   DELINQUENT.ACCTS.IN.LAST.SIX.MONTHS  AVERAGE.ACCT.AGE  \\\n",
       "0                                    0         0yrs 0mon   \n",
       "1                                    1        1yrs 11mon   \n",
       "2                                    0         0yrs 0mon   \n",
       "3                                    0         0yrs 8mon   \n",
       "4                                    0         0yrs 0mon   \n",
       "\n",
       "   CREDIT.HISTORY.LENGTH  NO.OF_INQUIRIES  loan_default  \n",
       "0              0yrs 0mon                0             0  \n",
       "1             1yrs 11mon                0             1  \n",
       "2              0yrs 0mon                0             0  \n",
       "3              1yrs 3mon                1             1  \n",
       "4              0yrs 0mon                1             1  \n",
       "\n",
       "[5 rows x 41 columns]"
      ]
     },
     "execution_count": 8,
     "metadata": {},
     "output_type": "execute_result"
    }
   ],
   "source": [
    "loans.head()"
   ]
  },
  {
   "cell_type": "markdown",
   "metadata": {
    "id": "InSrnwpWSDTW"
   },
   "source": [
    "Vamos verificar os tipos de dados e analisar se temos alguma coluna com valores NaN."
   ]
  },
  {
   "cell_type": "code",
   "execution_count": 9,
   "metadata": {
    "colab": {
     "base_uri": "https://localhost:8080/"
    },
    "id": "5eYLdHiWPXjH",
    "outputId": "d004f805-99be-47f4-ea70-ca8b1b5fd25f"
   },
   "outputs": [
    {
     "name": "stdout",
     "output_type": "stream",
     "text": [
      "<class 'pandas.core.frame.DataFrame'>\n",
      "RangeIndex: 233154 entries, 0 to 233153\n",
      "Data columns (total 41 columns):\n",
      " #   Column                               Non-Null Count   Dtype  \n",
      "---  ------                               --------------   -----  \n",
      " 0   UniqueID                             233154 non-null  int64  \n",
      " 1   disbursed_amount                     233154 non-null  int64  \n",
      " 2   asset_cost                           233154 non-null  int64  \n",
      " 3   ltv                                  233154 non-null  float64\n",
      " 4   branch_id                            233154 non-null  int64  \n",
      " 5   supplier_id                          233154 non-null  int64  \n",
      " 6   manufacturer_id                      233154 non-null  int64  \n",
      " 7   Current_pincode_ID                   233154 non-null  int64  \n",
      " 8   Date.of.Birth                        233154 non-null  object \n",
      " 9   Employment.Type                      225493 non-null  object \n",
      " 10  DisbursalDate                        233154 non-null  object \n",
      " 11  State_ID                             233154 non-null  int64  \n",
      " 12  Employee_code_ID                     233154 non-null  int64  \n",
      " 13  MobileNo_Avl_Flag                    233154 non-null  int64  \n",
      " 14  Aadhar_flag                          233154 non-null  int64  \n",
      " 15  PAN_flag                             233154 non-null  int64  \n",
      " 16  VoterID_flag                         233154 non-null  int64  \n",
      " 17  Driving_flag                         233154 non-null  int64  \n",
      " 18  Passport_flag                        233154 non-null  int64  \n",
      " 19  PERFORM_CNS.SCORE                    233154 non-null  int64  \n",
      " 20  PERFORM_CNS.SCORE.DESCRIPTION        233154 non-null  object \n",
      " 21  PRI.NO.OF.ACCTS                      233154 non-null  int64  \n",
      " 22  PRI.ACTIVE.ACCTS                     233154 non-null  int64  \n",
      " 23  PRI.OVERDUE.ACCTS                    233154 non-null  int64  \n",
      " 24  PRI.CURRENT.BALANCE                  233154 non-null  int64  \n",
      " 25  PRI.SANCTIONED.AMOUNT                233154 non-null  int64  \n",
      " 26  PRI.DISBURSED.AMOUNT                 233154 non-null  int64  \n",
      " 27  SEC.NO.OF.ACCTS                      233154 non-null  int64  \n",
      " 28  SEC.ACTIVE.ACCTS                     233154 non-null  int64  \n",
      " 29  SEC.OVERDUE.ACCTS                    233154 non-null  int64  \n",
      " 30  SEC.CURRENT.BALANCE                  233154 non-null  int64  \n",
      " 31  SEC.SANCTIONED.AMOUNT                233154 non-null  int64  \n",
      " 32  SEC.DISBURSED.AMOUNT                 233154 non-null  int64  \n",
      " 33  PRIMARY.INSTAL.AMT                   233154 non-null  int64  \n",
      " 34  SEC.INSTAL.AMT                       233154 non-null  int64  \n",
      " 35  NEW.ACCTS.IN.LAST.SIX.MONTHS         233154 non-null  int64  \n",
      " 36  DELINQUENT.ACCTS.IN.LAST.SIX.MONTHS  233154 non-null  int64  \n",
      " 37  AVERAGE.ACCT.AGE                     233154 non-null  object \n",
      " 38  CREDIT.HISTORY.LENGTH                233154 non-null  object \n",
      " 39  NO.OF_INQUIRIES                      233154 non-null  int64  \n",
      " 40  loan_default                         233154 non-null  int64  \n",
      "dtypes: float64(1), int64(34), object(6)\n",
      "memory usage: 72.9+ MB\n"
     ]
    }
   ],
   "source": [
    "loans.info()"
   ]
  },
  {
   "cell_type": "markdown",
   "metadata": {
    "id": "y-Yw3d00PfFv"
   },
   "source": [
    "Observe que a coluna Employment.Type possui menos células preenchidas do que o total de linhas. Portanto, será necessário realizar a imputação dos dados.\n",
    "\n"
   ]
  },
  {
   "cell_type": "markdown",
   "metadata": {
    "id": "55J8okm7SbwW"
   },
   "source": [
    "#### **Informações de Identificação do Cliente**\n",
    "* **UniqueID:** Identificador único do cliente para diferenciar registros individuais.\n",
    "\n",
    "#### **Variável-Alvo**\n",
    "* **loan_default:** Indicador se o cliente não pagou a primeira parcela do empréstimo na data de vencimento (1 = inadimplente, 0 = adimplente).\n",
    "\n",
    "#### **Detalhes de Empréstimo**\n",
    "* **disbursed_amount:** Valor do empréstimo desembolsado ao cliente.\n",
    "* **asset_cost:** Custo do ativo financiado (ex.: veículo).\n",
    "* **ltv (Loan-to-Value):** Proporção entre o valor do empréstimo e o custo do ativo financiado.\n",
    "\n",
    "#### **Informações Geográficas e Operacionais**\n",
    "* **branch_id:** Identificação da agência que desembolsou o empréstimo.\n",
    "* **supplier_id:** Identificação da concessionária onde o ativo foi financiado.\n",
    "* **manufacturer_id:** Identificação do fabricante do ativo (ex.: Hero, Honda, TVS).\n",
    "* **Current_pincode:** Código postal do cliente no momento do empréstimo.\n",
    "* **State_ID:** Estado onde o empréstimo foi desembolsado.\n",
    "* **Employee_code_ID:** Identificação do funcionário que processou o empréstimo.\n",
    "\n",
    "#### **Informações Demográficas**\n",
    "* **Date.of.Birth:** Data de nascimento do cliente.\n",
    "* **Employment.Type:** Tipo de emprego do cliente (assalariado ou autônomo).\n",
    "\n",
    "#### **Documentos Compartilhados**\n",
    "Indicadores binários (1 = Sim, 0 = Não) para documentos compartilhados pelo cliente:\n",
    "* **MobileNo_Avl_Flag:** Número de celular.\n",
    "* **Aadhar_flag:** Aadhaar (identificação nacional única).\n",
    "* **PAN_flag:** PAN (identificação tributária da Índia).\n",
    "* **VoterID_flag:** Documento de eleitor.\n",
    "* **Driving_flag:** Carteira de motorista (DL).\n",
    "* **Passport_flag:** Passaporte.\n",
    "\n",
    "#### **Histórico de Crédito e Comportamento**\n",
    "* **PERFORM_CNS.SCORE:** Pontuação de crédito do cliente usada para avaliação de risco.\n",
    "* **PERFORM_CNS.SCORE.DESCRIPTION:** Descrição associada à pontuação de crédito.\n",
    "\n",
    "##### **Empréstimos Primários (PRI):**\n",
    "* **PRI.NO.OF.ACCTS:** Número total de contas de empréstimos registrados.\n",
    "* **PRI.ACTIVE.ACCTS:** Contagem de contas de empréstimos ativas.\n",
    "* **PRI.OVERDUE.ACCTS:** Contagem de contas de empréstimos em atraso.\n",
    "* **PRI.CURRENT.BALANCE:** Saldo principal total em aberto nos empréstimos ativos.\n",
    "* **PRI.SANCTIONED.AMOUNT:** Valor total sancionado para empréstimos.\n",
    "* **PRI.DISBURSED.AMOUNT:** Valor total desembolsado para empréstimos.\n",
    "\n",
    "##### **Empréstimos Secundários (SEC):**\n",
    "* **SEC.NO.OF.ACCTS:** Número total de contas de empréstimos secundários.\n",
    "* **SEC.ACTIVE.ACCTS:** Contagem de contas secundárias ativas.\n",
    "* **SEC.OVERDUE.ACCTS:** Contagem de contas secundárias em atraso.\n",
    "* **SEC.CURRENT.BALANCE:** Saldo principal total em aberto de empréstimos secundários.\n",
    "* **SEC.SANCTIONED.AMOUNT:** Valor total sancionado para empréstimos secundários.\n",
    "* **SEC.DISBURSED.AMOUNT:** Valor total desembolsado para empréstimos secundários.\n",
    "\n",
    "#### **Comportamento Financeiro**\n",
    "* **PRIMARY.INSTAL.AMT:** Valor das parcelas (EMI) de empréstimos primários.\n",
    "* **SEC.INSTAL.AMT:** Valor das parcelas (EMI) de empréstimos secundários.\n",
    "* **NEW.ACCTS.IN.LAST.SIX.MONTHS:** Quantidade de novos empréstimos tomados pelo cliente nos últimos 6 meses.\n",
    "* **DELINQUENT.ACCTS.IN.LAST.SIX.MONTHS:** Contagem de contas inadimplentes nos últimos 6 meses.\n",
    "* **AVERAGE.ACCT.AGE:** Prazo médio dos empréstimos em meses ou anos.\n",
    "* **CREDIT.HISTORY.LENGTH:** Duração do histórico de crédito desde o primeiro empréstimo.\n",
    "* **NO.OF_INQUIRIES:** Número de consultas realizadas pelo cliente para obter empréstimos (indicador de busca por crédito).\n"
   ]
  },
  {
   "cell_type": "markdown",
   "metadata": {
    "id": "UZnmx9AIxDQW"
   },
   "source": [
    "# Separando o conjuto de dados"
   ]
  },
  {
   "cell_type": "markdown",
   "metadata": {
    "id": "3Z9SUxsXWwP3"
   },
   "source": [
    "O nosso dataset original (fornecido pela empresa) já está divido entre treino e teste. Importamos, por enquanto, apenas o conjunto de treino.\n",
    "\n",
    "Visando evitar ao máximo o enviezamento, vamos trabalhar exclusivamente com nosso conjunto de treino. Inclusive o mesmo entre um treino e teste, onde nesse segundo calcularemos uma estimativa do erro de generalização, antes mesmo de importar o real conjunto de teste. Essa escolha nos permite fazer mudanças no nosso modelo antes calcularmos o real erro de generalização."
   ]
  },
  {
   "cell_type": "markdown",
   "metadata": {
    "id": "9mcVnwvg2ua8"
   },
   "source": [
    "Agora, vamos separar nosso conjunto de dados entre treino e teste de duas formas:\n",
    "\n",
    "* Estratificando uma feature;\n",
    "* Separando de maneira aleatória.\n",
    "\n",
    "Após essas duas abordagens, vamos compará-las para ver qual escolher."
   ]
  },
  {
   "cell_type": "markdown",
   "metadata": {
    "id": "xf5snWE1Yqx3"
   },
   "source": [
    "Iremos fazer nossa estratificação com base na PERFORM_CNS.SCORE.DESCRIPTION para garantir que nosso conjunto de teste tenha representatividade de todos os perfis de risco. Além disso, acreditamos que essa variável tenha grande correlação com nossa variável alvo."
   ]
  },
  {
   "cell_type": "code",
   "execution_count": 10,
   "metadata": {
    "colab": {
     "base_uri": "https://localhost:8080/"
    },
    "id": "BOeKcZIhzlqp",
    "outputId": "4dfc6079-0c52-4eab-ab6f-839a18ba2f9f"
   },
   "outputs": [
    {
     "data": {
      "text/plain": [
       "PERFORM_CNS.SCORE.DESCRIPTION\n",
       "No Bureau History Available                                116950\n",
       "C-Very Low Risk                                             16045\n",
       "A-Very Low Risk                                             14124\n",
       "D-Very Low Risk                                             11358\n",
       "B-Very Low Risk                                              9201\n",
       "M-Very High Risk                                             8776\n",
       "F-Low Risk                                                   8485\n",
       "K-High Risk                                                  8277\n",
       "H-Medium Risk                                                6855\n",
       "E-Low Risk                                                   5821\n",
       "I-Medium Risk                                                5557\n",
       "G-Low Risk                                                   3988\n",
       "Not Scored: Sufficient History Not Available                 3765\n",
       "J-High Risk                                                  3748\n",
       "Not Scored: Not Enough Info available on the customer        3672\n",
       "Not Scored: No Activity seen on the customer (Inactive)      2885\n",
       "Not Scored: No Updates available in last 36 months           1534\n",
       "L-Very High Risk                                             1134\n",
       "Not Scored: Only a Guarantor                                  976\n",
       "Not Scored: More than 50 active Accounts found                  3\n",
       "Name: count, dtype: int64"
      ]
     },
     "execution_count": 10,
     "metadata": {},
     "output_type": "execute_result"
    }
   ],
   "source": [
    "loans[\"PERFORM_CNS.SCORE.DESCRIPTION\"].value_counts()"
   ]
  },
  {
   "cell_type": "markdown",
   "metadata": {
    "id": "VwyvE1zM0090"
   },
   "source": [
    "Vamos estraticar usando as classes ja estabelecidas do PERFORM_CNS.SCORE.DESCRIPTION"
   ]
  },
  {
   "cell_type": "code",
   "execution_count": 11,
   "metadata": {
    "id": "dQGRUzssz6oh"
   },
   "outputs": [],
   "source": [
    "from sklearn.model_selection import StratifiedShuffleSplit\n",
    "\n",
    "split = StratifiedShuffleSplit(n_splits=1, test_size=0.2, random_state=seed)\n",
    "\n",
    "for train_index, test_index in split.split(loans, loans[\"PERFORM_CNS.SCORE.DESCRIPTION\"]):\n",
    "    strat_train_set = loans.loc[train_index]\n",
    "    strat_test_set = loans.loc[test_index]"
   ]
  },
  {
   "cell_type": "markdown",
   "metadata": {
    "id": "uTqPqmtp0uJ4"
   },
   "source": [
    "Vamos agora verificar como está distribuída a feature \"PERFORM_CNS.SCORE.DESCRIPTION\" no conjunto treino."
   ]
  },
  {
   "cell_type": "code",
   "execution_count": 12,
   "metadata": {
    "colab": {
     "base_uri": "https://localhost:8080/"
    },
    "id": "mAUeiXDp0pMN",
    "outputId": "77dd7c5d-b178-44cd-88ef-f15091c37bb2"
   },
   "outputs": [
    {
     "data": {
      "text/plain": [
       "PERFORM_CNS.SCORE.DESCRIPTION\n",
       "No Bureau History Available                                0.501598\n",
       "C-Very Low Risk                                            0.068817\n",
       "A-Very Low Risk                                            0.060582\n",
       "D-Very Low Risk                                            0.048723\n",
       "B-Very Low Risk                                            0.039459\n",
       "M-Very High Risk                                           0.037636\n",
       "F-Low Risk                                                 0.036392\n",
       "K-High Risk                                                0.035491\n",
       "H-Medium Risk                                              0.029401\n",
       "E-Low Risk                                                 0.024962\n",
       "I-Medium Risk                                              0.023825\n",
       "G-Low Risk                                                 0.017113\n",
       "Not Scored: Sufficient History Not Available               0.016148\n",
       "J-High Risk                                                0.016084\n",
       "Not Scored: Not Enough Info available on the customer      0.015741\n",
       "Not Scored: No Activity seen on the customer (Inactive)    0.012374\n",
       "Not Scored: No Updates available in last 36 months         0.006584\n",
       "L-Very High Risk                                           0.004868\n",
       "Not Scored: Only a Guarantor                               0.004182\n",
       "Not Scored: More than 50 active Accounts found             0.000021\n",
       "Name: count, dtype: float64"
      ]
     },
     "execution_count": 12,
     "metadata": {},
     "output_type": "execute_result"
    }
   ],
   "source": [
    "strat_test_set[\"PERFORM_CNS.SCORE.DESCRIPTION\"].value_counts() / len(strat_test_set)"
   ]
  },
  {
   "cell_type": "code",
   "execution_count": 13,
   "metadata": {
    "colab": {
     "base_uri": "https://localhost:8080/"
    },
    "id": "npBU5g622GSi",
    "outputId": "33ed1b0b-ba8d-47f9-ba2e-0248ef54146b"
   },
   "outputs": [
    {
     "data": {
      "text/plain": [
       "PERFORM_CNS.SCORE.DESCRIPTION\n",
       "No Bureau History Available                                0.501600\n",
       "C-Very Low Risk                                            0.068817\n",
       "A-Very Low Risk                                            0.060578\n",
       "D-Very Low Risk                                            0.048715\n",
       "B-Very Low Risk                                            0.039463\n",
       "M-Very High Risk                                           0.037640\n",
       "F-Low Risk                                                 0.036392\n",
       "K-High Risk                                                0.035500\n",
       "H-Medium Risk                                              0.029401\n",
       "E-Low Risk                                                 0.024966\n",
       "I-Medium Risk                                              0.023834\n",
       "G-Low Risk                                                 0.017105\n",
       "Not Scored: Sufficient History Not Available               0.016148\n",
       "J-High Risk                                                0.016075\n",
       "Not Scored: Not Enough Info available on the customer      0.015749\n",
       "Not Scored: No Activity seen on the customer (Inactive)    0.012374\n",
       "Not Scored: No Updates available in last 36 months         0.006579\n",
       "L-Very High Risk                                           0.004864\n",
       "Not Scored: Only a Guarantor                               0.004186\n",
       "Not Scored: More than 50 active Accounts found             0.000013\n",
       "Name: count, dtype: float64"
      ]
     },
     "execution_count": 13,
     "metadata": {},
     "output_type": "execute_result"
    }
   ],
   "source": [
    "loans[\"PERFORM_CNS.SCORE.DESCRIPTION\"].value_counts() / len(loans)"
   ]
  },
  {
   "cell_type": "markdown",
   "metadata": {
    "id": "GVpWupdqq7Z-"
   },
   "source": [
    "Vamos definir uma função para comparar os métodos de separação."
   ]
  },
  {
   "cell_type": "code",
   "execution_count": 14,
   "metadata": {
    "id": "GXVTegES22j-"
   },
   "outputs": [],
   "source": [
    "def SCORE_DESCRIPTION(data):\n",
    "    return data[\"PERFORM_CNS.SCORE.DESCRIPTION\"].value_counts() / len(data)"
   ]
  },
  {
   "cell_type": "markdown",
   "metadata": {
    "id": "yivipVGU26X4"
   },
   "source": [
    "## Separação aleatória"
   ]
  },
  {
   "cell_type": "markdown",
   "metadata": {
    "id": "C93Zjt3cq_e2"
   },
   "source": [
    "Agora vamos gerar um novo conjunto de teste e treino, mas usando amostragem aleatória."
   ]
  },
  {
   "cell_type": "code",
   "execution_count": 15,
   "metadata": {
    "id": "ejquf6xx2_2k"
   },
   "outputs": [],
   "source": [
    "from sklearn.model_selection import train_test_split\n",
    "\n",
    "train_set, test_set = train_test_split(loans, test_size=0.2, random_state=seed)"
   ]
  },
  {
   "cell_type": "markdown",
   "metadata": {
    "id": "1DcerZTf3JnD"
   },
   "source": [
    "## Comparação dos métodos de separação"
   ]
  },
  {
   "cell_type": "markdown",
   "metadata": {
    "id": "P35aJnj-rEAc"
   },
   "source": [
    "Agora vamos comparar ambos os métodos de separação. Para isso veja o dataframe abaixo em que utilizamos a fórmula\n",
    "\n",
    "$ \\text{Erro percentual} = \\left( \\frac{\\text{Proporção dos conjuntos de teste}}{\\text{Proporção dos conjuntos geral}} \\right) \\times 100 - 100 $\n",
    "\n",
    "para calcular o erro percentual.\n",
    "\n",
    "Dessa forma, o erro percentual mostra a diferença entre a proporção da categoria \"PERFORM_CNS.SCORE.DESCRIPTION\" no conjunto de teste e a proporção no conjunto original, em termos percentuais. Um valor próximo de 0 indica que a distribuição da categoria no conjunto de teste é semelhante à distribuição no conjunto original, enquanto valores maiores (positivos ou negativos) indicam uma diferença maior."
   ]
  },
  {
   "cell_type": "code",
   "execution_count": 16,
   "metadata": {
    "colab": {
     "base_uri": "https://localhost:8080/"
    },
    "id": "-WBfgEY73UMZ",
    "outputId": "b1fdebd1-129b-4923-c504-ef7953b62344"
   },
   "outputs": [
    {
     "data": {
      "text/html": [
       "<div>\n",
       "<style scoped>\n",
       "    .dataframe tbody tr th:only-of-type {\n",
       "        vertical-align: middle;\n",
       "    }\n",
       "\n",
       "    .dataframe tbody tr th {\n",
       "        vertical-align: top;\n",
       "    }\n",
       "\n",
       "    .dataframe thead th {\n",
       "        text-align: right;\n",
       "    }\n",
       "</style>\n",
       "<table border=\"1\" class=\"dataframe\">\n",
       "  <thead>\n",
       "    <tr style=\"text-align: right;\">\n",
       "      <th></th>\n",
       "      <th>Geral</th>\n",
       "      <th>Estratificado</th>\n",
       "      <th>Aleatorio</th>\n",
       "      <th>Aleatório %erro</th>\n",
       "      <th>Estratificado %erro</th>\n",
       "    </tr>\n",
       "    <tr>\n",
       "      <th>PERFORM_CNS.SCORE.DESCRIPTION</th>\n",
       "      <th></th>\n",
       "      <th></th>\n",
       "      <th></th>\n",
       "      <th></th>\n",
       "      <th></th>\n",
       "    </tr>\n",
       "  </thead>\n",
       "  <tbody>\n",
       "    <tr>\n",
       "      <th>A-Very Low Risk</th>\n",
       "      <td>0.060578</td>\n",
       "      <td>0.060582</td>\n",
       "      <td>0.060775</td>\n",
       "      <td>0.325256</td>\n",
       "      <td>0.006651</td>\n",
       "    </tr>\n",
       "    <tr>\n",
       "      <th>B-Very Low Risk</th>\n",
       "      <td>0.039463</td>\n",
       "      <td>0.039459</td>\n",
       "      <td>0.040424</td>\n",
       "      <td>2.434079</td>\n",
       "      <td>-0.011297</td>\n",
       "    </tr>\n",
       "    <tr>\n",
       "      <th>C-Very Low Risk</th>\n",
       "      <td>0.068817</td>\n",
       "      <td>0.068817</td>\n",
       "      <td>0.068538</td>\n",
       "      <td>-0.405538</td>\n",
       "      <td>-0.000429</td>\n",
       "    </tr>\n",
       "    <tr>\n",
       "      <th>D-Very Low Risk</th>\n",
       "      <td>0.048715</td>\n",
       "      <td>0.048723</td>\n",
       "      <td>0.049366</td>\n",
       "      <td>1.337829</td>\n",
       "      <td>0.017180</td>\n",
       "    </tr>\n",
       "    <tr>\n",
       "      <th>E-Low Risk</th>\n",
       "      <td>0.024966</td>\n",
       "      <td>0.024962</td>\n",
       "      <td>0.025026</td>\n",
       "      <td>0.240079</td>\n",
       "      <td>-0.017608</td>\n",
       "    </tr>\n",
       "    <tr>\n",
       "      <th>F-Low Risk</th>\n",
       "      <td>0.036392</td>\n",
       "      <td>0.036392</td>\n",
       "      <td>0.037872</td>\n",
       "      <td>4.065552</td>\n",
       "      <td>-0.000429</td>\n",
       "    </tr>\n",
       "    <tr>\n",
       "      <th>G-Low Risk</th>\n",
       "      <td>0.017105</td>\n",
       "      <td>0.017113</td>\n",
       "      <td>0.016749</td>\n",
       "      <td>-2.081664</td>\n",
       "      <td>0.049721</td>\n",
       "    </tr>\n",
       "    <tr>\n",
       "      <th>H-Medium Risk</th>\n",
       "      <td>0.029401</td>\n",
       "      <td>0.029401</td>\n",
       "      <td>0.029851</td>\n",
       "      <td>1.531293</td>\n",
       "      <td>-0.000429</td>\n",
       "    </tr>\n",
       "    <tr>\n",
       "      <th>I-Medium Risk</th>\n",
       "      <td>0.023834</td>\n",
       "      <td>0.023825</td>\n",
       "      <td>0.023954</td>\n",
       "      <td>0.503438</td>\n",
       "      <td>-0.036419</td>\n",
       "    </tr>\n",
       "    <tr>\n",
       "      <th>J-High Risk</th>\n",
       "      <td>0.016075</td>\n",
       "      <td>0.016084</td>\n",
       "      <td>0.015011</td>\n",
       "      <td>-6.617263</td>\n",
       "      <td>0.052933</td>\n",
       "    </tr>\n",
       "    <tr>\n",
       "      <th>K-High Risk</th>\n",
       "      <td>0.035500</td>\n",
       "      <td>0.035491</td>\n",
       "      <td>0.035191</td>\n",
       "      <td>-0.870306</td>\n",
       "      <td>-0.024592</td>\n",
       "    </tr>\n",
       "    <tr>\n",
       "      <th>L-Very High Risk</th>\n",
       "      <td>0.004864</td>\n",
       "      <td>0.004868</td>\n",
       "      <td>0.004589</td>\n",
       "      <td>-5.644144</td>\n",
       "      <td>0.087754</td>\n",
       "    </tr>\n",
       "    <tr>\n",
       "      <th>M-Very High Risk</th>\n",
       "      <td>0.037640</td>\n",
       "      <td>0.037636</td>\n",
       "      <td>0.037958</td>\n",
       "      <td>0.842776</td>\n",
       "      <td>-0.011824</td>\n",
       "    </tr>\n",
       "    <tr>\n",
       "      <th>No Bureau History Available</th>\n",
       "      <td>0.501600</td>\n",
       "      <td>0.501598</td>\n",
       "      <td>0.499539</td>\n",
       "      <td>-0.410859</td>\n",
       "      <td>-0.000429</td>\n",
       "    </tr>\n",
       "    <tr>\n",
       "      <th>Not Scored: More than 50 active Accounts found</th>\n",
       "      <td>0.000013</td>\n",
       "      <td>0.000021</td>\n",
       "      <td>0.000021</td>\n",
       "      <td>66.665952</td>\n",
       "      <td>66.665952</td>\n",
       "    </tr>\n",
       "    <tr>\n",
       "      <th>Not Scored: No Activity seen on the customer (Inactive)</th>\n",
       "      <td>0.012374</td>\n",
       "      <td>0.012374</td>\n",
       "      <td>0.011795</td>\n",
       "      <td>-4.679785</td>\n",
       "      <td>-0.000429</td>\n",
       "    </tr>\n",
       "    <tr>\n",
       "      <th>Not Scored: No Updates available in last 36 months</th>\n",
       "      <td>0.006579</td>\n",
       "      <td>0.006584</td>\n",
       "      <td>0.007313</td>\n",
       "      <td>11.146851</td>\n",
       "      <td>0.064760</td>\n",
       "    </tr>\n",
       "    <tr>\n",
       "      <th>Not Scored: Not Enough Info available on the customer</th>\n",
       "      <td>0.015749</td>\n",
       "      <td>0.015741</td>\n",
       "      <td>0.016019</td>\n",
       "      <td>1.715250</td>\n",
       "      <td>-0.054895</td>\n",
       "    </tr>\n",
       "    <tr>\n",
       "      <th>Not Scored: Only a Guarantor</th>\n",
       "      <td>0.004186</td>\n",
       "      <td>0.004182</td>\n",
       "      <td>0.003560</td>\n",
       "      <td>-14.959381</td>\n",
       "      <td>-0.102887</td>\n",
       "    </tr>\n",
       "    <tr>\n",
       "      <th>Not Scored: Sufficient History Not Available</th>\n",
       "      <td>0.016148</td>\n",
       "      <td>0.016148</td>\n",
       "      <td>0.016448</td>\n",
       "      <td>1.858793</td>\n",
       "      <td>-0.000429</td>\n",
       "    </tr>\n",
       "  </tbody>\n",
       "</table>\n",
       "</div>"
      ],
      "text/plain": [
       "                                                       Geral  Estratificado  \\\n",
       "PERFORM_CNS.SCORE.DESCRIPTION                                                 \n",
       "A-Very Low Risk                                     0.060578       0.060582   \n",
       "B-Very Low Risk                                     0.039463       0.039459   \n",
       "C-Very Low Risk                                     0.068817       0.068817   \n",
       "D-Very Low Risk                                     0.048715       0.048723   \n",
       "E-Low Risk                                          0.024966       0.024962   \n",
       "F-Low Risk                                          0.036392       0.036392   \n",
       "G-Low Risk                                          0.017105       0.017113   \n",
       "H-Medium Risk                                       0.029401       0.029401   \n",
       "I-Medium Risk                                       0.023834       0.023825   \n",
       "J-High Risk                                         0.016075       0.016084   \n",
       "K-High Risk                                         0.035500       0.035491   \n",
       "L-Very High Risk                                    0.004864       0.004868   \n",
       "M-Very High Risk                                    0.037640       0.037636   \n",
       "No Bureau History Available                         0.501600       0.501598   \n",
       "Not Scored: More than 50 active Accounts found      0.000013       0.000021   \n",
       "Not Scored: No Activity seen on the customer (I...  0.012374       0.012374   \n",
       "Not Scored: No Updates available in last 36 months  0.006579       0.006584   \n",
       "Not Scored: Not Enough Info available on the cu...  0.015749       0.015741   \n",
       "Not Scored: Only a Guarantor                        0.004186       0.004182   \n",
       "Not Scored: Sufficient History Not Available        0.016148       0.016148   \n",
       "\n",
       "                                                    Aleatorio  \\\n",
       "PERFORM_CNS.SCORE.DESCRIPTION                                   \n",
       "A-Very Low Risk                                      0.060775   \n",
       "B-Very Low Risk                                      0.040424   \n",
       "C-Very Low Risk                                      0.068538   \n",
       "D-Very Low Risk                                      0.049366   \n",
       "E-Low Risk                                           0.025026   \n",
       "F-Low Risk                                           0.037872   \n",
       "G-Low Risk                                           0.016749   \n",
       "H-Medium Risk                                        0.029851   \n",
       "I-Medium Risk                                        0.023954   \n",
       "J-High Risk                                          0.015011   \n",
       "K-High Risk                                          0.035191   \n",
       "L-Very High Risk                                     0.004589   \n",
       "M-Very High Risk                                     0.037958   \n",
       "No Bureau History Available                          0.499539   \n",
       "Not Scored: More than 50 active Accounts found       0.000021   \n",
       "Not Scored: No Activity seen on the customer (I...   0.011795   \n",
       "Not Scored: No Updates available in last 36 months   0.007313   \n",
       "Not Scored: Not Enough Info available on the cu...   0.016019   \n",
       "Not Scored: Only a Guarantor                         0.003560   \n",
       "Not Scored: Sufficient History Not Available         0.016448   \n",
       "\n",
       "                                                    Aleatório %erro  \\\n",
       "PERFORM_CNS.SCORE.DESCRIPTION                                         \n",
       "A-Very Low Risk                                            0.325256   \n",
       "B-Very Low Risk                                            2.434079   \n",
       "C-Very Low Risk                                           -0.405538   \n",
       "D-Very Low Risk                                            1.337829   \n",
       "E-Low Risk                                                 0.240079   \n",
       "F-Low Risk                                                 4.065552   \n",
       "G-Low Risk                                                -2.081664   \n",
       "H-Medium Risk                                              1.531293   \n",
       "I-Medium Risk                                              0.503438   \n",
       "J-High Risk                                               -6.617263   \n",
       "K-High Risk                                               -0.870306   \n",
       "L-Very High Risk                                          -5.644144   \n",
       "M-Very High Risk                                           0.842776   \n",
       "No Bureau History Available                               -0.410859   \n",
       "Not Scored: More than 50 active Accounts found            66.665952   \n",
       "Not Scored: No Activity seen on the customer (I...        -4.679785   \n",
       "Not Scored: No Updates available in last 36 months        11.146851   \n",
       "Not Scored: Not Enough Info available on the cu...         1.715250   \n",
       "Not Scored: Only a Guarantor                             -14.959381   \n",
       "Not Scored: Sufficient History Not Available               1.858793   \n",
       "\n",
       "                                                    Estratificado %erro  \n",
       "PERFORM_CNS.SCORE.DESCRIPTION                                            \n",
       "A-Very Low Risk                                                0.006651  \n",
       "B-Very Low Risk                                               -0.011297  \n",
       "C-Very Low Risk                                               -0.000429  \n",
       "D-Very Low Risk                                                0.017180  \n",
       "E-Low Risk                                                    -0.017608  \n",
       "F-Low Risk                                                    -0.000429  \n",
       "G-Low Risk                                                     0.049721  \n",
       "H-Medium Risk                                                 -0.000429  \n",
       "I-Medium Risk                                                 -0.036419  \n",
       "J-High Risk                                                    0.052933  \n",
       "K-High Risk                                                   -0.024592  \n",
       "L-Very High Risk                                               0.087754  \n",
       "M-Very High Risk                                              -0.011824  \n",
       "No Bureau History Available                                   -0.000429  \n",
       "Not Scored: More than 50 active Accounts found                66.665952  \n",
       "Not Scored: No Activity seen on the customer (I...            -0.000429  \n",
       "Not Scored: No Updates available in last 36 months             0.064760  \n",
       "Not Scored: Not Enough Info available on the cu...            -0.054895  \n",
       "Not Scored: Only a Guarantor                                  -0.102887  \n",
       "Not Scored: Sufficient History Not Available                  -0.000429  "
      ]
     },
     "execution_count": 16,
     "metadata": {},
     "output_type": "execute_result"
    }
   ],
   "source": [
    "compare_props = pd.DataFrame({\n",
    "    \"Geral\": SCORE_DESCRIPTION(loans),\n",
    "    \"Estratificado\":  SCORE_DESCRIPTION(strat_test_set),\n",
    "    \"Aleatorio\":  SCORE_DESCRIPTION(test_set),\n",
    "}).sort_index()\n",
    "\n",
    "compare_props[\"Aleatório %erro\"] = 100 * compare_props[\"Aleatorio\"] / compare_props[\"Geral\"] - 100\n",
    "compare_props[\"Estratificado %erro\"] = 100 * compare_props[\"Estratificado\"] / compare_props[\"Geral\"] - 100\n",
    "\n",
    "compare_props"
   ]
  },
  {
   "cell_type": "markdown",
   "metadata": {
    "id": "ZoStyTY_s_5q"
   },
   "source": [
    "A partir do dicionário fornecido pela empresa, acreditamos que a descrição do score seja feita de acordo com certas notas de corte, no seguinte sentido: Um cliente será classificado como sendo do \"Tipo 1\" se tiver um score de $ 0$ a $x_1$ será classificado do \"Tipo 2\" se tiver um score entre $x_1$ e $x_2$ e assim por diante. Sendo o \"Tipo 1\", \"Tipo 2\", ..., classificações ordenadas de maior a menor risco."
   ]
  },
  {
   "cell_type": "markdown",
   "metadata": {
    "id": "mepfGfAmwIYM"
   },
   "source": [
    "Vamos primeiramente ordenar a coluna \"PERFORM_CNS.SCORE\" de maneira crescente e vamos criar uma lista com os scores de corte, ou seja, o valor que divide as classificações. Após isso, vamos varificar se a quantidade da lista condiz com a quantidade de classificações que temos (como temos 20 classificações deveriamos ter, idealmente, 19 scores de corte). Isso confirmaria nossa hipótese inicial."
   ]
  },
  {
   "cell_type": "code",
   "execution_count": 17,
   "metadata": {
    "id": "MWoafZ4Z-MU-"
   },
   "outputs": [],
   "source": [
    "loan_ord = loan_ord.sort_values(by=\"PERFORM_CNS.SCORE\")"
   ]
  },
  {
   "cell_type": "code",
   "execution_count": 18,
   "metadata": {
    "colab": {
     "base_uri": "https://localhost:8080/"
    },
    "id": "swIxuFkq9wdc",
    "outputId": "065a38a5-ca16-4bc1-859f-631c03a6c4b5"
   },
   "outputs": [
    {
     "name": "stdout",
     "output_type": "stream",
     "text": [
      "20\n",
      "19\n"
     ]
    }
   ],
   "source": [
    "score_list=[]\n",
    "for i in range(0,len(loan_ord[\"PERFORM_CNS.SCORE.DESCRIPTION\"])-1):\n",
    "  if loan_ord[\"PERFORM_CNS.SCORE.DESCRIPTION\"].iloc[i] != loan_ord[\"PERFORM_CNS.SCORE.DESCRIPTION\"].iloc[i+1]:\n",
    "    score_list.append(loan_ord[\"PERFORM_CNS.SCORE\"].iloc[i])\n",
    "print(loan_ord[\"PERFORM_CNS.SCORE.DESCRIPTION\"].nunique())\n",
    "print(len(score_list))"
   ]
  },
  {
   "cell_type": "markdown",
   "metadata": {
    "id": "xHF1qXNnw6uI"
   },
   "source": [
    "Note que obtemos 19 itens na lista, portanto a informação que a coluna PERFORM_CNS.SCORE.DESCRIPTION nos fornece já foi capturada pela estratificação. Assim, podemos tira-la (faremos isso na preparação de dados)."
   ]
  },
  {
   "cell_type": "markdown",
   "metadata": {
    "id": "H_fhxG1C4fiz"
   },
   "source": [
    "# Visualização da estrutura de dados"
   ]
  },
  {
   "cell_type": "markdown",
   "metadata": {
    "id": "LRFJvJQD4hii"
   },
   "source": [
    "Uma vez separado o dataset em treino e teste, podemos analizar apenas o conjunto de treino, já que nao queremos introduzir viezes. Vamos criar uma cópia do conjunto de treino e chamá-lo de loans."
   ]
  },
  {
   "cell_type": "code",
   "execution_count": 19,
   "metadata": {
    "id": "Pp7PJj2h4taY"
   },
   "outputs": [],
   "source": [
    "loans = strat_train_set.copy()"
   ]
  },
  {
   "cell_type": "markdown",
   "metadata": {
    "id": "7sougvW0zuC9"
   },
   "source": [
    "Vamos printar as cinco primeiras linhas do conjunto treino e descreve-lo, a fim de extrair algumas medidas resumo do mesmo."
   ]
  },
  {
   "cell_type": "code",
   "execution_count": 20,
   "metadata": {
    "colab": {
     "base_uri": "https://localhost:8080/"
    },
    "id": "3a6r-XOB49Vh",
    "outputId": "c9416cab-960d-4fa9-f057-1ffff7aae41f"
   },
   "outputs": [
    {
     "name": "stdout",
     "output_type": "stream",
     "text": [
      "        UniqueID  disbursed_amount  asset_cost    ltv  branch_id  supplier_id  \\\n",
      "134124    637312             58259       71399  82.63         61        22817   \n",
      "23656     522878             43394       67000  65.67         68        18332   \n",
      "120852    496469             37239       58678  65.61         34        20520   \n",
      "3319      652769             66169       84080  79.69        146        14142   \n",
      "218772    501010             55039       66800  85.00         68        22639   \n",
      "\n",
      "        manufacturer_id  Current_pincode_ID Date.of.Birth Employment.Type  \\\n",
      "134124               86                1333      04-10-95        Salaried   \n",
      "23656                86                 853      01-01-76   Self employed   \n",
      "120852               45                1045      26-11-91   Self employed   \n",
      "3319                 45                2955      27-08-93             NaN   \n",
      "218772               86                 853      17-08-92        Salaried   \n",
      "\n",
      "        ... SEC.SANCTIONED.AMOUNT  SEC.DISBURSED.AMOUNT  PRIMARY.INSTAL.AMT  \\\n",
      "134124  ...                     0                     0                   0   \n",
      "23656   ...                     0                     0              269166   \n",
      "120852  ...                     0                     0                   0   \n",
      "3319    ...                     0                     0                1264   \n",
      "218772  ...                     0                     0                1323   \n",
      "\n",
      "        SEC.INSTAL.AMT  NEW.ACCTS.IN.LAST.SIX.MONTHS  \\\n",
      "134124               0                             0   \n",
      "23656                0                             3   \n",
      "120852               0                             0   \n",
      "3319                 0                             0   \n",
      "218772               0                             1   \n",
      "\n",
      "        DELINQUENT.ACCTS.IN.LAST.SIX.MONTHS  AVERAGE.ACCT.AGE  \\\n",
      "134124                                    0         0yrs 0mon   \n",
      "23656                                     0        1yrs 11mon   \n",
      "120852                                    0         0yrs 0mon   \n",
      "3319                                      0        0yrs 11mon   \n",
      "218772                                    0         1yrs 6mon   \n",
      "\n",
      "        CREDIT.HISTORY.LENGTH  NO.OF_INQUIRIES  loan_default  \n",
      "134124              0yrs 0mon                0             0  \n",
      "23656              4yrs 10mon                2             0  \n",
      "120852              0yrs 0mon                0             0  \n",
      "3319                3yrs 8mon                0             0  \n",
      "218772              3yrs 1mon                2             0  \n",
      "\n",
      "[5 rows x 41 columns]\n"
     ]
    },
    {
     "data": {
      "text/html": [
       "<div>\n",
       "<style scoped>\n",
       "    .dataframe tbody tr th:only-of-type {\n",
       "        vertical-align: middle;\n",
       "    }\n",
       "\n",
       "    .dataframe tbody tr th {\n",
       "        vertical-align: top;\n",
       "    }\n",
       "\n",
       "    .dataframe thead th {\n",
       "        text-align: right;\n",
       "    }\n",
       "</style>\n",
       "<table border=\"1\" class=\"dataframe\">\n",
       "  <thead>\n",
       "    <tr style=\"text-align: right;\">\n",
       "      <th></th>\n",
       "      <th>UniqueID</th>\n",
       "      <th>disbursed_amount</th>\n",
       "      <th>asset_cost</th>\n",
       "      <th>ltv</th>\n",
       "      <th>branch_id</th>\n",
       "      <th>supplier_id</th>\n",
       "      <th>manufacturer_id</th>\n",
       "      <th>Current_pincode_ID</th>\n",
       "      <th>State_ID</th>\n",
       "      <th>Employee_code_ID</th>\n",
       "      <th>...</th>\n",
       "      <th>SEC.OVERDUE.ACCTS</th>\n",
       "      <th>SEC.CURRENT.BALANCE</th>\n",
       "      <th>SEC.SANCTIONED.AMOUNT</th>\n",
       "      <th>SEC.DISBURSED.AMOUNT</th>\n",
       "      <th>PRIMARY.INSTAL.AMT</th>\n",
       "      <th>SEC.INSTAL.AMT</th>\n",
       "      <th>NEW.ACCTS.IN.LAST.SIX.MONTHS</th>\n",
       "      <th>DELINQUENT.ACCTS.IN.LAST.SIX.MONTHS</th>\n",
       "      <th>NO.OF_INQUIRIES</th>\n",
       "      <th>loan_default</th>\n",
       "    </tr>\n",
       "  </thead>\n",
       "  <tbody>\n",
       "    <tr>\n",
       "      <th>count</th>\n",
       "      <td>186523.000000</td>\n",
       "      <td>186523.000000</td>\n",
       "      <td>1.865230e+05</td>\n",
       "      <td>186523.000000</td>\n",
       "      <td>186523.000000</td>\n",
       "      <td>186523.000000</td>\n",
       "      <td>186523.000000</td>\n",
       "      <td>186523.000000</td>\n",
       "      <td>186523.000000</td>\n",
       "      <td>186523.000000</td>\n",
       "      <td>...</td>\n",
       "      <td>186523.000000</td>\n",
       "      <td>1.865230e+05</td>\n",
       "      <td>1.865230e+05</td>\n",
       "      <td>1.865230e+05</td>\n",
       "      <td>1.865230e+05</td>\n",
       "      <td>1.865230e+05</td>\n",
       "      <td>186523.000000</td>\n",
       "      <td>186523.000000</td>\n",
       "      <td>186523.000000</td>\n",
       "      <td>186523.000000</td>\n",
       "    </tr>\n",
       "    <tr>\n",
       "      <th>mean</th>\n",
       "      <td>535952.925435</td>\n",
       "      <td>54365.374394</td>\n",
       "      <td>7.586187e+04</td>\n",
       "      <td>74.765386</td>\n",
       "      <td>72.936308</td>\n",
       "      <td>19636.815074</td>\n",
       "      <td>69.016909</td>\n",
       "      <td>3399.494481</td>\n",
       "      <td>7.257496</td>\n",
       "      <td>1549.034902</td>\n",
       "      <td>...</td>\n",
       "      <td>0.007329</td>\n",
       "      <td>5.734542e+03</td>\n",
       "      <td>7.641853e+03</td>\n",
       "      <td>7.521789e+03</td>\n",
       "      <td>1.329020e+04</td>\n",
       "      <td>3.490196e+02</td>\n",
       "      <td>0.381771</td>\n",
       "      <td>0.097773</td>\n",
       "      <td>0.206119</td>\n",
       "      <td>0.217147</td>\n",
       "    </tr>\n",
       "    <tr>\n",
       "      <th>std</th>\n",
       "      <td>68288.854461</td>\n",
       "      <td>12874.485907</td>\n",
       "      <td>1.885669e+04</td>\n",
       "      <td>11.449087</td>\n",
       "      <td>69.746169</td>\n",
       "      <td>3491.104855</td>\n",
       "      <td>22.139252</td>\n",
       "      <td>2237.732446</td>\n",
       "      <td>4.478317</td>\n",
       "      <td>975.842374</td>\n",
       "      <td>...</td>\n",
       "      <td>0.111742</td>\n",
       "      <td>1.843155e+05</td>\n",
       "      <td>1.956344e+05</td>\n",
       "      <td>1.951667e+05</td>\n",
       "      <td>1.594488e+05</td>\n",
       "      <td>1.667501e+04</td>\n",
       "      <td>0.952698</td>\n",
       "      <td>0.382196</td>\n",
       "      <td>0.700573</td>\n",
       "      <td>0.412305</td>\n",
       "    </tr>\n",
       "    <tr>\n",
       "      <th>min</th>\n",
       "      <td>417428.000000</td>\n",
       "      <td>13369.000000</td>\n",
       "      <td>3.700000e+04</td>\n",
       "      <td>10.030000</td>\n",
       "      <td>1.000000</td>\n",
       "      <td>10524.000000</td>\n",
       "      <td>45.000000</td>\n",
       "      <td>1.000000</td>\n",
       "      <td>1.000000</td>\n",
       "      <td>1.000000</td>\n",
       "      <td>...</td>\n",
       "      <td>0.000000</td>\n",
       "      <td>-5.746470e+05</td>\n",
       "      <td>0.000000e+00</td>\n",
       "      <td>0.000000e+00</td>\n",
       "      <td>0.000000e+00</td>\n",
       "      <td>0.000000e+00</td>\n",
       "      <td>0.000000</td>\n",
       "      <td>0.000000</td>\n",
       "      <td>0.000000</td>\n",
       "      <td>0.000000</td>\n",
       "    </tr>\n",
       "    <tr>\n",
       "      <th>25%</th>\n",
       "      <td>476886.500000</td>\n",
       "      <td>47145.000000</td>\n",
       "      <td>6.571400e+04</td>\n",
       "      <td>68.910000</td>\n",
       "      <td>14.000000</td>\n",
       "      <td>16555.000000</td>\n",
       "      <td>48.000000</td>\n",
       "      <td>1512.000000</td>\n",
       "      <td>4.000000</td>\n",
       "      <td>710.000000</td>\n",
       "      <td>...</td>\n",
       "      <td>0.000000</td>\n",
       "      <td>0.000000e+00</td>\n",
       "      <td>0.000000e+00</td>\n",
       "      <td>0.000000e+00</td>\n",
       "      <td>0.000000e+00</td>\n",
       "      <td>0.000000e+00</td>\n",
       "      <td>0.000000</td>\n",
       "      <td>0.000000</td>\n",
       "      <td>0.000000</td>\n",
       "      <td>0.000000</td>\n",
       "    </tr>\n",
       "    <tr>\n",
       "      <th>50%</th>\n",
       "      <td>536025.000000</td>\n",
       "      <td>53803.000000</td>\n",
       "      <td>7.094000e+04</td>\n",
       "      <td>76.830000</td>\n",
       "      <td>61.000000</td>\n",
       "      <td>20333.000000</td>\n",
       "      <td>86.000000</td>\n",
       "      <td>2970.000000</td>\n",
       "      <td>6.000000</td>\n",
       "      <td>1450.000000</td>\n",
       "      <td>...</td>\n",
       "      <td>0.000000</td>\n",
       "      <td>0.000000e+00</td>\n",
       "      <td>0.000000e+00</td>\n",
       "      <td>0.000000e+00</td>\n",
       "      <td>0.000000e+00</td>\n",
       "      <td>0.000000e+00</td>\n",
       "      <td>0.000000</td>\n",
       "      <td>0.000000</td>\n",
       "      <td>0.000000</td>\n",
       "      <td>0.000000</td>\n",
       "    </tr>\n",
       "    <tr>\n",
       "      <th>75%</th>\n",
       "      <td>595034.500000</td>\n",
       "      <td>60413.000000</td>\n",
       "      <td>7.920000e+04</td>\n",
       "      <td>83.685000</td>\n",
       "      <td>130.000000</td>\n",
       "      <td>23000.000000</td>\n",
       "      <td>86.000000</td>\n",
       "      <td>5677.500000</td>\n",
       "      <td>10.000000</td>\n",
       "      <td>2364.000000</td>\n",
       "      <td>...</td>\n",
       "      <td>0.000000</td>\n",
       "      <td>0.000000e+00</td>\n",
       "      <td>0.000000e+00</td>\n",
       "      <td>0.000000e+00</td>\n",
       "      <td>1.991000e+03</td>\n",
       "      <td>0.000000e+00</td>\n",
       "      <td>0.000000</td>\n",
       "      <td>0.000000</td>\n",
       "      <td>0.000000</td>\n",
       "      <td>0.000000</td>\n",
       "    </tr>\n",
       "    <tr>\n",
       "      <th>max</th>\n",
       "      <td>671084.000000</td>\n",
       "      <td>990572.000000</td>\n",
       "      <td>1.628992e+06</td>\n",
       "      <td>95.000000</td>\n",
       "      <td>261.000000</td>\n",
       "      <td>24803.000000</td>\n",
       "      <td>153.000000</td>\n",
       "      <td>7345.000000</td>\n",
       "      <td>22.000000</td>\n",
       "      <td>3795.000000</td>\n",
       "      <td>...</td>\n",
       "      <td>7.000000</td>\n",
       "      <td>3.603285e+07</td>\n",
       "      <td>3.000000e+07</td>\n",
       "      <td>3.000000e+07</td>\n",
       "      <td>2.564281e+07</td>\n",
       "      <td>4.170901e+06</td>\n",
       "      <td>35.000000</td>\n",
       "      <td>12.000000</td>\n",
       "      <td>36.000000</td>\n",
       "      <td>1.000000</td>\n",
       "    </tr>\n",
       "  </tbody>\n",
       "</table>\n",
       "<p>8 rows × 35 columns</p>\n",
       "</div>"
      ],
      "text/plain": [
       "            UniqueID  disbursed_amount    asset_cost            ltv  \\\n",
       "count  186523.000000     186523.000000  1.865230e+05  186523.000000   \n",
       "mean   535952.925435      54365.374394  7.586187e+04      74.765386   \n",
       "std     68288.854461      12874.485907  1.885669e+04      11.449087   \n",
       "min    417428.000000      13369.000000  3.700000e+04      10.030000   \n",
       "25%    476886.500000      47145.000000  6.571400e+04      68.910000   \n",
       "50%    536025.000000      53803.000000  7.094000e+04      76.830000   \n",
       "75%    595034.500000      60413.000000  7.920000e+04      83.685000   \n",
       "max    671084.000000     990572.000000  1.628992e+06      95.000000   \n",
       "\n",
       "           branch_id    supplier_id  manufacturer_id  Current_pincode_ID  \\\n",
       "count  186523.000000  186523.000000    186523.000000       186523.000000   \n",
       "mean       72.936308   19636.815074        69.016909         3399.494481   \n",
       "std        69.746169    3491.104855        22.139252         2237.732446   \n",
       "min         1.000000   10524.000000        45.000000            1.000000   \n",
       "25%        14.000000   16555.000000        48.000000         1512.000000   \n",
       "50%        61.000000   20333.000000        86.000000         2970.000000   \n",
       "75%       130.000000   23000.000000        86.000000         5677.500000   \n",
       "max       261.000000   24803.000000       153.000000         7345.000000   \n",
       "\n",
       "            State_ID  Employee_code_ID  ...  SEC.OVERDUE.ACCTS  \\\n",
       "count  186523.000000     186523.000000  ...      186523.000000   \n",
       "mean        7.257496       1549.034902  ...           0.007329   \n",
       "std         4.478317        975.842374  ...           0.111742   \n",
       "min         1.000000          1.000000  ...           0.000000   \n",
       "25%         4.000000        710.000000  ...           0.000000   \n",
       "50%         6.000000       1450.000000  ...           0.000000   \n",
       "75%        10.000000       2364.000000  ...           0.000000   \n",
       "max        22.000000       3795.000000  ...           7.000000   \n",
       "\n",
       "       SEC.CURRENT.BALANCE  SEC.SANCTIONED.AMOUNT  SEC.DISBURSED.AMOUNT  \\\n",
       "count         1.865230e+05           1.865230e+05          1.865230e+05   \n",
       "mean          5.734542e+03           7.641853e+03          7.521789e+03   \n",
       "std           1.843155e+05           1.956344e+05          1.951667e+05   \n",
       "min          -5.746470e+05           0.000000e+00          0.000000e+00   \n",
       "25%           0.000000e+00           0.000000e+00          0.000000e+00   \n",
       "50%           0.000000e+00           0.000000e+00          0.000000e+00   \n",
       "75%           0.000000e+00           0.000000e+00          0.000000e+00   \n",
       "max           3.603285e+07           3.000000e+07          3.000000e+07   \n",
       "\n",
       "       PRIMARY.INSTAL.AMT  SEC.INSTAL.AMT  NEW.ACCTS.IN.LAST.SIX.MONTHS  \\\n",
       "count        1.865230e+05    1.865230e+05                 186523.000000   \n",
       "mean         1.329020e+04    3.490196e+02                      0.381771   \n",
       "std          1.594488e+05    1.667501e+04                      0.952698   \n",
       "min          0.000000e+00    0.000000e+00                      0.000000   \n",
       "25%          0.000000e+00    0.000000e+00                      0.000000   \n",
       "50%          0.000000e+00    0.000000e+00                      0.000000   \n",
       "75%          1.991000e+03    0.000000e+00                      0.000000   \n",
       "max          2.564281e+07    4.170901e+06                     35.000000   \n",
       "\n",
       "       DELINQUENT.ACCTS.IN.LAST.SIX.MONTHS  NO.OF_INQUIRIES   loan_default  \n",
       "count                        186523.000000    186523.000000  186523.000000  \n",
       "mean                              0.097773         0.206119       0.217147  \n",
       "std                               0.382196         0.700573       0.412305  \n",
       "min                               0.000000         0.000000       0.000000  \n",
       "25%                               0.000000         0.000000       0.000000  \n",
       "50%                               0.000000         0.000000       0.000000  \n",
       "75%                               0.000000         0.000000       0.000000  \n",
       "max                              12.000000        36.000000       1.000000  \n",
       "\n",
       "[8 rows x 35 columns]"
      ]
     },
     "execution_count": 20,
     "metadata": {},
     "output_type": "execute_result"
    }
   ],
   "source": [
    "print(loans.head())\n",
    "loans.describe()\n"
   ]
  },
  {
   "cell_type": "markdown",
   "metadata": {
    "id": "xv9ccW2dz4ry"
   },
   "source": [
    "Observe os histogramas de nossas features. Eles são úteis para compreendermos o problema."
   ]
  },
  {
   "cell_type": "code",
   "execution_count": 21,
   "metadata": {
    "colab": {
     "base_uri": "https://localhost:8080/"
    },
    "id": "GJkeQq6-6kSI",
    "outputId": "afb153ec-88b2-4607-e319-3911aa843959"
   },
   "outputs": [
    {
     "data": {
      "image/png": "[encoded data removed]",
      "text/plain": [
       "<Figure size 2000x1500 with 36 Axes>"
      ]
     },
     "metadata": {},
     "output_type": "display_data"
    }
   ],
   "source": [
    "%matplotlib inline\n",
    "import matplotlib.pyplot as plt\n",
    "loans.hist(bins=50, figsize=(20,15))\n",
    "plt.show()"
   ]
  },
  {
   "cell_type": "markdown",
   "metadata": {},
   "source": [
    "Podemos observar algumas coisas: \n",
    "* Vários deles possuem apenas duas barras, pois são dados binários (como loan_default, Aadhar_flag, MobileNo_Avl_flag, PAN_falg etc.);\n",
    "* No gráfico da variável ltv, nota-se que a maioria das pessoas que pegaram o empréstimo o fizeram no valor de pelo menos 60% do preço do veículo;\n",
    "* O Unique_ID e o Employee_code_ID podem parecer interessantes de serem análisadas, porém trazen pouca informação; \n",
    " "
   ]
  },
  {
   "cell_type": "markdown",
   "metadata": {},
   "source": [
    "Além disso, podemos analisar se existe relação entre o tipo de emprego (assalariado ou autônomo) e a classificação de inadimplente ou adimplente. "
   ]
  },
  {
   "cell_type": "code",
   "execution_count": null,
   "metadata": {},
   "outputs": [
    {
     "name": "stderr",
     "output_type": "stream",
     "text": [
      "C:\\Users\\carol\\AppData\\Local\\Temp\\ipykernel_10356\\3229015384.py:2: FutureWarning: \n",
      "\n",
      "The `ci` parameter is deprecated. Use `errorbar=None` for the same effect.\n",
      "\n",
      "  sns.barplot(x='Employment.Type', y='loan_default', data=loans, estimator=lambda x: sum(x)/len(x), ci=None)\n"
     ]
    },
    {
     "data": {
      "image/png": "[encoded data removed]",
      "text/plain": [
       "<Figure size 800x500 with 1 Axes>"
      ]
     },
     "metadata": {},
     "output_type": "display_data"
    }
   ],
   "source": [
    "sns.catplot(data=loans,kind='count',x='Employment.Type',hue='loan_default')"
   ]
  },
  {
   "cell_type": "markdown",
   "metadata": {},
   "source": [
    "Acima podemos ver que existe uma taxa de inadimplencia similar entre os tipos de emprego. Porém, podemos notar que as pessoas classificadas como autonomas apresentam uma frequência maior de inadimplencia que os asalariados. "
   ]
  },
  {
   "cell_type": "code",
   "execution_count": 23,
   "metadata": {},
   "outputs": [
    {
     "data": {
      "text/plain": [
       "<bound method NDFrame.describe of 134124    82.63\n",
       "23656     65.67\n",
       "120852    65.61\n",
       "3319      79.69\n",
       "218772    85.00\n",
       "          ...  \n",
       "90533     76.58\n",
       "87175     86.34\n",
       "173418    64.04\n",
       "60851     63.45\n",
       "72807     79.50\n",
       "Name: ltv, Length: 186523, dtype: float64>"
      ]
     },
     "execution_count": 23,
     "metadata": {},
     "output_type": "execute_result"
    }
   ],
   "source": [
    "loans[\"ltv\"].describe"
   ]
  },
  {
   "cell_type": "markdown",
   "metadata": {
    "id": "PYx09zhLz-DO"
   },
   "source": [
    "Para estudar como nossos dados estão relacionados, veja a matriz de correlação abaixo."
   ]
  },
  {
   "cell_type": "code",
   "execution_count": 24,
   "metadata": {
    "colab": {
     "base_uri": "https://localhost:8080/"
    },
    "id": "ctsoz035_2r0",
    "outputId": "7af0cbd3-9276-4014-c9cc-1061beaa963c"
   },
   "outputs": [
    {
     "data": {
      "image/png": "[encoded data removed]",
      "text/plain": [
       "<Figure size 1800x800 with 2 Axes>"
      ]
     },
     "metadata": {},
     "output_type": "display_data"
    }
   ],
   "source": [
    "import seaborn as sns\n",
    "\n",
    "corr_matrix = loans.corr(numeric_only=True)\n",
    "\n",
    "corr_matrix = round(corr_matrix, 1)\n",
    "mask = np.triu(np.ones_like(corr_matrix, dtype=bool))\n",
    "\n",
    "fig, ax = plt.subplots(1, 1, figsize=(18, 8))\n",
    "sns.heatmap(corr_matrix,\n",
    "            vmin=-1,\n",
    "            vmax=1,\n",
    "            cmap='RdBu_r',\n",
    "            annot=True,\n",
    "            ax=ax,\n",
    "            mask=mask)\n",
    "plt.show()"
   ]
  },
  {
   "cell_type": "markdown",
   "metadata": {
    "id": "_XwW8FOC0hwx"
   },
   "source": [
    "Note que, aparentemente nossa variável alvo não possui relação signficativa com nenhuma outra caracterítica do nosso dataset. Isso acontece, pois é um problema de classificação binária. Assim, é difícil encontrar relação linear entre os dados e o alvo."
   ]
  },
  {
   "cell_type": "code",
   "execution_count": 25,
   "metadata": {
    "colab": {
     "base_uri": "https://localhost:8080/"
    },
    "id": "IxHyRU1CCaHm",
    "outputId": "cc0e2aa7-8fc7-4290-d962-41383cc6c29b"
   },
   "outputs": [
    {
     "data": {
      "text/plain": [
       "loan_default                           1.0\n",
       "disbursed_amount                       0.1\n",
       "ltv                                    0.1\n",
       "UniqueID                               0.0\n",
       "branch_id                              0.0\n",
       "asset_cost                             0.0\n",
       "manufacturer_id                       -0.0\n",
       "Current_pincode_ID                     0.0\n",
       "State_ID                               0.0\n",
       "supplier_id                            0.0\n",
       "Aadhar_flag                           -0.0\n",
       "PAN_flag                               0.0\n",
       "VoterID_flag                           0.0\n",
       "Driving_flag                          -0.0\n",
       "Passport_flag                         -0.0\n",
       "PRI.NO.OF.ACCTS                       -0.0\n",
       "PRI.ACTIVE.ACCTS                      -0.0\n",
       "Employee_code_ID                       0.0\n",
       "SEC.CURRENT.BALANCE                   -0.0\n",
       "PRI.OVERDUE.ACCTS                      0.0\n",
       "PRI.SANCTIONED.AMOUNT                 -0.0\n",
       "PRI.CURRENT.BALANCE                   -0.0\n",
       "SEC.NO.OF.ACCTS                       -0.0\n",
       "SEC.ACTIVE.ACCTS                      -0.0\n",
       "SEC.OVERDUE.ACCTS                     -0.0\n",
       "PRI.DISBURSED.AMOUNT                  -0.0\n",
       "SEC.INSTAL.AMT                        -0.0\n",
       "SEC.SANCTIONED.AMOUNT                 -0.0\n",
       "PRIMARY.INSTAL.AMT                    -0.0\n",
       "SEC.DISBURSED.AMOUNT                  -0.0\n",
       "DELINQUENT.ACCTS.IN.LAST.SIX.MONTHS    0.0\n",
       "NEW.ACCTS.IN.LAST.SIX.MONTHS          -0.0\n",
       "NO.OF_INQUIRIES                        0.0\n",
       "PERFORM_CNS.SCORE                     -0.1\n",
       "MobileNo_Avl_Flag                      NaN\n",
       "Name: loan_default, dtype: float64"
      ]
     },
     "execution_count": 25,
     "metadata": {},
     "output_type": "execute_result"
    }
   ],
   "source": [
    "corr_matrix[\"loan_default\"].sort_values(ascending=False)"
   ]
  },
  {
   "cell_type": "markdown",
   "metadata": {},
   "source": [
    "Para ver isso graficamente, podemos usar a matriz de dispersão entre o loan_default e as três variáveis que apresentação maior correlação com a feature alvo (mesmo que pequena)."
   ]
  },
  {
   "cell_type": "code",
   "execution_count": 26,
   "metadata": {},
   "outputs": [
    {
     "data": {
      "text/plain": [
       "array([[<Axes: xlabel='loan_default', ylabel='loan_default'>,\n",
       "        <Axes: xlabel='PERFORM_CNS.SCORE', ylabel='loan_default'>,\n",
       "        <Axes: xlabel='disbursed_amount', ylabel='loan_default'>,\n",
       "        <Axes: xlabel='ltv', ylabel='loan_default'>],\n",
       "       [<Axes: xlabel='loan_default', ylabel='PERFORM_CNS.SCORE'>,\n",
       "        <Axes: xlabel='PERFORM_CNS.SCORE', ylabel='PERFORM_CNS.SCORE'>,\n",
       "        <Axes: xlabel='disbursed_amount', ylabel='PERFORM_CNS.SCORE'>,\n",
       "        <Axes: xlabel='ltv', ylabel='PERFORM_CNS.SCORE'>],\n",
       "       [<Axes: xlabel='loan_default', ylabel='disbursed_amount'>,\n",
       "        <Axes: xlabel='PERFORM_CNS.SCORE', ylabel='disbursed_amount'>,\n",
       "        <Axes: xlabel='disbursed_amount', ylabel='disbursed_amount'>,\n",
       "        <Axes: xlabel='ltv', ylabel='disbursed_amount'>],\n",
       "       [<Axes: xlabel='loan_default', ylabel='ltv'>,\n",
       "        <Axes: xlabel='PERFORM_CNS.SCORE', ylabel='ltv'>,\n",
       "        <Axes: xlabel='disbursed_amount', ylabel='ltv'>,\n",
       "        <Axes: xlabel='ltv', ylabel='ltv'>]], dtype=object)"
      ]
     },
     "execution_count": 26,
     "metadata": {},
     "output_type": "execute_result"
    },
    {
     "data": {
      "image/png": "[encoded data removed]",
      "text/plain": [
       "<Figure size 1200x800 with 16 Axes>"
      ]
     },
     "metadata": {},
     "output_type": "display_data"
    }
   ],
   "source": [
    "from pandas.plotting import scatter_matrix\n",
    "\n",
    "attributes = [\"loan_default\", \"PERFORM_CNS.SCORE\", \"disbursed_amount\",\n",
    "              \"ltv\"]\n",
    "scatter_matrix(loans[attributes], figsize=(12, 8))"
   ]
  },
  {
   "cell_type": "markdown",
   "metadata": {},
   "source": [
    "Perceba que a baixa correlação linear com a variável alvo se mostra também evidente nos gráficos acima, uma vez que nenhum deles se assemelha a uma reta com inclinação positiva (ou negativa)."
   ]
  },
  {
   "cell_type": "markdown",
   "metadata": {
    "id": "8kbwpY6S80Sb"
   },
   "source": [
    "# Feature Engineering"
   ]
  },
  {
   "cell_type": "code",
   "execution_count": 27,
   "metadata": {
    "colab": {
     "base_uri": "https://localhost:8080/"
    },
    "id": "cbPYenKqsKNL",
    "outputId": "1337e378-e0f6-474c-d6fd-f8a51369f35e"
   },
   "outputs": [
    {
     "data": {
      "text/html": [
       "<script src='https://cdnjs.cloudflare.com/ajax/libs/mathjax/2.7.3/latest.js?config=default'></script>"
      ],
      "text/plain": [
       "<IPython.core.display.HTML object>"
      ]
     },
     "metadata": {},
     "output_type": "display_data"
    }
   ],
   "source": [
    "from IPython.display import HTML, Math\n",
    "display(HTML(\"<script src='https://cdnjs.cloudflare.com/ajax/libs/mathjax/2.7.3/\"\n",
    "             \"latest.js?config=default'></script>\"))"
   ]
  },
  {
   "cell_type": "markdown",
   "metadata": {
    "id": "DmFD2I7n2Db0"
   },
   "source": [
    "Afim de capturar relações mais complexas entre as variáveis, pensamos nas três seguintes novas features:"
   ]
  },
  {
   "cell_type": "markdown",
   "metadata": {
    "id": "XdOkuu7qsWt_"
   },
   "source": [
    "*   DOC_NUM: número de documentos enviados pelo cliente."
   ]
  },
  {
   "cell_type": "code",
   "execution_count": 28,
   "metadata": {
    "colab": {
     "base_uri": "https://localhost:8080/"
    },
    "id": "1mUjoHDasZcm",
    "outputId": "e90f062b-6061-4bb6-e36b-c199ce929425"
   },
   "outputs": [
    {
     "data": {
      "text/latex": [
       "$\\displaystyle \\text{DOC\\_ NUM} = \\text{Aadhar\\_ flag}+\\text{PAN\\_ flag}+\\text{VoterID\\_ flag}+\\text{Driving\\_ flag}+\\text{Passport\\_ flag}.$"
      ],
      "text/plain": [
       "<IPython.core.display.Math object>"
      ]
     },
     "execution_count": 28,
     "metadata": {},
     "output_type": "execute_result"
    }
   ],
   "source": [
    "Math(r\"\\text{DOC\\_ NUM} = \\text{Aadhar\\_ flag}+\\text{PAN\\_ flag}+\\text{VoterID\\_ flag}+\\text{Driving\\_ flag}+\\text{Passport\\_ flag}.\")"
   ]
  },
  {
   "cell_type": "markdown",
   "metadata": {
    "id": "ce_7y7qcsdjO"
   },
   "source": [
    "Note que as variáveis que estamos somando são 0 ou 1, logo ao somarmos elas, obtemos exatamente quantos decumentos foram entregados"
   ]
  },
  {
   "cell_type": "markdown",
   "metadata": {
    "id": "JIjUG8WY269q"
   },
   "source": [
    "*   REL_DEBT: proporção entre o valor do empréstimo e o saldo total aberto em ativo."
   ]
  },
  {
   "cell_type": "code",
   "execution_count": 29,
   "metadata": {
    "colab": {
     "base_uri": "https://localhost:8080/"
    },
    "id": "sV-7HBHwsvYf",
    "outputId": "757c03dc-08f9-4525-a8ce-75f0198818bf"
   },
   "outputs": [
    {
     "data": {
      "text/latex": [
       "$\\displaystyle \\text{REL\\_ DEBT} = \\frac{\\text{PRI.DISBURSED.AMOUNT}}{\\text{PRI.CURRENT.BALANCE}}.$"
      ],
      "text/plain": [
       "<IPython.core.display.Math object>"
      ]
     },
     "execution_count": 29,
     "metadata": {},
     "output_type": "execute_result"
    }
   ],
   "source": [
    "Math(r\"\\text{REL\\_ DEBT} = \\frac{\\text{PRI.DISBURSED.AMOUNT}}{\\text{PRI.CURRENT.BALANCE}}.\")"
   ]
  },
  {
   "cell_type": "markdown",
   "metadata": {
    "id": "ywhpV50Ksh7s"
   },
   "source": [
    "* DISBURSED_ASSET: proporção entre o valor do empréstimo e o custo do ativo financiado."
   ]
  },
  {
   "cell_type": "code",
   "execution_count": 30,
   "metadata": {
    "colab": {
     "base_uri": "https://localhost:8080/"
    },
    "id": "cWzmC8bmskEZ",
    "outputId": "53e3a3a4-bb0b-4ca7-b084-8bfc7f4c646d"
   },
   "outputs": [
    {
     "data": {
      "text/latex": [
       "$\\displaystyle \\text{DISBURSED\\_ASSET} = \\frac{\\text{PRI.DISBURSED.AMOUNT}}{\\text{asset\\_ cost}}.$"
      ],
      "text/plain": [
       "<IPython.core.display.Math object>"
      ]
     },
     "execution_count": 30,
     "metadata": {},
     "output_type": "execute_result"
    }
   ],
   "source": [
    "Math(r\"\\text{DISBURSED\\_ASSET} = \\frac{\\text{PRI.DISBURSED.AMOUNT}}{\\text{asset\\_ cost}}.\")"
   ]
  },
  {
   "cell_type": "markdown",
   "metadata": {
    "id": "pkdy2ht-ni2w"
   },
   "source": [
    "Obs para o professor: Como a correlação linear não é uma boa métrica para avaliarmos se a nossa escolha de novas features foi feliz, podemos treinar nossos modelos com e sem essas novas featrues e avaliar qual performou melhor. Porém, por questões de tempo, treinaremos apenas no conjunto com as novas variáveis."
   ]
  },
  {
   "cell_type": "markdown",
   "metadata": {
    "id": "JZvZGRGoPB00"
   },
   "source": [
    "# Preparando os dados"
   ]
  },
  {
   "cell_type": "markdown",
   "metadata": {
    "id": "89GZaLmekbs9"
   },
   "source": [
    "Prieiramente vamos retirar a feature \"loans_default\" do nosso conjunto de treino, uma vez que essa variável será o nosso rótulo."
   ]
  },
  {
   "cell_type": "code",
   "execution_count": 32,
   "metadata": {
    "id": "MW1e00nIPSHp"
   },
   "outputs": [],
   "source": [
    "loans = strat_train_set.drop(\"loan_default\", axis=1)\n",
    "loans_labels = strat_train_set[\"loan_default\"].copy()"
   ]
  },
  {
   "cell_type": "markdown",
   "metadata": {},
   "source": [
    "Mudamos a ordem de forma que tenhamos:\n",
    "\n",
    "1º- Colunas numéricas \n",
    "\n",
    "2º- Colunas categóricas, menos a  PERFORM_CNS.SCORE.DESCRIPTION\n",
    "\n",
    "3º- Colunas a serem removidas\n",
    "\n",
    "4º- PERFORM_CNS.SCORE.DESCRIPTION\n",
    "\n",
    "Dessa forma, os índices fixados das colunas não serão alterados ao adicionarmos ou removermos features."
   ]
  },
  {
   "cell_type": "code",
   "execution_count": 33,
   "metadata": {
    "id": "-EySSCGfxWXd"
   },
   "outputs": [],
   "source": [
    "from sklearn.preprocessing import FunctionTransformer\n",
    "\n",
    "num_cols = loans.select_dtypes(include=['number']).columns.tolist()\n",
    "remove = [\"UniqueID\",\"Employee_code_ID\"]\n",
    "num_cols = [col for col in num_cols if col not in remove]\n",
    "except_cols = [\"DisbursalDate\",\"Date.of.Birth\",\"AVERAGE.ACCT.AGE\",\"CREDIT.HISTORY.LENGTH\",\"Employment.Type\"]\n",
    "cat_cols = loans.select_dtypes(exclude=['number']).columns.tolist()\n",
    "cat_cols = [col for col in cat_cols if col not in except_cols]\n",
    "new_order = num_cols + except_cols + remove + cat_cols\n",
    "loans = loans[new_order]\n",
    "\n",
    "def change_columns(X):\n",
    "  X = X.copy()\n",
    "  X = pd.DataFrame(X, columns=columns)\n",
    "  X = X[new_order]\n",
    "  return X.to_numpy()\n",
    "\n",
    "permutate_columns = FunctionTransformer(change_columns, validate=False)"
   ]
  },
  {
   "cell_type": "code",
   "execution_count": 34,
   "metadata": {
    "id": "JRE6iN7q9eyt"
   },
   "outputs": [],
   "source": [
    "columns_rearranged = loans.columns.tolist()"
   ]
  },
  {
   "cell_type": "markdown",
   "metadata": {
    "id": "Q4nPy8gKni2x"
   },
   "source": [
    "### Adicionando e removendo colunas"
   ]
  },
  {
   "cell_type": "markdown",
   "metadata": {
    "id": "TvkHsT2-ni2x"
   },
   "source": [
    "A partir de agora vamos iniciar a etapa de limpeza de dados!"
   ]
  },
  {
   "cell_type": "markdown",
   "metadata": {
    "id": "qXl8id0gni2x"
   },
   "source": [
    "Vamos criar uma função que adciona nossas novas features."
   ]
  },
  {
   "cell_type": "code",
   "execution_count": 35,
   "metadata": {
    "id": "-hnM5ivSni2x"
   },
   "outputs": [],
   "source": [
    "aadhar_ix, pan_ix, voterid_ix, driving_ix, passaport_ix, pri_current_balance_ix, pri_disbursed_amount_ix, asset_ix = [\n",
    "    list(loans.columns).index(col)\n",
    "    for col in (\"Aadhar_flag\",\"PAN_flag\",\"VoterID_flag\",\"Driving_flag\", \"Passport_flag\",\"PRI.CURRENT.BALANCE\",\"PRI.DISBURSED.AMOUNT\",\"asset_cost\")]\n",
    "\n",
    "def add_extra_features(X,add_doc_num=True,add_rel_debt=True,add_disbursed_asset=True):\n",
    "\n",
    "    if add_doc_num:\n",
    "        doc_num=X[:,aadhar_ix]+X[:,pan_ix]+X[:,voterid_ix]+X[:,driving_ix]+X[:,passaport_ix]\n",
    "        X = np.c_[X, doc_num]\n",
    "    if add_rel_debt:\n",
    "        rel_debt = np.divide(X[:, pri_disbursed_amount_ix], X[:, pri_current_balance_ix], where= X[:, pri_current_balance_ix] != 0)\n",
    "        rel_debt[ X[:, pri_current_balance_ix]==0]=np.nan\n",
    "        X = np.c_[X,rel_debt]\n",
    "    if add_disbursed_asset:\n",
    "        disbursed_asset= np.divide(X[:, pri_disbursed_amount_ix],X[:,asset_ix], where=X[:,asset_ix] != 0)\n",
    "        disbursed_asset[X[:,asset_ix]==0]=np.nan\n",
    "        X = np.c_[X,disbursed_asset]\n",
    "    return X\n",
    "\n",
    "attr_adder = FunctionTransformer(add_extra_features,\n",
    "                                 validate=False,\n",
    "                                 kw_args={\"add_doc_num\": False,\n",
    "                                          \"add_rel_debt\": False,\n",
    "                                          \"add_disbursed_asset\": False\n",
    "                                          })"
   ]
  },
  {
   "cell_type": "markdown",
   "metadata": {
    "id": "4M3d7rEtni2y"
   },
   "source": [
    "Agora, uma função para tirar as colunas UniqueID, Employee_code_ID. Vamos fazer isso, uma vez que esses dados são completamente arbitrários e apenas identificam clientes e funcionários para a empresa. Além disso, iremos tirar a coluna PERFORM_CNS.SCORE.DESCRIPTION, pelos motivos mencionados anteriormente e, mais ainda, pois essa será a única variável categórica que não iremos treansformar em numérico. Portanto, retirar a mesma, poupará-nos de usar outros métodos de tratamento de variável categórica como o OneHotEncoded, reduzindo o custo computacional (note que PERFORM_CNS.SCORE.DESCRIPTION tem várias classificações diferentes)."
   ]
  },
  {
   "cell_type": "code",
   "execution_count": 36,
   "metadata": {
    "id": "JAq_7TmAni2y"
   },
   "outputs": [],
   "source": [
    "uniqueid_ix, employee_ix, perform_description_ix = [\n",
    "    list(loans.columns).index(col)\n",
    "    for col in (\"UniqueID\", \"Employee_code_ID\",\"PERFORM_CNS.SCORE.DESCRIPTION\")]\n",
    "def drop_columns(X):\n",
    "    X = np.delete(X, [uniqueid_ix,employee_ix,perform_description_ix], 1)\n",
    "    return X\n",
    "\n",
    "attr_drop = FunctionTransformer(drop_columns, validate=False)"
   ]
  },
  {
   "cell_type": "markdown",
   "metadata": {
    "id": "bo1jMgfjni2y"
   },
   "source": [
    "### Transformando dados para variáveis numéricas"
   ]
  },
  {
   "cell_type": "markdown",
   "metadata": {
    "id": "ZTRcvts1k0rJ"
   },
   "source": [
    "Note que as colunas DisbursalDate e Date.of.Birth são datas. Assim, para transforma-las em dados numéricos utilizaremos o Unix timestamp. Primeiramente, vamos arrumar as datas, para deixar os anos em sua grafia completa (e em uma ordem específica para usar a função np.datetime64) e depois criaremos uma função que modifica as datas para Unix."
   ]
  },
  {
   "cell_type": "code",
   "execution_count": 37,
   "metadata": {
    "id": "Lkp5MDSxni2y"
   },
   "outputs": [],
   "source": [
    "def convert_date(date_str):\n",
    "    day, month, year = date_str.split('-')\n",
    "    if int(year) >= 25:\n",
    "        year = '19' + year\n",
    "    else:\n",
    "        year = '20'+year\n",
    "    return f\"{year}-{month}-{day}\""
   ]
  },
  {
   "cell_type": "code",
   "execution_count": 38,
   "metadata": {
    "id": "WbOQ8k_sk4_7"
   },
   "outputs": [],
   "source": [
    "from sklearn.preprocessing import FunctionTransformer\n",
    "disbursal_date_ix, birthday_ix = [\n",
    "    list(loans.columns).index(col)\n",
    "    for col in (\"DisbursalDate\", \"Date.of.Birth\")]\n",
    "def timestamp_optimized(X):\n",
    "  dates1 = np.array([convert_date(date) for date in X[:, disbursal_date_ix]])\n",
    "  dates1 = np.array([np.datetime64(date) for date in dates1])\n",
    "  X[:,disbursal_date_ix] = (dates1-np.datetime64('1970-01-01T00:00:00')) / np.timedelta64(1, 's')\n",
    "  dates2 = np.array([convert_date(date) for date in X[:, birthday_ix]])\n",
    "  dates2 = np.array([np.datetime64(date) for date in dates2])\n",
    "  X[:,birthday_ix]=(dates2-np.datetime64('1970-01-01T00:00:00')) / np.timedelta64(1, 's')\n",
    "  return X\n",
    "date_opt = FunctionTransformer(timestamp_optimized,\n",
    "                                 validate=False)"
   ]
  },
  {
   "cell_type": "markdown",
   "metadata": {
    "id": "rjxe6FJzni2y"
   },
   "source": [
    "As colunas AVERAGE.ACCT.AGE e CREDIT.HISTORY.LENGTH indicam período de tempo. Porém, elas não são uma data específica, logo não podemos usar o Unix timestemp. Assim, para transforma-las em varáveis númericas, iremos calcular o total de meses informados."
   ]
  },
  {
   "cell_type": "code",
   "execution_count": 39,
   "metadata": {
    "id": "e3lZzcRNni2z"
   },
   "outputs": [],
   "source": [
    "import re\n",
    "def convert_to_months(time):\n",
    "        num = re.findall(r'(\\d+)\\s*yrs\\s*(\\d+)\\s*mon', time)\n",
    "        if num:\n",
    "            anos, meses = map(int, num[0])\n",
    "            meses_totais = anos*12+meses\n",
    "            return meses_totais"
   ]
  },
  {
   "cell_type": "code",
   "execution_count": 40,
   "metadata": {
    "id": "Gj-apkK6ni2z"
   },
   "outputs": [],
   "source": [
    "average_idx, credit_history_idx = [\n",
    "    list(loans.columns).index(col)\n",
    "    for col in (\"AVERAGE.ACCT.AGE\", \"CREDIT.HISTORY.LENGTH\")]\n",
    "def month_count(X):\n",
    "    for i in [average_idx, credit_history_idx]:\n",
    "        X[:,i]=np.array([convert_to_months(date) for date in X[:, i]])\n",
    "    return X\n",
    "month_cnt = FunctionTransformer(month_count,\n",
    "                                 validate=False)"
   ]
  },
  {
   "cell_type": "markdown",
   "metadata": {
    "id": "fIvhPfplKuts"
   },
   "source": [
    "### Imputação"
   ]
  },
  {
   "cell_type": "markdown",
   "metadata": {
    "id": "YeO8p_GElbrD"
   },
   "source": [
    "Vamos verificar, primeiramente, se temos dados faltantes."
   ]
  },
  {
   "cell_type": "code",
   "execution_count": 43,
   "metadata": {
    "colab": {
     "base_uri": "https://localhost:8080/",
     "height": 444
    },
    "id": "ecci5BwtPs6J",
    "outputId": "36b1c6e8-8f9e-47c3-b256-97e80441d24c"
   },
   "outputs": [
    {
     "data": {
      "text/html": [
       "<div>\n",
       "<style scoped>\n",
       "    .dataframe tbody tr th:only-of-type {\n",
       "        vertical-align: middle;\n",
       "    }\n",
       "\n",
       "    .dataframe tbody tr th {\n",
       "        vertical-align: top;\n",
       "    }\n",
       "\n",
       "    .dataframe thead th {\n",
       "        text-align: right;\n",
       "    }\n",
       "</style>\n",
       "<table border=\"1\" class=\"dataframe\">\n",
       "  <thead>\n",
       "    <tr style=\"text-align: right;\">\n",
       "      <th></th>\n",
       "      <th>disbursed_amount</th>\n",
       "      <th>asset_cost</th>\n",
       "      <th>ltv</th>\n",
       "      <th>branch_id</th>\n",
       "      <th>supplier_id</th>\n",
       "      <th>manufacturer_id</th>\n",
       "      <th>Current_pincode_ID</th>\n",
       "      <th>State_ID</th>\n",
       "      <th>MobileNo_Avl_Flag</th>\n",
       "      <th>Aadhar_flag</th>\n",
       "      <th>...</th>\n",
       "      <th>DELINQUENT.ACCTS.IN.LAST.SIX.MONTHS</th>\n",
       "      <th>NO.OF_INQUIRIES</th>\n",
       "      <th>DisbursalDate</th>\n",
       "      <th>Date.of.Birth</th>\n",
       "      <th>AVERAGE.ACCT.AGE</th>\n",
       "      <th>CREDIT.HISTORY.LENGTH</th>\n",
       "      <th>Employment.Type</th>\n",
       "      <th>UniqueID</th>\n",
       "      <th>Employee_code_ID</th>\n",
       "      <th>PERFORM_CNS.SCORE.DESCRIPTION</th>\n",
       "    </tr>\n",
       "  </thead>\n",
       "  <tbody>\n",
       "    <tr>\n",
       "      <th>3319</th>\n",
       "      <td>66169</td>\n",
       "      <td>84080</td>\n",
       "      <td>79.69</td>\n",
       "      <td>146</td>\n",
       "      <td>14142</td>\n",
       "      <td>45</td>\n",
       "      <td>2955</td>\n",
       "      <td>14</td>\n",
       "      <td>1</td>\n",
       "      <td>1</td>\n",
       "      <td>...</td>\n",
       "      <td>0</td>\n",
       "      <td>0</td>\n",
       "      <td>31-10-18</td>\n",
       "      <td>27-08-93</td>\n",
       "      <td>0yrs 11mon</td>\n",
       "      <td>3yrs 8mon</td>\n",
       "      <td>NaN</td>\n",
       "      <td>652769</td>\n",
       "      <td>661</td>\n",
       "      <td>M-Very High Risk</td>\n",
       "    </tr>\n",
       "    <tr>\n",
       "      <th>12242</th>\n",
       "      <td>43369</td>\n",
       "      <td>73664</td>\n",
       "      <td>65.16</td>\n",
       "      <td>7</td>\n",
       "      <td>18714</td>\n",
       "      <td>86</td>\n",
       "      <td>5759</td>\n",
       "      <td>3</td>\n",
       "      <td>1</td>\n",
       "      <td>1</td>\n",
       "      <td>...</td>\n",
       "      <td>0</td>\n",
       "      <td>0</td>\n",
       "      <td>21-08-18</td>\n",
       "      <td>15-08-66</td>\n",
       "      <td>2yrs 2mon</td>\n",
       "      <td>2yrs 2mon</td>\n",
       "      <td>NaN</td>\n",
       "      <td>452936</td>\n",
       "      <td>698</td>\n",
       "      <td>A-Very Low Risk</td>\n",
       "    </tr>\n",
       "    <tr>\n",
       "      <th>52266</th>\n",
       "      <td>46649</td>\n",
       "      <td>65100</td>\n",
       "      <td>74.50</td>\n",
       "      <td>16</td>\n",
       "      <td>22004</td>\n",
       "      <td>45</td>\n",
       "      <td>3017</td>\n",
       "      <td>14</td>\n",
       "      <td>1</td>\n",
       "      <td>1</td>\n",
       "      <td>...</td>\n",
       "      <td>0</td>\n",
       "      <td>0</td>\n",
       "      <td>28-08-18</td>\n",
       "      <td>01-01-75</td>\n",
       "      <td>0yrs 0mon</td>\n",
       "      <td>0yrs 0mon</td>\n",
       "      <td>NaN</td>\n",
       "      <td>470174</td>\n",
       "      <td>1915</td>\n",
       "      <td>No Bureau History Available</td>\n",
       "    </tr>\n",
       "    <tr>\n",
       "      <th>33925</th>\n",
       "      <td>57413</td>\n",
       "      <td>69318</td>\n",
       "      <td>85.11</td>\n",
       "      <td>67</td>\n",
       "      <td>22045</td>\n",
       "      <td>86</td>\n",
       "      <td>1411</td>\n",
       "      <td>6</td>\n",
       "      <td>1</td>\n",
       "      <td>1</td>\n",
       "      <td>...</td>\n",
       "      <td>0</td>\n",
       "      <td>0</td>\n",
       "      <td>27-10-18</td>\n",
       "      <td>21-10-97</td>\n",
       "      <td>1yrs 9mon</td>\n",
       "      <td>2yrs 1mon</td>\n",
       "      <td>NaN</td>\n",
       "      <td>630171</td>\n",
       "      <td>1800</td>\n",
       "      <td>F-Low Risk</td>\n",
       "    </tr>\n",
       "    <tr>\n",
       "      <th>149663</th>\n",
       "      <td>23100</td>\n",
       "      <td>43983</td>\n",
       "      <td>55.70</td>\n",
       "      <td>146</td>\n",
       "      <td>16920</td>\n",
       "      <td>48</td>\n",
       "      <td>3036</td>\n",
       "      <td>14</td>\n",
       "      <td>1</td>\n",
       "      <td>1</td>\n",
       "      <td>...</td>\n",
       "      <td>0</td>\n",
       "      <td>0</td>\n",
       "      <td>12-10-18</td>\n",
       "      <td>01-01-90</td>\n",
       "      <td>0yrs 6mon</td>\n",
       "      <td>3yrs 0mon</td>\n",
       "      <td>NaN</td>\n",
       "      <td>570949</td>\n",
       "      <td>1928</td>\n",
       "      <td>B-Very Low Risk</td>\n",
       "    </tr>\n",
       "    <tr>\n",
       "      <th>...</th>\n",
       "      <td>...</td>\n",
       "      <td>...</td>\n",
       "      <td>...</td>\n",
       "      <td>...</td>\n",
       "      <td>...</td>\n",
       "      <td>...</td>\n",
       "      <td>...</td>\n",
       "      <td>...</td>\n",
       "      <td>...</td>\n",
       "      <td>...</td>\n",
       "      <td>...</td>\n",
       "      <td>...</td>\n",
       "      <td>...</td>\n",
       "      <td>...</td>\n",
       "      <td>...</td>\n",
       "      <td>...</td>\n",
       "      <td>...</td>\n",
       "      <td>...</td>\n",
       "      <td>...</td>\n",
       "      <td>...</td>\n",
       "      <td>...</td>\n",
       "    </tr>\n",
       "    <tr>\n",
       "      <th>9882</th>\n",
       "      <td>57513</td>\n",
       "      <td>74157</td>\n",
       "      <td>78.89</td>\n",
       "      <td>17</td>\n",
       "      <td>20335</td>\n",
       "      <td>86</td>\n",
       "      <td>3252</td>\n",
       "      <td>17</td>\n",
       "      <td>1</td>\n",
       "      <td>1</td>\n",
       "      <td>...</td>\n",
       "      <td>0</td>\n",
       "      <td>0</td>\n",
       "      <td>27-10-18</td>\n",
       "      <td>08-10-85</td>\n",
       "      <td>0yrs 0mon</td>\n",
       "      <td>0yrs 0mon</td>\n",
       "      <td>NaN</td>\n",
       "      <td>631477</td>\n",
       "      <td>1249</td>\n",
       "      <td>No Bureau History Available</td>\n",
       "    </tr>\n",
       "    <tr>\n",
       "      <th>119311</th>\n",
       "      <td>47349</td>\n",
       "      <td>64000</td>\n",
       "      <td>75.00</td>\n",
       "      <td>5</td>\n",
       "      <td>23505</td>\n",
       "      <td>51</td>\n",
       "      <td>3332</td>\n",
       "      <td>9</td>\n",
       "      <td>1</td>\n",
       "      <td>1</td>\n",
       "      <td>...</td>\n",
       "      <td>0</td>\n",
       "      <td>0</td>\n",
       "      <td>24-09-18</td>\n",
       "      <td>17-07-82</td>\n",
       "      <td>0yrs 10mon</td>\n",
       "      <td>3yrs 6mon</td>\n",
       "      <td>NaN</td>\n",
       "      <td>532136</td>\n",
       "      <td>259</td>\n",
       "      <td>G-Low Risk</td>\n",
       "    </tr>\n",
       "    <tr>\n",
       "      <th>198521</th>\n",
       "      <td>79079</td>\n",
       "      <td>100533</td>\n",
       "      <td>79.58</td>\n",
       "      <td>16</td>\n",
       "      <td>14305</td>\n",
       "      <td>86</td>\n",
       "      <td>2943</td>\n",
       "      <td>17</td>\n",
       "      <td>1</td>\n",
       "      <td>1</td>\n",
       "      <td>...</td>\n",
       "      <td>0</td>\n",
       "      <td>0</td>\n",
       "      <td>22-10-18</td>\n",
       "      <td>18-07-97</td>\n",
       "      <td>1yrs 0mon</td>\n",
       "      <td>2yrs 11mon</td>\n",
       "      <td>NaN</td>\n",
       "      <td>598284</td>\n",
       "      <td>2768</td>\n",
       "      <td>K-High Risk</td>\n",
       "    </tr>\n",
       "    <tr>\n",
       "      <th>219620</th>\n",
       "      <td>40054</td>\n",
       "      <td>52800</td>\n",
       "      <td>79.55</td>\n",
       "      <td>103</td>\n",
       "      <td>23750</td>\n",
       "      <td>51</td>\n",
       "      <td>7246</td>\n",
       "      <td>7</td>\n",
       "      <td>1</td>\n",
       "      <td>1</td>\n",
       "      <td>...</td>\n",
       "      <td>0</td>\n",
       "      <td>0</td>\n",
       "      <td>17-10-18</td>\n",
       "      <td>15-12-98</td>\n",
       "      <td>0yrs 0mon</td>\n",
       "      <td>0yrs 0mon</td>\n",
       "      <td>NaN</td>\n",
       "      <td>585769</td>\n",
       "      <td>3074</td>\n",
       "      <td>No Bureau History Available</td>\n",
       "    </tr>\n",
       "    <tr>\n",
       "      <th>228818</th>\n",
       "      <td>78079</td>\n",
       "      <td>105380</td>\n",
       "      <td>74.97</td>\n",
       "      <td>10</td>\n",
       "      <td>23752</td>\n",
       "      <td>49</td>\n",
       "      <td>5661</td>\n",
       "      <td>3</td>\n",
       "      <td>1</td>\n",
       "      <td>0</td>\n",
       "      <td>...</td>\n",
       "      <td>0</td>\n",
       "      <td>0</td>\n",
       "      <td>29-10-18</td>\n",
       "      <td>01-01-98</td>\n",
       "      <td>0yrs 0mon</td>\n",
       "      <td>0yrs 0mon</td>\n",
       "      <td>NaN</td>\n",
       "      <td>638599</td>\n",
       "      <td>3553</td>\n",
       "      <td>No Bureau History Available</td>\n",
       "    </tr>\n",
       "  </tbody>\n",
       "</table>\n",
       "<p>6127 rows × 40 columns</p>\n",
       "</div>"
      ],
      "text/plain": [
       "        disbursed_amount  asset_cost    ltv  branch_id  supplier_id  \\\n",
       "3319               66169       84080  79.69        146        14142   \n",
       "12242              43369       73664  65.16          7        18714   \n",
       "52266              46649       65100  74.50         16        22004   \n",
       "33925              57413       69318  85.11         67        22045   \n",
       "149663             23100       43983  55.70        146        16920   \n",
       "...                  ...         ...    ...        ...          ...   \n",
       "9882               57513       74157  78.89         17        20335   \n",
       "119311             47349       64000  75.00          5        23505   \n",
       "198521             79079      100533  79.58         16        14305   \n",
       "219620             40054       52800  79.55        103        23750   \n",
       "228818             78079      105380  74.97         10        23752   \n",
       "\n",
       "        manufacturer_id  Current_pincode_ID  State_ID  MobileNo_Avl_Flag  \\\n",
       "3319                 45                2955        14                  1   \n",
       "12242                86                5759         3                  1   \n",
       "52266                45                3017        14                  1   \n",
       "33925                86                1411         6                  1   \n",
       "149663               48                3036        14                  1   \n",
       "...                 ...                 ...       ...                ...   \n",
       "9882                 86                3252        17                  1   \n",
       "119311               51                3332         9                  1   \n",
       "198521               86                2943        17                  1   \n",
       "219620               51                7246         7                  1   \n",
       "228818               49                5661         3                  1   \n",
       "\n",
       "        Aadhar_flag  ...  DELINQUENT.ACCTS.IN.LAST.SIX.MONTHS  \\\n",
       "3319              1  ...                                    0   \n",
       "12242             1  ...                                    0   \n",
       "52266             1  ...                                    0   \n",
       "33925             1  ...                                    0   \n",
       "149663            1  ...                                    0   \n",
       "...             ...  ...                                  ...   \n",
       "9882              1  ...                                    0   \n",
       "119311            1  ...                                    0   \n",
       "198521            1  ...                                    0   \n",
       "219620            1  ...                                    0   \n",
       "228818            0  ...                                    0   \n",
       "\n",
       "        NO.OF_INQUIRIES  DisbursalDate  Date.of.Birth  AVERAGE.ACCT.AGE  \\\n",
       "3319                  0       31-10-18       27-08-93        0yrs 11mon   \n",
       "12242                 0       21-08-18       15-08-66         2yrs 2mon   \n",
       "52266                 0       28-08-18       01-01-75         0yrs 0mon   \n",
       "33925                 0       27-10-18       21-10-97         1yrs 9mon   \n",
       "149663                0       12-10-18       01-01-90         0yrs 6mon   \n",
       "...                 ...            ...            ...               ...   \n",
       "9882                  0       27-10-18       08-10-85         0yrs 0mon   \n",
       "119311                0       24-09-18       17-07-82        0yrs 10mon   \n",
       "198521                0       22-10-18       18-07-97         1yrs 0mon   \n",
       "219620                0       17-10-18       15-12-98         0yrs 0mon   \n",
       "228818                0       29-10-18       01-01-98         0yrs 0mon   \n",
       "\n",
       "        CREDIT.HISTORY.LENGTH  Employment.Type  UniqueID  Employee_code_ID  \\\n",
       "3319                3yrs 8mon              NaN    652769               661   \n",
       "12242               2yrs 2mon              NaN    452936               698   \n",
       "52266               0yrs 0mon              NaN    470174              1915   \n",
       "33925               2yrs 1mon              NaN    630171              1800   \n",
       "149663              3yrs 0mon              NaN    570949              1928   \n",
       "...                       ...              ...       ...               ...   \n",
       "9882                0yrs 0mon              NaN    631477              1249   \n",
       "119311              3yrs 6mon              NaN    532136               259   \n",
       "198521             2yrs 11mon              NaN    598284              2768   \n",
       "219620              0yrs 0mon              NaN    585769              3074   \n",
       "228818              0yrs 0mon              NaN    638599              3553   \n",
       "\n",
       "        PERFORM_CNS.SCORE.DESCRIPTION  \n",
       "3319                 M-Very High Risk  \n",
       "12242                 A-Very Low Risk  \n",
       "52266     No Bureau History Available  \n",
       "33925                      F-Low Risk  \n",
       "149663                B-Very Low Risk  \n",
       "...                               ...  \n",
       "9882      No Bureau History Available  \n",
       "119311                     G-Low Risk  \n",
       "198521                    K-High Risk  \n",
       "219620    No Bureau History Available  \n",
       "228818    No Bureau History Available  \n",
       "\n",
       "[6127 rows x 40 columns]"
      ]
     },
     "execution_count": 43,
     "metadata": {},
     "output_type": "execute_result"
    }
   ],
   "source": [
    "sample_incomplete_rows = loans[loans.isnull().any(axis=1)].copy()\n",
    "sample_incomplete_rows"
   ]
  },
  {
   "cell_type": "markdown",
   "metadata": {
    "id": "kDSkpaBPQoMQ"
   },
   "source": [
    "Para encontrar o melhor método de imputação vamos fazer um Random search. Buscaremos hiperparâmetros para imputação aqui, porém poderiamos fazer essa procura junto com a busca de híperparâmetros dos modelos. Essa separação é feita para diminuirmos o custo computacional que teríamos se fizéssemos o random search junto com os modelos. Para o treinamento da imputação, usaremos o random forest com parâmetros padrões."
   ]
  },
  {
   "cell_type": "markdown",
   "metadata": {
    "id": "mSWPU8gthEhF"
   },
   "source": [
    "Para isso, vamos transformar a coluna Employment.Type em numérica. Note que nessa coluna temos apenas em duas classificações, Self Employed e Salaried. Assim, vamos classificar Salaried como sendo 1 e Self employed como sendo 0. "
   ]
  },
  {
   "cell_type": "code",
   "execution_count": 43,
   "metadata": {
    "colab": {
     "base_uri": "https://localhost:8080/",
     "height": 178
    },
    "id": "TvQoGZPRNOW7",
    "outputId": "6b64b0c4-7852-4f28-d1a4-f3617bb3edaf"
   },
   "outputs": [
    {
     "data": {
      "text/plain": [
       "Employment.Type\n",
       "Self employed    102101\n",
       "Salaried          78295\n",
       "Name: count, dtype: int64"
      ]
     },
     "execution_count": 43,
     "metadata": {},
     "output_type": "execute_result"
    }
   ],
   "source": [
    "loans[\"Employment.Type\"].value_counts()"
   ]
  },
  {
   "cell_type": "code",
   "execution_count": 44,
   "metadata": {
    "id": "Ir-tMiXxhRIO"
   },
   "outputs": [],
   "source": [
    "employment_idx = [list(loans.columns).index('Employment.Type')]\n",
    "\n",
    "def mapping(i):\n",
    "    if isinstance(i, float) and np.isnan(i):\n",
    "        return np.nan\n",
    "    elif i == 'Salaried':\n",
    "        return 1\n",
    "    elif i == 'Self employed':\n",
    "        return 0\n",
    "\n",
    "cat_to_num = np.vectorize(mapping, otypes=[float])\n",
    "\n",
    "def employment_to_num(X):\n",
    "    X = X.copy()\n",
    "    X[:, employment_idx] = cat_to_num(X[:, employment_idx])\n",
    "    return X\n",
    "\n",
    "employment_num = FunctionTransformer(employment_to_num, validate=False)\n",
    "\n"
   ]
  },
  {
   "cell_type": "markdown",
   "metadata": {},
   "source": [
    "Perceba que obtemos o resultado desejado."
   ]
  },
  {
   "cell_type": "code",
   "execution_count": 45,
   "metadata": {
    "colab": {
     "base_uri": "https://localhost:8080/",
     "height": 444
    },
    "id": "ld0ol10hni20",
    "outputId": "013b2ba2-6d51-4335-fa9a-7f148022cfe1"
   },
   "outputs": [
    {
     "data": {
      "text/plain": [
       "134124    1.0\n",
       "23656     0.0\n",
       "120852    0.0\n",
       "3319      NaN\n",
       "218772    1.0\n",
       "         ... \n",
       "90533     0.0\n",
       "87175     0.0\n",
       "173418    0.0\n",
       "60851     1.0\n",
       "72807     0.0\n",
       "Name: Employment.Type, Length: 186523, dtype: object"
      ]
     },
     "execution_count": 45,
     "metadata": {},
     "output_type": "execute_result"
    }
   ],
   "source": [
    "loans_np = loans.to_numpy()\n",
    "loans_np_employ = employment_to_num(loans_np)\n",
    "loans_np_employ_pd = pd.DataFrame(loans_np_employ, columns=columns_rearranged, index=loans.index)\n",
    "loans_np_employ_pd['Employment.Type']"
   ]
  },
  {
   "cell_type": "markdown",
   "metadata": {},
   "source": [
    " Como nosso conjunto de dados é muito grande, vamos selecionar uma amostra represetativa para encontrar o melhor modelo de imputação."
   ]
  },
  {
   "cell_type": "code",
   "execution_count": 46,
   "metadata": {
    "id": "5Otk4o3hXKbT"
   },
   "outputs": [],
   "source": [
    "valores_nulo = loans['Employment.Type'].isnull()\n",
    "stratify_var = valores_nulo.astype(int)\n",
    "loans_employment = employment_to_num(loans.to_numpy())\n",
    "loans_employment = np.delete(loans_employment[:,:-1],[disbursal_date_ix, birthday_ix,average_idx,credit_history_idx],1)\n",
    "\n",
    "X_train, X_sample, y_train, y_sample = train_test_split(\n",
    "    loans_employment,\n",
    "    loans_labels,\n",
    "    test_size=0.2,\n",
    "    stratify=stratify_var,\n",
    "    random_state= seed\n",
    ")"
   ]
  },
  {
   "cell_type": "markdown",
   "metadata": {},
   "source": [
    "Testaremos dois modelos de imputação, o SimpleImputer e o IterativeImputer. Para o SimpleImputer iremos fazer um Grid Search, já que temos poucas combinações a serem feitas. "
   ]
  },
  {
   "cell_type": "code",
   "execution_count": 109,
   "metadata": {
    "id": "CkMe7VI3lHhE"
   },
   "outputs": [
    {
     "name": "stdout",
     "output_type": "stream",
     "text": [
      "Melhores parâmetros: {'imputer__add_indicator': False, 'imputer__copy': True, 'imputer__strategy': 'median'}\n",
      "Melhor score (recall): 0.7808604744672296\n"
     ]
    }
   ],
   "source": [
    "from sklearn.impute import SimpleImputer\n",
    "from sklearn.pipeline import Pipeline\n",
    "from sklearn.ensemble import RandomForestClassifier\n",
    "from sklearn.model_selection import RandomizedSearchCV, GridSearchCV\n",
    "from sklearn.preprocessing import StandardScaler\n",
    "\n",
    "model = RandomForestClassifier(random_state=seed)\n",
    "\n",
    "pipeline_simple = Pipeline([\n",
    "    ('scaler', StandardScaler()),\n",
    "    ('imputer', SimpleImputer()),\n",
    "    ('classifier', model)\n",
    "])\n",
    "\n",
    "simple_imputer_params = {\n",
    "    \"imputer__strategy\": ['mean', 'median'],\n",
    "}\n",
    "\n",
    "grid_search_simple = GridSearchCV(\n",
    "    pipeline_simple,\n",
    "    param_grid=simple_imputer_params,\n",
    "    scoring='accuracy',\n",
    "    cv=3,\n",
    "    n_jobs=-1,\n",
    ")\n",
    "grid_search_simple.fit(X_sample, y_sample)\n",
    "\n",
    "print(\"Melhores parâmetros:\", grid_search_simple.best_params_)\n",
    "print(\"Melhor score (recall):\", grid_search_simple.best_score_)"
   ]
  },
  {
   "cell_type": "markdown",
   "metadata": {},
   "source": [
    "Para selecionar os  melhores hiperparâmetros do IterativeImputer, faremos um Random Search utilizando o Random Forest, pois de acordo com o artigo \"Missing Data Imputation Through the Use of the Random Forest Algorithm\" de Pantanowitz, ele é superior a outros modelos testados em termos de acuracia e tempo computacional.\n",
    "\n",
    "Referência: Pantanowitz, A., Marwala, T. (2009). Missing Data Imputation Through the Use of the Random Forest Algorithm. In: Yu, W., Sanchez, E.N. (eds) Advances in Computational Intelligence. Advances in Intelligent and Soft Computing, vol 116. Springer, Berlin, Heidelberg. https://doi.org/10.1007/978-3-642-03156-4_6."
   ]
  },
  {
   "cell_type": "code",
   "execution_count": 49,
   "metadata": {},
   "outputs": [
    {
     "name": "stderr",
     "output_type": "stream",
     "text": [
      "c:\\Users\\carol\\AppData\\Local\\Programs\\Python\\Python312\\Lib\\site-packages\\numpy\\ma\\core.py:2881: RuntimeWarning: invalid value encountered in cast\n",
      "  _data = np.array(data, dtype=dtype, copy=copy,\n"
     ]
    },
    {
     "data": {
      "text/html": [
       "<style>#sk-container-id-2 {\n",
       "  /* Definition of color scheme common for light and dark mode */\n",
       "  --sklearn-color-text: black;\n",
       "  --sklearn-color-line: gray;\n",
       "  /* Definition of color scheme for unfitted estimators */\n",
       "  --sklearn-color-unfitted-level-0: #fff5e6;\n",
       "  --sklearn-color-unfitted-level-1: #f6e4d2;\n",
       "  --sklearn-color-unfitted-level-2: #ffe0b3;\n",
       "  --sklearn-color-unfitted-level-3: chocolate;\n",
       "  /* Definition of color scheme for fitted estimators */\n",
       "  --sklearn-color-fitted-level-0: #f0f8ff;\n",
       "  --sklearn-color-fitted-level-1: #d4ebff;\n",
       "  --sklearn-color-fitted-level-2: #b3dbfd;\n",
       "  --sklearn-color-fitted-level-3: cornflowerblue;\n",
       "\n",
       "  /* Specific color for light theme */\n",
       "  --sklearn-color-text-on-default-background: var(--sg-text-color, var(--theme-code-foreground, var(--jp-content-font-color1, black)));\n",
       "  --sklearn-color-background: var(--sg-background-color, var(--theme-background, var(--jp-layout-color0, white)));\n",
       "  --sklearn-color-border-box: var(--sg-text-color, var(--theme-code-foreground, var(--jp-content-font-color1, black)));\n",
       "  --sklearn-color-icon: #696969;\n",
       "\n",
       "  @media (prefers-color-scheme: dark) {\n",
       "    /* Redefinition of color scheme for dark theme */\n",
       "    --sklearn-color-text-on-default-background: var(--sg-text-color, var(--theme-code-foreground, var(--jp-content-font-color1, white)));\n",
       "    --sklearn-color-background: var(--sg-background-color, var(--theme-background, var(--jp-layout-color0, #111)));\n",
       "    --sklearn-color-border-box: var(--sg-text-color, var(--theme-code-foreground, var(--jp-content-font-color1, white)));\n",
       "    --sklearn-color-icon: #878787;\n",
       "  }\n",
       "}\n",
       "\n",
       "#sk-container-id-2 {\n",
       "  color: var(--sklearn-color-text);\n",
       "}\n",
       "\n",
       "#sk-container-id-2 pre {\n",
       "  padding: 0;\n",
       "}\n",
       "\n",
       "#sk-container-id-2 input.sk-hidden--visually {\n",
       "  border: 0;\n",
       "  clip: rect(1px 1px 1px 1px);\n",
       "  clip: rect(1px, 1px, 1px, 1px);\n",
       "  height: 1px;\n",
       "  margin: -1px;\n",
       "  overflow: hidden;\n",
       "  padding: 0;\n",
       "  position: absolute;\n",
       "  width: 1px;\n",
       "}\n",
       "\n",
       "#sk-container-id-2 div.sk-dashed-wrapped {\n",
       "  border: 1px dashed var(--sklearn-color-line);\n",
       "  margin: 0 0.4em 0.5em 0.4em;\n",
       "  box-sizing: border-box;\n",
       "  padding-bottom: 0.4em;\n",
       "  background-color: var(--sklearn-color-background);\n",
       "}\n",
       "\n",
       "#sk-container-id-2 div.sk-container {\n",
       "  /* jupyter's `normalize.less` sets `[hidden] { display: none; }`\n",
       "     but bootstrap.min.css set `[hidden] { display: none !important; }`\n",
       "     so we also need the `!important` here to be able to override the\n",
       "     default hidden behavior on the sphinx rendered scikit-learn.org.\n",
       "     See: https://github.com/scikit-learn/scikit-learn/issues/21755 */\n",
       "  display: inline-block !important;\n",
       "  position: relative;\n",
       "}\n",
       "\n",
       "#sk-container-id-2 div.sk-text-repr-fallback {\n",
       "  display: none;\n",
       "}\n",
       "\n",
       "div.sk-parallel-item,\n",
       "div.sk-serial,\n",
       "div.sk-item {\n",
       "  /* draw centered vertical line to link estimators */\n",
       "  background-image: linear-gradient(var(--sklearn-color-text-on-default-background), var(--sklearn-color-text-on-default-background));\n",
       "  background-size: 2px 100%;\n",
       "  background-repeat: no-repeat;\n",
       "  background-position: center center;\n",
       "}\n",
       "\n",
       "/* Parallel-specific style estimator block */\n",
       "\n",
       "#sk-container-id-2 div.sk-parallel-item::after {\n",
       "  content: \"\";\n",
       "  width: 100%;\n",
       "  border-bottom: 2px solid var(--sklearn-color-text-on-default-background);\n",
       "  flex-grow: 1;\n",
       "}\n",
       "\n",
       "#sk-container-id-2 div.sk-parallel {\n",
       "  display: flex;\n",
       "  align-items: stretch;\n",
       "  justify-content: center;\n",
       "  background-color: var(--sklearn-color-background);\n",
       "  position: relative;\n",
       "}\n",
       "\n",
       "#sk-container-id-2 div.sk-parallel-item {\n",
       "  display: flex;\n",
       "  flex-direction: column;\n",
       "}\n",
       "\n",
       "#sk-container-id-2 div.sk-parallel-item:first-child::after {\n",
       "  align-self: flex-end;\n",
       "  width: 50%;\n",
       "}\n",
       "\n",
       "#sk-container-id-2 div.sk-parallel-item:last-child::after {\n",
       "  align-self: flex-start;\n",
       "  width: 50%;\n",
       "}\n",
       "\n",
       "#sk-container-id-2 div.sk-parallel-item:only-child::after {\n",
       "  width: 0;\n",
       "}\n",
       "\n",
       "/* Serial-specific style estimator block */\n",
       "\n",
       "#sk-container-id-2 div.sk-serial {\n",
       "  display: flex;\n",
       "  flex-direction: column;\n",
       "  align-items: center;\n",
       "  background-color: var(--sklearn-color-background);\n",
       "  padding-right: 1em;\n",
       "  padding-left: 1em;\n",
       "}\n",
       "\n",
       "\n",
       "/* Toggleable style: style used for estimator/Pipeline/ColumnTransformer box that is\n",
       "clickable and can be expanded/collapsed.\n",
       "- Pipeline and ColumnTransformer use this feature and define the default style\n",
       "- Estimators will overwrite some part of the style using the `sk-estimator` class\n",
       "*/\n",
       "\n",
       "/* Pipeline and ColumnTransformer style (default) */\n",
       "\n",
       "#sk-container-id-2 div.sk-toggleable {\n",
       "  /* Default theme specific background. It is overwritten whether we have a\n",
       "  specific estimator or a Pipeline/ColumnTransformer */\n",
       "  background-color: var(--sklearn-color-background);\n",
       "}\n",
       "\n",
       "/* Toggleable label */\n",
       "#sk-container-id-2 label.sk-toggleable__label {\n",
       "  cursor: pointer;\n",
       "  display: block;\n",
       "  width: 100%;\n",
       "  margin-bottom: 0;\n",
       "  padding: 0.5em;\n",
       "  box-sizing: border-box;\n",
       "  text-align: center;\n",
       "}\n",
       "\n",
       "#sk-container-id-2 label.sk-toggleable__label-arrow:before {\n",
       "  /* Arrow on the left of the label */\n",
       "  content: \"▸\";\n",
       "  float: left;\n",
       "  margin-right: 0.25em;\n",
       "  color: var(--sklearn-color-icon);\n",
       "}\n",
       "\n",
       "#sk-container-id-2 label.sk-toggleable__label-arrow:hover:before {\n",
       "  color: var(--sklearn-color-text);\n",
       "}\n",
       "\n",
       "/* Toggleable content - dropdown */\n",
       "\n",
       "#sk-container-id-2 div.sk-toggleable__content {\n",
       "  max-height: 0;\n",
       "  max-width: 0;\n",
       "  overflow: hidden;\n",
       "  text-align: left;\n",
       "  /* unfitted */\n",
       "  background-color: var(--sklearn-color-unfitted-level-0);\n",
       "}\n",
       "\n",
       "#sk-container-id-2 div.sk-toggleable__content.fitted {\n",
       "  /* fitted */\n",
       "  background-color: var(--sklearn-color-fitted-level-0);\n",
       "}\n",
       "\n",
       "#sk-container-id-2 div.sk-toggleable__content pre {\n",
       "  margin: 0.2em;\n",
       "  border-radius: 0.25em;\n",
       "  color: var(--sklearn-color-text);\n",
       "  /* unfitted */\n",
       "  background-color: var(--sklearn-color-unfitted-level-0);\n",
       "}\n",
       "\n",
       "#sk-container-id-2 div.sk-toggleable__content.fitted pre {\n",
       "  /* unfitted */\n",
       "  background-color: var(--sklearn-color-fitted-level-0);\n",
       "}\n",
       "\n",
       "#sk-container-id-2 input.sk-toggleable__control:checked~div.sk-toggleable__content {\n",
       "  /* Expand drop-down */\n",
       "  max-height: 200px;\n",
       "  max-width: 100%;\n",
       "  overflow: auto;\n",
       "}\n",
       "\n",
       "#sk-container-id-2 input.sk-toggleable__control:checked~label.sk-toggleable__label-arrow:before {\n",
       "  content: \"▾\";\n",
       "}\n",
       "\n",
       "/* Pipeline/ColumnTransformer-specific style */\n",
       "\n",
       "#sk-container-id-2 div.sk-label input.sk-toggleable__control:checked~label.sk-toggleable__label {\n",
       "  color: var(--sklearn-color-text);\n",
       "  background-color: var(--sklearn-color-unfitted-level-2);\n",
       "}\n",
       "\n",
       "#sk-container-id-2 div.sk-label.fitted input.sk-toggleable__control:checked~label.sk-toggleable__label {\n",
       "  background-color: var(--sklearn-color-fitted-level-2);\n",
       "}\n",
       "\n",
       "/* Estimator-specific style */\n",
       "\n",
       "/* Colorize estimator box */\n",
       "#sk-container-id-2 div.sk-estimator input.sk-toggleable__control:checked~label.sk-toggleable__label {\n",
       "  /* unfitted */\n",
       "  background-color: var(--sklearn-color-unfitted-level-2);\n",
       "}\n",
       "\n",
       "#sk-container-id-2 div.sk-estimator.fitted input.sk-toggleable__control:checked~label.sk-toggleable__label {\n",
       "  /* fitted */\n",
       "  background-color: var(--sklearn-color-fitted-level-2);\n",
       "}\n",
       "\n",
       "#sk-container-id-2 div.sk-label label.sk-toggleable__label,\n",
       "#sk-container-id-2 div.sk-label label {\n",
       "  /* The background is the default theme color */\n",
       "  color: var(--sklearn-color-text-on-default-background);\n",
       "}\n",
       "\n",
       "/* On hover, darken the color of the background */\n",
       "#sk-container-id-2 div.sk-label:hover label.sk-toggleable__label {\n",
       "  color: var(--sklearn-color-text);\n",
       "  background-color: var(--sklearn-color-unfitted-level-2);\n",
       "}\n",
       "\n",
       "/* Label box, darken color on hover, fitted */\n",
       "#sk-container-id-2 div.sk-label.fitted:hover label.sk-toggleable__label.fitted {\n",
       "  color: var(--sklearn-color-text);\n",
       "  background-color: var(--sklearn-color-fitted-level-2);\n",
       "}\n",
       "\n",
       "/* Estimator label */\n",
       "\n",
       "#sk-container-id-2 div.sk-label label {\n",
       "  font-family: monospace;\n",
       "  font-weight: bold;\n",
       "  display: inline-block;\n",
       "  line-height: 1.2em;\n",
       "}\n",
       "\n",
       "#sk-container-id-2 div.sk-label-container {\n",
       "  text-align: center;\n",
       "}\n",
       "\n",
       "/* Estimator-specific */\n",
       "#sk-container-id-2 div.sk-estimator {\n",
       "  font-family: monospace;\n",
       "  border: 1px dotted var(--sklearn-color-border-box);\n",
       "  border-radius: 0.25em;\n",
       "  box-sizing: border-box;\n",
       "  margin-bottom: 0.5em;\n",
       "  /* unfitted */\n",
       "  background-color: var(--sklearn-color-unfitted-level-0);\n",
       "}\n",
       "\n",
       "#sk-container-id-2 div.sk-estimator.fitted {\n",
       "  /* fitted */\n",
       "  background-color: var(--sklearn-color-fitted-level-0);\n",
       "}\n",
       "\n",
       "/* on hover */\n",
       "#sk-container-id-2 div.sk-estimator:hover {\n",
       "  /* unfitted */\n",
       "  background-color: var(--sklearn-color-unfitted-level-2);\n",
       "}\n",
       "\n",
       "#sk-container-id-2 div.sk-estimator.fitted:hover {\n",
       "  /* fitted */\n",
       "  background-color: var(--sklearn-color-fitted-level-2);\n",
       "}\n",
       "\n",
       "/* Specification for estimator info (e.g. \"i\" and \"?\") */\n",
       "\n",
       "/* Common style for \"i\" and \"?\" */\n",
       "\n",
       ".sk-estimator-doc-link,\n",
       "a:link.sk-estimator-doc-link,\n",
       "a:visited.sk-estimator-doc-link {\n",
       "  float: right;\n",
       "  font-size: smaller;\n",
       "  line-height: 1em;\n",
       "  font-family: monospace;\n",
       "  background-color: var(--sklearn-color-background);\n",
       "  border-radius: 1em;\n",
       "  height: 1em;\n",
       "  width: 1em;\n",
       "  text-decoration: none !important;\n",
       "  margin-left: 1ex;\n",
       "  /* unfitted */\n",
       "  border: var(--sklearn-color-unfitted-level-1) 1pt solid;\n",
       "  color: var(--sklearn-color-unfitted-level-1);\n",
       "}\n",
       "\n",
       ".sk-estimator-doc-link.fitted,\n",
       "a:link.sk-estimator-doc-link.fitted,\n",
       "a:visited.sk-estimator-doc-link.fitted {\n",
       "  /* fitted */\n",
       "  border: var(--sklearn-color-fitted-level-1) 1pt solid;\n",
       "  color: var(--sklearn-color-fitted-level-1);\n",
       "}\n",
       "\n",
       "/* On hover */\n",
       "div.sk-estimator:hover .sk-estimator-doc-link:hover,\n",
       ".sk-estimator-doc-link:hover,\n",
       "div.sk-label-container:hover .sk-estimator-doc-link:hover,\n",
       ".sk-estimator-doc-link:hover {\n",
       "  /* unfitted */\n",
       "  background-color: var(--sklearn-color-unfitted-level-3);\n",
       "  color: var(--sklearn-color-background);\n",
       "  text-decoration: none;\n",
       "}\n",
       "\n",
       "div.sk-estimator.fitted:hover .sk-estimator-doc-link.fitted:hover,\n",
       ".sk-estimator-doc-link.fitted:hover,\n",
       "div.sk-label-container:hover .sk-estimator-doc-link.fitted:hover,\n",
       ".sk-estimator-doc-link.fitted:hover {\n",
       "  /* fitted */\n",
       "  background-color: var(--sklearn-color-fitted-level-3);\n",
       "  color: var(--sklearn-color-background);\n",
       "  text-decoration: none;\n",
       "}\n",
       "\n",
       "/* Span, style for the box shown on hovering the info icon */\n",
       ".sk-estimator-doc-link span {\n",
       "  display: none;\n",
       "  z-index: 9999;\n",
       "  position: relative;\n",
       "  font-weight: normal;\n",
       "  right: .2ex;\n",
       "  padding: .5ex;\n",
       "  margin: .5ex;\n",
       "  width: min-content;\n",
       "  min-width: 20ex;\n",
       "  max-width: 50ex;\n",
       "  color: var(--sklearn-color-text);\n",
       "  box-shadow: 2pt 2pt 4pt #999;\n",
       "  /* unfitted */\n",
       "  background: var(--sklearn-color-unfitted-level-0);\n",
       "  border: .5pt solid var(--sklearn-color-unfitted-level-3);\n",
       "}\n",
       "\n",
       ".sk-estimator-doc-link.fitted span {\n",
       "  /* fitted */\n",
       "  background: var(--sklearn-color-fitted-level-0);\n",
       "  border: var(--sklearn-color-fitted-level-3);\n",
       "}\n",
       "\n",
       ".sk-estimator-doc-link:hover span {\n",
       "  display: block;\n",
       "}\n",
       "\n",
       "/* \"?\"-specific style due to the `<a>` HTML tag */\n",
       "\n",
       "#sk-container-id-2 a.estimator_doc_link {\n",
       "  float: right;\n",
       "  font-size: 1rem;\n",
       "  line-height: 1em;\n",
       "  font-family: monospace;\n",
       "  background-color: var(--sklearn-color-background);\n",
       "  border-radius: 1rem;\n",
       "  height: 1rem;\n",
       "  width: 1rem;\n",
       "  text-decoration: none;\n",
       "  /* unfitted */\n",
       "  color: var(--sklearn-color-unfitted-level-1);\n",
       "  border: var(--sklearn-color-unfitted-level-1) 1pt solid;\n",
       "}\n",
       "\n",
       "#sk-container-id-2 a.estimator_doc_link.fitted {\n",
       "  /* fitted */\n",
       "  border: var(--sklearn-color-fitted-level-1) 1pt solid;\n",
       "  color: var(--sklearn-color-fitted-level-1);\n",
       "}\n",
       "\n",
       "/* On hover */\n",
       "#sk-container-id-2 a.estimator_doc_link:hover {\n",
       "  /* unfitted */\n",
       "  background-color: var(--sklearn-color-unfitted-level-3);\n",
       "  color: var(--sklearn-color-background);\n",
       "  text-decoration: none;\n",
       "}\n",
       "\n",
       "#sk-container-id-2 a.estimator_doc_link.fitted:hover {\n",
       "  /* fitted */\n",
       "  background-color: var(--sklearn-color-fitted-level-3);\n",
       "}\n",
       "</style><div id=\"sk-container-id-2\" class=\"sk-top-container\"><div class=\"sk-text-repr-fallback\"><pre>RandomizedSearchCV(cv=4,\n",
       "                   estimator=Pipeline(steps=[(&#x27;imputer&#x27;, IterativeImputer()),\n",
       "                                             (&#x27;classifier&#x27;,\n",
       "                                              RandomForestClassifier(random_state=4))]),\n",
       "                   n_iter=15, n_jobs=-1,\n",
       "                   param_distributions={&#x27;imputer__estimator&#x27;: [BayesianRidge(),\n",
       "                                                               RandomForestRegressor(),\n",
       "                                                               DecisionTreeRegressor()],\n",
       "                                        &#x27;imputer__imputation_order&#x27;: [&#x27;ascending&#x27;,\n",
       "                                                                      &#x27;descending&#x27;,\n",
       "                                                                      &#x27;random&#x27;],\n",
       "                                        &#x27;imputer__initial_strategy&#x27;: [&#x27;mean&#x27;,\n",
       "                                                                      &#x27;median&#x27;,\n",
       "                                                                      &#x27;most_frequent&#x27;],\n",
       "                                        &#x27;imputer__max_iter&#x27;: &lt;scipy.stats._distn_infrastructure.rv_discrete_frozen object at 0x000001B396C356A0&gt;,\n",
       "                                        &#x27;imputer__tol&#x27;: &lt;scipy.stats._distn_infrastructure.rv_continuous_frozen object at 0x000001B389837B90&gt;},\n",
       "                   random_state=4, scoring=&#x27;accuracy&#x27;)</pre><b>In a Jupyter environment, please rerun this cell to show the HTML representation or trust the notebook. <br />On GitHub, the HTML representation is unable to render, please try loading this page with nbviewer.org.</b></div><div class=\"sk-container\" hidden><div class=\"sk-item sk-dashed-wrapped\"><div class=\"sk-label-container\"><div class=\"sk-label fitted sk-toggleable\"><input class=\"sk-toggleable__control sk-hidden--visually\" id=\"sk-estimator-id-6\" type=\"checkbox\" ><label for=\"sk-estimator-id-6\" class=\"sk-toggleable__label fitted sk-toggleable__label-arrow fitted\">&nbsp;&nbsp;RandomizedSearchCV<a class=\"sk-estimator-doc-link fitted\" rel=\"noreferrer\" target=\"_blank\" href=\"https://scikit-learn.org/1.5/modules/generated/sklearn.model_selection.RandomizedSearchCV.html\">?<span>Documentation for RandomizedSearchCV</span></a><span class=\"sk-estimator-doc-link fitted\">i<span>Fitted</span></span></label><div class=\"sk-toggleable__content fitted\"><pre>RandomizedSearchCV(cv=4,\n",
       "                   estimator=Pipeline(steps=[(&#x27;imputer&#x27;, IterativeImputer()),\n",
       "                                             (&#x27;classifier&#x27;,\n",
       "                                              RandomForestClassifier(random_state=4))]),\n",
       "                   n_iter=15, n_jobs=-1,\n",
       "                   param_distributions={&#x27;imputer__estimator&#x27;: [BayesianRidge(),\n",
       "                                                               RandomForestRegressor(),\n",
       "                                                               DecisionTreeRegressor()],\n",
       "                                        &#x27;imputer__imputation_order&#x27;: [&#x27;ascending&#x27;,\n",
       "                                                                      &#x27;descending&#x27;,\n",
       "                                                                      &#x27;random&#x27;],\n",
       "                                        &#x27;imputer__initial_strategy&#x27;: [&#x27;mean&#x27;,\n",
       "                                                                      &#x27;median&#x27;,\n",
       "                                                                      &#x27;most_frequent&#x27;],\n",
       "                                        &#x27;imputer__max_iter&#x27;: &lt;scipy.stats._distn_infrastructure.rv_discrete_frozen object at 0x000001B396C356A0&gt;,\n",
       "                                        &#x27;imputer__tol&#x27;: &lt;scipy.stats._distn_infrastructure.rv_continuous_frozen object at 0x000001B389837B90&gt;},\n",
       "                   random_state=4, scoring=&#x27;accuracy&#x27;)</pre></div> </div></div><div class=\"sk-parallel\"><div class=\"sk-parallel-item\"><div class=\"sk-item\"><div class=\"sk-label-container\"><div class=\"sk-label fitted sk-toggleable\"><input class=\"sk-toggleable__control sk-hidden--visually\" id=\"sk-estimator-id-7\" type=\"checkbox\" ><label for=\"sk-estimator-id-7\" class=\"sk-toggleable__label fitted sk-toggleable__label-arrow fitted\">best_estimator_: Pipeline</label><div class=\"sk-toggleable__content fitted\"><pre>Pipeline(steps=[(&#x27;imputer&#x27;,\n",
       "                 IterativeImputer(estimator=RandomForestRegressor(),\n",
       "                                  initial_strategy=&#x27;most_frequent&#x27;, max_iter=25,\n",
       "                                  tol=np.float64(0.0010092515316253833))),\n",
       "                (&#x27;classifier&#x27;, RandomForestClassifier(random_state=4))])</pre></div> </div></div><div class=\"sk-serial\"><div class=\"sk-item\"><div class=\"sk-serial\"><div class=\"sk-item sk-dashed-wrapped\"><div class=\"sk-label-container\"><div class=\"sk-label fitted sk-toggleable\"><input class=\"sk-toggleable__control sk-hidden--visually\" id=\"sk-estimator-id-8\" type=\"checkbox\" ><label for=\"sk-estimator-id-8\" class=\"sk-toggleable__label fitted sk-toggleable__label-arrow fitted\">&nbsp;imputer: IterativeImputer<a class=\"sk-estimator-doc-link fitted\" rel=\"noreferrer\" target=\"_blank\" href=\"https://scikit-learn.org/1.5/modules/generated/sklearn.impute.IterativeImputer.html\">?<span>Documentation for imputer: IterativeImputer</span></a></label><div class=\"sk-toggleable__content fitted\"><pre>IterativeImputer(estimator=RandomForestRegressor(),\n",
       "                 initial_strategy=&#x27;most_frequent&#x27;, max_iter=25,\n",
       "                 tol=np.float64(0.0010092515316253833))</pre></div> </div></div><div class=\"sk-parallel\"><div class=\"sk-parallel-item\"><div class=\"sk-item\"><div class=\"sk-label-container\"><div class=\"sk-label fitted sk-toggleable\"><input class=\"sk-toggleable__control sk-hidden--visually\" id=\"sk-estimator-id-9\" type=\"checkbox\" ><label for=\"sk-estimator-id-9\" class=\"sk-toggleable__label fitted sk-toggleable__label-arrow fitted\">estimator: RandomForestRegressor</label><div class=\"sk-toggleable__content fitted\"><pre>RandomForestRegressor()</pre></div> </div></div><div class=\"sk-serial\"><div class=\"sk-item\"><div class=\"sk-estimator fitted sk-toggleable\"><input class=\"sk-toggleable__control sk-hidden--visually\" id=\"sk-estimator-id-10\" type=\"checkbox\" ><label for=\"sk-estimator-id-10\" class=\"sk-toggleable__label fitted sk-toggleable__label-arrow fitted\">&nbsp;RandomForestRegressor<a class=\"sk-estimator-doc-link fitted\" rel=\"noreferrer\" target=\"_blank\" href=\"https://scikit-learn.org/1.5/modules/generated/sklearn.ensemble.RandomForestRegressor.html\">?<span>Documentation for RandomForestRegressor</span></a></label><div class=\"sk-toggleable__content fitted\"><pre>RandomForestRegressor()</pre></div> </div></div></div></div></div></div></div><div class=\"sk-item\"><div class=\"sk-estimator fitted sk-toggleable\"><input class=\"sk-toggleable__control sk-hidden--visually\" id=\"sk-estimator-id-11\" type=\"checkbox\" ><label for=\"sk-estimator-id-11\" class=\"sk-toggleable__label fitted sk-toggleable__label-arrow fitted\">&nbsp;RandomForestClassifier<a class=\"sk-estimator-doc-link fitted\" rel=\"noreferrer\" target=\"_blank\" href=\"https://scikit-learn.org/1.5/modules/generated/sklearn.ensemble.RandomForestClassifier.html\">?<span>Documentation for RandomForestClassifier</span></a></label><div class=\"sk-toggleable__content fitted\"><pre>RandomForestClassifier(random_state=4)</pre></div> </div></div></div></div></div></div></div></div></div></div></div>"
      ],
      "text/plain": [
       "RandomizedSearchCV(cv=4,\n",
       "                   estimator=Pipeline(steps=[('imputer', IterativeImputer()),\n",
       "                                             ('classifier',\n",
       "                                              RandomForestClassifier(random_state=4))]),\n",
       "                   n_iter=15, n_jobs=-1,\n",
       "                   param_distributions={'imputer__estimator': [BayesianRidge(),\n",
       "                                                               RandomForestRegressor(),\n",
       "                                                               DecisionTreeRegressor()],\n",
       "                                        'imputer__imputation_order': ['ascending',\n",
       "                                                                      'descending',\n",
       "                                                                      'random'],\n",
       "                                        'imputer__initial_strategy': ['mean',\n",
       "                                                                      'median',\n",
       "                                                                      'most_frequent'],\n",
       "                                        'imputer__max_iter': <scipy.stats._distn_infrastructure.rv_discrete_frozen object at 0x000001B396C356A0>,\n",
       "                                        'imputer__tol': <scipy.stats._distn_infrastructure.rv_continuous_frozen object at 0x000001B389837B90>},\n",
       "                   random_state=4, scoring='accuracy')"
      ]
     },
     "execution_count": 49,
     "metadata": {},
     "output_type": "execute_result"
    }
   ],
   "source": [
    "from sklearn.linear_model import BayesianRidge\n",
    "from sklearn.tree import DecisionTreeRegressor\n",
    "from sklearn.ensemble import RandomForestRegressor\n",
    "from sklearn.experimental import enable_iterative_imputer\n",
    "from sklearn.impute import IterativeImputer\n",
    "from scipy.stats import randint, uniform\n",
    "\n",
    "model = RandomForestClassifier(random_state=seed)\n",
    "\n",
    "pipeline_iterative = Pipeline([\n",
    "    ('imputer', IterativeImputer()),\n",
    "    ('classifier', model)\n",
    "])\n",
    "\n",
    "\n",
    "iterative_imputer_params = {\n",
    "    'imputer__estimator': [BayesianRidge(), RandomForestRegressor(), DecisionTreeRegressor()],\n",
    "    'imputer__max_iter': randint(10,50),\n",
    "    'imputer__tol': uniform(1e-3,1e-5), \n",
    "    'imputer__initial_strategy': ['mean', 'median', 'most_frequent'],\n",
    "    'imputer__imputation_order': ['ascending', 'descending', 'random']\n",
    "}\n",
    "\n",
    "\n",
    "random_search_iterative = RandomizedSearchCV(\n",
    "    pipeline_iterative,\n",
    "    param_distributions=iterative_imputer_params,\n",
    "    scoring='accuracy',\n",
    "    cv=4,\n",
    "    n_iter=15,\n",
    "    random_state=seed,\n",
    "    n_jobs=-1,\n",
    ")\n",
    "\n",
    "random_search_iterative.fit(X_sample, y_sample)"
   ]
  },
  {
   "cell_type": "markdown",
   "metadata": {},
   "source": [
    "Segue abaixo os resultados compilados:"
   ]
  },
  {
   "cell_type": "code",
   "execution_count": 50,
   "metadata": {
    "colab": {
     "base_uri": "https://localhost:8080/",
     "height": 520
    },
    "id": "5ZZtycqaPq0N",
    "outputId": "5ef3f681-6467-4e04-914d-1673fc5f9fe5"
   },
   "outputs": [
    {
     "data": {
      "text/html": [
       "<div>\n",
       "<style scoped>\n",
       "    .dataframe tbody tr th:only-of-type {\n",
       "        vertical-align: middle;\n",
       "    }\n",
       "\n",
       "    .dataframe tbody tr th {\n",
       "        vertical-align: top;\n",
       "    }\n",
       "\n",
       "    .dataframe thead th {\n",
       "        text-align: right;\n",
       "    }\n",
       "</style>\n",
       "<table border=\"1\" class=\"dataframe\">\n",
       "  <thead>\n",
       "    <tr style=\"text-align: right;\">\n",
       "      <th></th>\n",
       "      <th>Imputer</th>\n",
       "      <th>mean_test_score</th>\n",
       "      <th>std_test_score</th>\n",
       "      <th>params</th>\n",
       "    </tr>\n",
       "  </thead>\n",
       "  <tbody>\n",
       "    <tr>\n",
       "      <th>15</th>\n",
       "      <td>IterativeImputer</td>\n",
       "      <td>0.781450</td>\n",
       "      <td>0.001169</td>\n",
       "      <td>{'imputer__estimator': RandomForestRegressor()...</td>\n",
       "    </tr>\n",
       "    <tr>\n",
       "      <th>10</th>\n",
       "      <td>IterativeImputer</td>\n",
       "      <td>0.781129</td>\n",
       "      <td>0.001433</td>\n",
       "      <td>{'imputer__estimator': RandomForestRegressor()...</td>\n",
       "    </tr>\n",
       "    <tr>\n",
       "      <th>16</th>\n",
       "      <td>IterativeImputer</td>\n",
       "      <td>0.781129</td>\n",
       "      <td>0.001162</td>\n",
       "      <td>{'imputer__estimator': RandomForestRegressor()...</td>\n",
       "    </tr>\n",
       "    <tr>\n",
       "      <th>18</th>\n",
       "      <td>IterativeImputer</td>\n",
       "      <td>0.780914</td>\n",
       "      <td>0.002513</td>\n",
       "      <td>{'imputer__estimator': DecisionTreeRegressor()...</td>\n",
       "    </tr>\n",
       "    <tr>\n",
       "      <th>5</th>\n",
       "      <td>SimpleImputer</td>\n",
       "      <td>0.780860</td>\n",
       "      <td>0.001425</td>\n",
       "      <td>{'imputer__add_indicator': False, 'imputer__co...</td>\n",
       "    </tr>\n",
       "    <tr>\n",
       "      <th>7</th>\n",
       "      <td>SimpleImputer</td>\n",
       "      <td>0.780860</td>\n",
       "      <td>0.001425</td>\n",
       "      <td>{'imputer__add_indicator': False, 'imputer__co...</td>\n",
       "    </tr>\n",
       "    <tr>\n",
       "      <th>13</th>\n",
       "      <td>IterativeImputer</td>\n",
       "      <td>0.780592</td>\n",
       "      <td>0.002064</td>\n",
       "      <td>{'imputer__estimator': DecisionTreeRegressor()...</td>\n",
       "    </tr>\n",
       "    <tr>\n",
       "      <th>1</th>\n",
       "      <td>SimpleImputer</td>\n",
       "      <td>0.780592</td>\n",
       "      <td>0.001557</td>\n",
       "      <td>{'imputer__add_indicator': True, 'imputer__cop...</td>\n",
       "    </tr>\n",
       "    <tr>\n",
       "      <th>3</th>\n",
       "      <td>SimpleImputer</td>\n",
       "      <td>0.780592</td>\n",
       "      <td>0.001557</td>\n",
       "      <td>{'imputer__add_indicator': True, 'imputer__cop...</td>\n",
       "    </tr>\n",
       "    <tr>\n",
       "      <th>12</th>\n",
       "      <td>IterativeImputer</td>\n",
       "      <td>0.780405</td>\n",
       "      <td>0.001648</td>\n",
       "      <td>{'imputer__estimator': RandomForestRegressor()...</td>\n",
       "    </tr>\n",
       "    <tr>\n",
       "      <th>17</th>\n",
       "      <td>IterativeImputer</td>\n",
       "      <td>0.780378</td>\n",
       "      <td>0.001089</td>\n",
       "      <td>{'imputer__estimator': BayesianRidge(), 'imput...</td>\n",
       "    </tr>\n",
       "    <tr>\n",
       "      <th>20</th>\n",
       "      <td>IterativeImputer</td>\n",
       "      <td>0.780378</td>\n",
       "      <td>0.001089</td>\n",
       "      <td>{'imputer__estimator': BayesianRidge(), 'imput...</td>\n",
       "    </tr>\n",
       "    <tr>\n",
       "      <th>14</th>\n",
       "      <td>IterativeImputer</td>\n",
       "      <td>0.780378</td>\n",
       "      <td>0.001089</td>\n",
       "      <td>{'imputer__estimator': BayesianRidge(), 'imput...</td>\n",
       "    </tr>\n",
       "    <tr>\n",
       "      <th>9</th>\n",
       "      <td>IterativeImputer</td>\n",
       "      <td>0.780378</td>\n",
       "      <td>0.001089</td>\n",
       "      <td>{'imputer__estimator': BayesianRidge(), 'imput...</td>\n",
       "    </tr>\n",
       "    <tr>\n",
       "      <th>11</th>\n",
       "      <td>IterativeImputer</td>\n",
       "      <td>0.780378</td>\n",
       "      <td>0.001089</td>\n",
       "      <td>{'imputer__estimator': BayesianRidge(), 'imput...</td>\n",
       "    </tr>\n",
       "    <tr>\n",
       "      <th>22</th>\n",
       "      <td>IterativeImputer</td>\n",
       "      <td>0.780378</td>\n",
       "      <td>0.001089</td>\n",
       "      <td>{'imputer__estimator': BayesianRidge(), 'imput...</td>\n",
       "    </tr>\n",
       "    <tr>\n",
       "      <th>19</th>\n",
       "      <td>IterativeImputer</td>\n",
       "      <td>0.780244</td>\n",
       "      <td>0.001828</td>\n",
       "      <td>{'imputer__estimator': DecisionTreeRegressor()...</td>\n",
       "    </tr>\n",
       "    <tr>\n",
       "      <th>8</th>\n",
       "      <td>IterativeImputer</td>\n",
       "      <td>0.780190</td>\n",
       "      <td>0.001753</td>\n",
       "      <td>{'imputer__estimator': DecisionTreeRegressor()...</td>\n",
       "    </tr>\n",
       "    <tr>\n",
       "      <th>4</th>\n",
       "      <td>SimpleImputer</td>\n",
       "      <td>0.779735</td>\n",
       "      <td>0.001652</td>\n",
       "      <td>{'imputer__add_indicator': False, 'imputer__co...</td>\n",
       "    </tr>\n",
       "    <tr>\n",
       "      <th>6</th>\n",
       "      <td>SimpleImputer</td>\n",
       "      <td>0.779735</td>\n",
       "      <td>0.001652</td>\n",
       "      <td>{'imputer__add_indicator': False, 'imputer__co...</td>\n",
       "    </tr>\n",
       "    <tr>\n",
       "      <th>21</th>\n",
       "      <td>IterativeImputer</td>\n",
       "      <td>0.779708</td>\n",
       "      <td>0.001341</td>\n",
       "      <td>{'imputer__estimator': DecisionTreeRegressor()...</td>\n",
       "    </tr>\n",
       "    <tr>\n",
       "      <th>0</th>\n",
       "      <td>SimpleImputer</td>\n",
       "      <td>0.779493</td>\n",
       "      <td>0.002278</td>\n",
       "      <td>{'imputer__add_indicator': True, 'imputer__cop...</td>\n",
       "    </tr>\n",
       "    <tr>\n",
       "      <th>2</th>\n",
       "      <td>SimpleImputer</td>\n",
       "      <td>0.779493</td>\n",
       "      <td>0.002278</td>\n",
       "      <td>{'imputer__add_indicator': True, 'imputer__cop...</td>\n",
       "    </tr>\n",
       "  </tbody>\n",
       "</table>\n",
       "</div>"
      ],
      "text/plain": [
       "             Imputer  mean_test_score  std_test_score  \\\n",
       "15  IterativeImputer         0.781450        0.001169   \n",
       "10  IterativeImputer         0.781129        0.001433   \n",
       "16  IterativeImputer         0.781129        0.001162   \n",
       "18  IterativeImputer         0.780914        0.002513   \n",
       "5      SimpleImputer         0.780860        0.001425   \n",
       "7      SimpleImputer         0.780860        0.001425   \n",
       "13  IterativeImputer         0.780592        0.002064   \n",
       "1      SimpleImputer         0.780592        0.001557   \n",
       "3      SimpleImputer         0.780592        0.001557   \n",
       "12  IterativeImputer         0.780405        0.001648   \n",
       "17  IterativeImputer         0.780378        0.001089   \n",
       "20  IterativeImputer         0.780378        0.001089   \n",
       "14  IterativeImputer         0.780378        0.001089   \n",
       "9   IterativeImputer         0.780378        0.001089   \n",
       "11  IterativeImputer         0.780378        0.001089   \n",
       "22  IterativeImputer         0.780378        0.001089   \n",
       "19  IterativeImputer         0.780244        0.001828   \n",
       "8   IterativeImputer         0.780190        0.001753   \n",
       "4      SimpleImputer         0.779735        0.001652   \n",
       "6      SimpleImputer         0.779735        0.001652   \n",
       "21  IterativeImputer         0.779708        0.001341   \n",
       "0      SimpleImputer         0.779493        0.002278   \n",
       "2      SimpleImputer         0.779493        0.002278   \n",
       "\n",
       "                                               params  \n",
       "15  {'imputer__estimator': RandomForestRegressor()...  \n",
       "10  {'imputer__estimator': RandomForestRegressor()...  \n",
       "16  {'imputer__estimator': RandomForestRegressor()...  \n",
       "18  {'imputer__estimator': DecisionTreeRegressor()...  \n",
       "5   {'imputer__add_indicator': False, 'imputer__co...  \n",
       "7   {'imputer__add_indicator': False, 'imputer__co...  \n",
       "13  {'imputer__estimator': DecisionTreeRegressor()...  \n",
       "1   {'imputer__add_indicator': True, 'imputer__cop...  \n",
       "3   {'imputer__add_indicator': True, 'imputer__cop...  \n",
       "12  {'imputer__estimator': RandomForestRegressor()...  \n",
       "17  {'imputer__estimator': BayesianRidge(), 'imput...  \n",
       "20  {'imputer__estimator': BayesianRidge(), 'imput...  \n",
       "14  {'imputer__estimator': BayesianRidge(), 'imput...  \n",
       "9   {'imputer__estimator': BayesianRidge(), 'imput...  \n",
       "11  {'imputer__estimator': BayesianRidge(), 'imput...  \n",
       "22  {'imputer__estimator': BayesianRidge(), 'imput...  \n",
       "19  {'imputer__estimator': DecisionTreeRegressor()...  \n",
       "8   {'imputer__estimator': DecisionTreeRegressor()...  \n",
       "4   {'imputer__add_indicator': False, 'imputer__co...  \n",
       "6   {'imputer__add_indicator': False, 'imputer__co...  \n",
       "21  {'imputer__estimator': DecisionTreeRegressor()...  \n",
       "0   {'imputer__add_indicator': True, 'imputer__cop...  \n",
       "2   {'imputer__add_indicator': True, 'imputer__cop...  "
      ]
     },
     "execution_count": 50,
     "metadata": {},
     "output_type": "execute_result"
    }
   ],
   "source": [
    "results_simple = grid_search_simple.cv_results_\n",
    "new_col_simple = pd.DataFrame(['SimpleImputer'] * 8,columns=[\"Imputer\"])\n",
    "df_results_simple = pd.concat([new_col_simple,pd.DataFrame(results_simple)],axis=1)\n",
    "\n",
    "results_iterative=random_search_iterative.cv_results_\n",
    "new_col_iterative = pd.DataFrame(['IterativeImputer'] * 15,columns=[\"Imputer\"])\n",
    "df_results_iterative=pd.concat([new_col_iterative,pd.DataFrame(results_iterative)],axis=1)\n",
    "\n",
    "df_results_total = pd.concat([df_results_simple,df_results_iterative],axis=0,ignore_index=True)\n",
    "df_results_total = df_results_total[\n",
    "    ['Imputer','mean_test_score', 'std_test_score', 'params']\n",
    "]\n",
    "\n",
    "df_results_total = df_results_total.sort_values(by='mean_test_score', ascending=False)\n",
    "\n",
    "df_results_total"
   ]
  },
  {
   "cell_type": "markdown",
   "metadata": {},
   "source": [
    "Observamos que o InteractiveImputer obteve os melhores scores, mas o modelo SimpleImputer apresentou scores muito próximos. Considerando o custo computacional, decidimos optar pelo SimpleImputer."
   ]
  },
  {
   "cell_type": "code",
   "execution_count": 47,
   "metadata": {},
   "outputs": [],
   "source": [
    "from sklearn.impute import SimpleImputer\n",
    "imputer = SimpleImputer(add_indicator=False, copy=True, strategy='median')"
   ]
  },
  {
   "cell_type": "markdown",
   "metadata": {
    "id": "UmGmxMooni21"
   },
   "source": [
    "# Selecionar e treinar um modelo"
   ]
  },
  {
   "cell_type": "markdown",
   "metadata": {},
   "source": [
    "Vamos compilar todas as funções anteriormente criadas em um só pipeline que, quando aplicada em um conjunto de dados, irá prepara-lo para o uso em modelos. "
   ]
  },
  {
   "cell_type": "code",
   "execution_count": 48,
   "metadata": {
    "id": "ase2S3XMomk4"
   },
   "outputs": [],
   "source": [
    "from sklearn.pipeline import Pipeline\n",
    "from sklearn.preprocessing import StandardScaler\n",
    "\n",
    "full_pipeline = Pipeline([\n",
    "        ('permute_col', permutate_columns),\n",
    "        ('attribs_adder', attr_adder),\n",
    "        ('attribs_drop', attr_drop),\n",
    "        ('date_opt', date_opt),\n",
    "        ('month_count', month_cnt),\n",
    "        ('employment_num', employment_num),\n",
    "        ('std_scaler', StandardScaler()),\n",
    "        ('imputer', imputer),\n",
    "    ])"
   ]
  },
  {
   "cell_type": "markdown",
   "metadata": {},
   "source": [
    "Note que organizamos o pipeline da seguinte forma: \n",
    "* Primeiro permutamos as colunas, para que as operações seguintes que precisam de índices fixados não tenhas tais índices alterados ao retirarmos ou acrescentarmos colunas; \n",
    "* Acrescentamos as novas colunas feitas no Feature Engineering;\n",
    "* Removemos as variáveis UniqueID, Employee_code_ID\n",
    "* Agora, transformaremos variáveis categóricas em numéricas, com as funções date_opt, month_count e employment_num;\n",
    "* Como o melhor modelo para imputação foi o KNNImputer, precisamos escalonar os dados;\n",
    "* Por fim, agora que todas as variáveis são numéricas e estão escalonadas, podemos imputar dados faltantes. "
   ]
  },
  {
   "cell_type": "code",
   "execution_count": 53,
   "metadata": {},
   "outputs": [],
   "source": [
    "stratify_var = loans[\"PERFORM_CNS.SCORE.DESCRIPTION\"]\n",
    "\n",
    "X_train_model, X_sample_model, y_train_model, y_sample_model = train_test_split(\n",
    "    loans,\n",
    "    loans_labels,\n",
    "    test_size=0.05,\n",
    "    stratify=stratify_var,\n",
    "    random_state= seed\n",
    ")"
   ]
  },
  {
   "cell_type": "markdown",
   "metadata": {},
   "source": [
    "Agora, vamos de fato selecionar e treinar o nosso modelo. Para isso, aplicaremos a validação cruzada através do Random Search, com o objetivo de identificar as abordagens que apresentam um bom recall e uma boa acurácia, ou seja, aquelas que minimizam a taxa de falsos negativos e tem alta taxa de acertos. Assim, foi considerado SGD (Stochastic Gradient Descent). A escolha desse modelo foi baseada nas recomendações do sklearn (https://scikit-learn.org/1.5/machine_learning_map.html).\n",
    "\n",
    "Note que minimizar falsos negativos é de maior interesse da Carrara Emprestimos, uma vez que um falso negativo pode resultar na empresa oferecer crédito para uma mal pagante e acabar perdendo dinheiro."
   ]
  },
  {
   "cell_type": "markdown",
   "metadata": {},
   "source": [
    "### SGD"
   ]
  },
  {
   "cell_type": "markdown",
   "metadata": {},
   "source": [
    "Realizaremos dois Random Search para encontrar os melhores parâmetros para o SGD. No primeiro, utilizaremos learning_rate: ['constant', 'invscaling', 'adaptive'] e eta0: uniform(1e-5, 1e-1). No segundo, configuraremos learning_rate como 'optimal'. Dividimos em dois casos porque, ao usar 'optimal', não é possível configurar o parâmetro eta0.\""
   ]
  },
  {
   "cell_type": "code",
   "execution_count": 68,
   "metadata": {},
   "outputs": [
    {
     "name": "stderr",
     "output_type": "stream",
     "text": [
      "c:\\Users\\carol\\AppData\\Local\\Programs\\Python\\Python312\\Lib\\site-packages\\sklearn\\linear_model\\_stochastic_gradient.py:744: ConvergenceWarning: Maximum number of iteration reached before convergence. Consider increasing max_iter to improve the fit.\n",
      "  warnings.warn(\n",
      "c:\\Users\\carol\\AppData\\Local\\Programs\\Python\\Python312\\Lib\\site-packages\\sklearn\\linear_model\\_stochastic_gradient.py:744: ConvergenceWarning: Maximum number of iteration reached before convergence. Consider increasing max_iter to improve the fit.\n",
      "  warnings.warn(\n",
      "c:\\Users\\carol\\AppData\\Local\\Programs\\Python\\Python312\\Lib\\site-packages\\sklearn\\linear_model\\_stochastic_gradient.py:744: ConvergenceWarning: Maximum number of iteration reached before convergence. Consider increasing max_iter to improve the fit.\n",
      "  warnings.warn(\n"
     ]
    },
    {
     "name": "stdout",
     "output_type": "stream",
     "text": [
      "Melhores parâmetros: {'classifier__alpha': np.float64(0.04463501974261807), 'classifier__eta0': np.float64(0.044144853091052615), 'classifier__learning_rate': 'constant', 'classifier__loss': 'perceptron', 'classifier__max_iter': 19748, 'classifier__penalty': 'l1', 'classifier__tol': np.float64(0.07433801675105699)}\n",
      "Melhor score: 1.0\n"
     ]
    }
   ],
   "source": [
    "from sklearn.linear_model import SGDClassifier\n",
    "from sklearn.metrics import recall_score\n",
    "from scipy.stats import randint, uniform\n",
    "from sklearn.model_selection import RandomizedSearchCV\n",
    "\n",
    "sgd1 = SGDClassifier(random_state=seed)\n",
    "\n",
    "pipeline_sgd1 = Pipeline([\n",
    "    ('full_pipe',full_pipeline),\n",
    "    ('classifier', sgd1)\n",
    "])\n",
    "\n",
    "param_distribs_sgd1 = {\n",
    "    'classifier__loss': [ 'hinge','squared_hinge','squared_error', 'squared_epsilon_insensitive','log_loss','perceptron'],\n",
    "    'classifier__learning_rate':['constant', 'invscaling', 'adaptive'],\n",
    "    'classifier__eta0': uniform(1e-5, 1e-1),\n",
    "    'classifier__penalty': ['l2', 'l1'],\n",
    "    'classifier__alpha': uniform(1e-7, 1e-1),\n",
    "    'classifier__tol': uniform(1e-3, 1e-1),\n",
    "    'classifier__max_iter': randint(5000,45000),\n",
    "}\n",
    "\n",
    "scoring = {\n",
    "    'recall': 'recall',\n",
    "    'accuracy': 'accuracy'\n",
    "}\n",
    "\n",
    "rnd_search_sgd1 = RandomizedSearchCV(pipeline_sgd1,\n",
    "                                param_distributions=param_distribs_sgd1,\n",
    "                                n_iter=10,\n",
    "                                cv=3,\n",
    "                                scoring='recall',\n",
    "                                random_state=seed,\n",
    "                                error_score='raise')\n",
    "\n",
    "rnd_search_sgd1.fit(loans, loans_labels)\n",
    "\n",
    "print(\"Melhores parâmetros:\", rnd_search_sgd1.best_params_)\n",
    "print(\"Melhor score:\", rnd_search_sgd1.best_score_)"
   ]
  },
  {
   "cell_type": "markdown",
   "metadata": {},
   "source": [
    "Obtivemos um score de 1.0, o que indica que o modelo provavelmente está sofrendo de overfitting!"
   ]
  },
  {
   "cell_type": "code",
   "execution_count": null,
   "metadata": {},
   "outputs": [
    {
     "name": "stderr",
     "output_type": "stream",
     "text": [
      "c:\\Users\\carol\\AppData\\Local\\Programs\\Python\\Python312\\Lib\\site-packages\\sklearn\\linear_model\\_stochastic_gradient.py:744: ConvergenceWarning: Maximum number of iteration reached before convergence. Consider increasing max_iter to improve the fit.\n",
      "  warnings.warn(\n",
      "c:\\Users\\carol\\AppData\\Local\\Programs\\Python\\Python312\\Lib\\site-packages\\sklearn\\linear_model\\_stochastic_gradient.py:744: ConvergenceWarning: Maximum number of iteration reached before convergence. Consider increasing max_iter to improve the fit.\n",
      "  warnings.warn(\n",
      "c:\\Users\\carol\\AppData\\Local\\Programs\\Python\\Python312\\Lib\\site-packages\\sklearn\\linear_model\\_stochastic_gradient.py:744: ConvergenceWarning: Maximum number of iteration reached before convergence. Consider increasing max_iter to improve the fit.\n",
      "  warnings.warn(\n",
      "c:\\Users\\carol\\AppData\\Local\\Programs\\Python\\Python312\\Lib\\site-packages\\sklearn\\linear_model\\_stochastic_gradient.py:744: ConvergenceWarning: Maximum number of iteration reached before convergence. Consider increasing max_iter to improve the fit.\n",
      "  warnings.warn(\n",
      "c:\\Users\\carol\\AppData\\Local\\Programs\\Python\\Python312\\Lib\\site-packages\\sklearn\\linear_model\\_stochastic_gradient.py:744: ConvergenceWarning: Maximum number of iteration reached before convergence. Consider increasing max_iter to improve the fit.\n",
      "  warnings.warn(\n",
      "c:\\Users\\carol\\AppData\\Local\\Programs\\Python\\Python312\\Lib\\site-packages\\sklearn\\linear_model\\_stochastic_gradient.py:744: ConvergenceWarning: Maximum number of iteration reached before convergence. Consider increasing max_iter to improve the fit.\n",
      "  warnings.warn(\n",
      "c:\\Users\\carol\\AppData\\Local\\Programs\\Python\\Python312\\Lib\\site-packages\\sklearn\\linear_model\\_stochastic_gradient.py:744: ConvergenceWarning: Maximum number of iteration reached before convergence. Consider increasing max_iter to improve the fit.\n",
      "  warnings.warn(\n",
      "c:\\Users\\carol\\AppData\\Local\\Programs\\Python\\Python312\\Lib\\site-packages\\sklearn\\linear_model\\_stochastic_gradient.py:744: ConvergenceWarning: Maximum number of iteration reached before convergence. Consider increasing max_iter to improve the fit.\n",
      "  warnings.warn(\n",
      "c:\\Users\\carol\\AppData\\Local\\Programs\\Python\\Python312\\Lib\\site-packages\\sklearn\\linear_model\\_stochastic_gradient.py:744: ConvergenceWarning: Maximum number of iteration reached before convergence. Consider increasing max_iter to improve the fit.\n",
      "  warnings.warn(\n",
      "c:\\Users\\carol\\AppData\\Local\\Programs\\Python\\Python312\\Lib\\site-packages\\sklearn\\linear_model\\_stochastic_gradient.py:744: ConvergenceWarning: Maximum number of iteration reached before convergence. Consider increasing max_iter to improve the fit.\n",
      "  warnings.warn(\n",
      "c:\\Users\\carol\\AppData\\Local\\Programs\\Python\\Python312\\Lib\\site-packages\\sklearn\\linear_model\\_stochastic_gradient.py:744: ConvergenceWarning: Maximum number of iteration reached before convergence. Consider increasing max_iter to improve the fit.\n",
      "  warnings.warn(\n",
      "c:\\Users\\carol\\AppData\\Local\\Programs\\Python\\Python312\\Lib\\site-packages\\sklearn\\linear_model\\_stochastic_gradient.py:744: ConvergenceWarning: Maximum number of iteration reached before convergence. Consider increasing max_iter to improve the fit.\n",
      "  warnings.warn(\n",
      "c:\\Users\\carol\\AppData\\Local\\Programs\\Python\\Python312\\Lib\\site-packages\\sklearn\\linear_model\\_stochastic_gradient.py:744: ConvergenceWarning: Maximum number of iteration reached before convergence. Consider increasing max_iter to improve the fit.\n",
      "  warnings.warn(\n"
     ]
    },
    {
     "name": "stdout",
     "output_type": "stream",
     "text": [
      "Melhores parâmetros: {'classifier__alpha': np.float64(0.02160904955803764), 'classifier__loss': 'perceptron', 'classifier__max_iter': 25062, 'classifier__penalty': 'l1', 'classifier__tol': np.float64(0.0262982362383444)}\n",
      "Melhor score (recall): 0.6666666666666666\n"
     ]
    }
   ],
   "source": [
    "sgd = SGDClassifier(random_state=seed, learning_rate='optimal')\n",
    "\n",
    "pipeline_sgd = Pipeline([\n",
    "    ('full_pipe',full_pipeline),\n",
    "    ('classifier', sgd)\n",
    "])\n",
    "\n",
    "param_distribs_sgd = {\n",
    "    'classifier__loss': [ 'hinge','squared_hinge','squared_error', 'squared_epsilon_insensitive',\n",
    "                         'log_loss','perceptron'],\n",
    "    'classifier__penalty': ['l2', 'l1'],\n",
    "    'classifier__alpha': uniform(1e-7, 1e-1),\n",
    "    'classifier__tol': uniform(1e-3, 1e-1),\n",
    "    'classifier__max_iter': randint(5000,45000),\n",
    "}\n",
    "\n",
    "\n",
    "\n",
    "rnd_search_sgd = RandomizedSearchCV(pipeline_sgd,\n",
    "                                param_distributions=param_distribs_sgd,\n",
    "                                n_iter=10,\n",
    "                                cv=3,\n",
    "                                scoring=scoring,\n",
    "                                refit='recall',\n",
    "                                random_state=seed,\n",
    "                                error_score='raise')\n",
    "\n",
    "rnd_search_sgd.fit(loans, loans_labels)\n",
    "\n",
    "print(\"Melhores parâmetros:\", rnd_search_sgd.best_params_)\n",
    "print(\"Melhor score:\", rnd_search_sgd.best_score_)"
   ]
  },
  {
   "cell_type": "markdown",
   "metadata": {},
   "source": [
    "### Resultados do Random Search: "
   ]
  },
  {
   "cell_type": "markdown",
   "metadata": {},
   "source": [
    "Abaixo está uma tabela com todos os modelos treinados, ordenada de forma decrescente com base na acurácia"
   ]
  },
  {
   "cell_type": "code",
   "execution_count": 78,
   "metadata": {},
   "outputs": [
    {
     "data": {
      "text/plain": [
       "Index(['mean_fit_time', 'std_fit_time', 'mean_score_time', 'std_score_time',\n",
       "       'param_classifier__alpha', 'param_classifier__eta0',\n",
       "       'param_classifier__learning_rate', 'param_classifier__loss',\n",
       "       'param_classifier__max_iter', 'param_classifier__penalty',\n",
       "       'param_classifier__tol', 'params', 'split0_test_recall',\n",
       "       'split1_test_recall', 'split2_test_recall', 'mean_test_recall',\n",
       "       'std_test_recall', 'rank_test_recall', 'split0_test_accuracy',\n",
       "       'split1_test_accuracy', 'split2_test_accuracy', 'mean_test_accuracy',\n",
       "       'std_test_accuracy', 'rank_test_accuracy'],\n",
       "      dtype='object')"
      ]
     },
     "execution_count": 78,
     "metadata": {},
     "output_type": "execute_result"
    }
   ],
   "source": [
    "cv_results_sgd1 = rnd_search_sgd1.cv_results_\n",
    "cv_results_sgd = rnd_search_sgd.cv_results_\n",
    "\n",
    "\n",
    "df_sgd1 = pd.DataFrame(cv_results_sgd1)\n",
    "df_sgd = pd.DataFrame(cv_results_sgd)\n",
    "\n",
    "sgd_results = pd.concat([df_sgd1, df_sgd], ignore_index=True)\n",
    "sgd_results.columns"
   ]
  },
  {
   "cell_type": "code",
   "execution_count": 76,
   "metadata": {
    "id": "fQEgcfWUJHF7"
   },
   "outputs": [
    {
     "data": {
      "text/html": [
       "<div>\n",
       "<style scoped>\n",
       "    .dataframe tbody tr th:only-of-type {\n",
       "        vertical-align: middle;\n",
       "    }\n",
       "\n",
       "    .dataframe tbody tr th {\n",
       "        vertical-align: top;\n",
       "    }\n",
       "\n",
       "    .dataframe thead th {\n",
       "        text-align: right;\n",
       "    }\n",
       "</style>\n",
       "<table border=\"1\" class=\"dataframe\">\n",
       "  <thead>\n",
       "    <tr style=\"text-align: right;\">\n",
       "      <th></th>\n",
       "      <th>Acurácia</th>\n",
       "      <th>Recall</th>\n",
       "      <th>param_classifier__alpha</th>\n",
       "      <th>param_classifier__eta0</th>\n",
       "      <th>param_classifier__learning_rate</th>\n",
       "      <th>param_classifier__loss</th>\n",
       "      <th>param_classifier__max_iter</th>\n",
       "      <th>param_classifier__tol</th>\n",
       "    </tr>\n",
       "  </thead>\n",
       "  <tbody>\n",
       "    <tr>\n",
       "      <th>0</th>\n",
       "      <td>0.782853</td>\n",
       "      <td>0.000000</td>\n",
       "      <td>0.096703</td>\n",
       "      <td>0.054733</td>\n",
       "      <td>invscaling</td>\n",
       "      <td>hinge</td>\n",
       "      <td>16863</td>\n",
       "      <td>0.070773</td>\n",
       "    </tr>\n",
       "    <tr>\n",
       "      <th>3</th>\n",
       "      <td>0.782853</td>\n",
       "      <td>0.000000</td>\n",
       "      <td>0.064392</td>\n",
       "      <td>0.081116</td>\n",
       "      <td>invscaling</td>\n",
       "      <td>squared_error</td>\n",
       "      <td>8002</td>\n",
       "      <td>0.095500</td>\n",
       "    </tr>\n",
       "    <tr>\n",
       "      <th>13</th>\n",
       "      <td>0.782853</td>\n",
       "      <td>0.000000</td>\n",
       "      <td>0.036150</td>\n",
       "      <td>NaN</td>\n",
       "      <td>NaN</td>\n",
       "      <td>hinge</td>\n",
       "      <td>42047</td>\n",
       "      <td>0.060733</td>\n",
       "    </tr>\n",
       "    <tr>\n",
       "      <th>7</th>\n",
       "      <td>0.782836</td>\n",
       "      <td>0.000025</td>\n",
       "      <td>0.022303</td>\n",
       "      <td>0.013885</td>\n",
       "      <td>invscaling</td>\n",
       "      <td>squared_error</td>\n",
       "      <td>5439</td>\n",
       "      <td>0.069667</td>\n",
       "    </tr>\n",
       "    <tr>\n",
       "      <th>1</th>\n",
       "      <td>0.782552</td>\n",
       "      <td>0.002321</td>\n",
       "      <td>0.021609</td>\n",
       "      <td>0.097637</td>\n",
       "      <td>adaptive</td>\n",
       "      <td>squared_hinge</td>\n",
       "      <td>37616</td>\n",
       "      <td>0.078938</td>\n",
       "    </tr>\n",
       "    <tr>\n",
       "      <th>14</th>\n",
       "      <td>0.782231</td>\n",
       "      <td>0.000988</td>\n",
       "      <td>0.000899</td>\n",
       "      <td>NaN</td>\n",
       "      <td>NaN</td>\n",
       "      <td>hinge</td>\n",
       "      <td>9802</td>\n",
       "      <td>0.096665</td>\n",
       "    </tr>\n",
       "    <tr>\n",
       "      <th>16</th>\n",
       "      <td>0.705950</td>\n",
       "      <td>0.154877</td>\n",
       "      <td>0.044635</td>\n",
       "      <td>NaN</td>\n",
       "      <td>NaN</td>\n",
       "      <td>perceptron</td>\n",
       "      <td>27304</td>\n",
       "      <td>0.018586</td>\n",
       "    </tr>\n",
       "    <tr>\n",
       "      <th>10</th>\n",
       "      <td>0.705591</td>\n",
       "      <td>0.144508</td>\n",
       "      <td>0.096703</td>\n",
       "      <td>NaN</td>\n",
       "      <td>NaN</td>\n",
       "      <td>perceptron</td>\n",
       "      <td>16863</td>\n",
       "      <td>0.070773</td>\n",
       "    </tr>\n",
       "    <tr>\n",
       "      <th>18</th>\n",
       "      <td>0.688269</td>\n",
       "      <td>0.311508</td>\n",
       "      <td>0.052170</td>\n",
       "      <td>NaN</td>\n",
       "      <td>NaN</td>\n",
       "      <td>squared_hinge</td>\n",
       "      <td>34401</td>\n",
       "      <td>0.023876</td>\n",
       "    </tr>\n",
       "    <tr>\n",
       "      <th>2</th>\n",
       "      <td>0.682023</td>\n",
       "      <td>0.193689</td>\n",
       "      <td>0.019769</td>\n",
       "      <td>0.086309</td>\n",
       "      <td>constant</td>\n",
       "      <td>perceptron</td>\n",
       "      <td>35205</td>\n",
       "      <td>0.027647</td>\n",
       "    </tr>\n",
       "    <tr>\n",
       "      <th>5</th>\n",
       "      <td>0.661312</td>\n",
       "      <td>0.339753</td>\n",
       "      <td>0.040844</td>\n",
       "      <td>0.052801</td>\n",
       "      <td>adaptive</td>\n",
       "      <td>squared_hinge</td>\n",
       "      <td>9336</td>\n",
       "      <td>0.004576</td>\n",
       "    </tr>\n",
       "    <tr>\n",
       "      <th>8</th>\n",
       "      <td>0.594613</td>\n",
       "      <td>0.378639</td>\n",
       "      <td>0.025368</td>\n",
       "      <td>0.055484</td>\n",
       "      <td>constant</td>\n",
       "      <td>squared_hinge</td>\n",
       "      <td>35536</td>\n",
       "      <td>0.013618</td>\n",
       "    </tr>\n",
       "    <tr>\n",
       "      <th>6</th>\n",
       "      <td>0.545386</td>\n",
       "      <td>0.423574</td>\n",
       "      <td>0.022876</td>\n",
       "      <td>0.021128</td>\n",
       "      <td>adaptive</td>\n",
       "      <td>squared_epsilon_insensitive</td>\n",
       "      <td>14547</td>\n",
       "      <td>0.064266</td>\n",
       "    </tr>\n",
       "    <tr>\n",
       "      <th>17</th>\n",
       "      <td>0.524128</td>\n",
       "      <td>0.492210</td>\n",
       "      <td>0.086588</td>\n",
       "      <td>NaN</td>\n",
       "      <td>NaN</td>\n",
       "      <td>squared_epsilon_insensitive</td>\n",
       "      <td>7143</td>\n",
       "      <td>0.094757</td>\n",
       "    </tr>\n",
       "    <tr>\n",
       "      <th>19</th>\n",
       "      <td>0.521721</td>\n",
       "      <td>0.434017</td>\n",
       "      <td>0.021118</td>\n",
       "      <td>NaN</td>\n",
       "      <td>NaN</td>\n",
       "      <td>squared_error</td>\n",
       "      <td>32870</td>\n",
       "      <td>0.041150</td>\n",
       "    </tr>\n",
       "    <tr>\n",
       "      <th>12</th>\n",
       "      <td>0.519909</td>\n",
       "      <td>0.512505</td>\n",
       "      <td>0.043479</td>\n",
       "      <td>NaN</td>\n",
       "      <td>NaN</td>\n",
       "      <td>squared_error</td>\n",
       "      <td>12212</td>\n",
       "      <td>0.058236</td>\n",
       "    </tr>\n",
       "    <tr>\n",
       "      <th>15</th>\n",
       "      <td>0.506758</td>\n",
       "      <td>0.507123</td>\n",
       "      <td>0.043615</td>\n",
       "      <td>NaN</td>\n",
       "      <td>NaN</td>\n",
       "      <td>squared_error</td>\n",
       "      <td>8002</td>\n",
       "      <td>0.095500</td>\n",
       "    </tr>\n",
       "    <tr>\n",
       "      <th>9</th>\n",
       "      <td>0.481013</td>\n",
       "      <td>0.528035</td>\n",
       "      <td>0.007571</td>\n",
       "      <td>0.068569</td>\n",
       "      <td>constant</td>\n",
       "      <td>squared_epsilon_insensitive</td>\n",
       "      <td>18576</td>\n",
       "      <td>0.042678</td>\n",
       "    </tr>\n",
       "    <tr>\n",
       "      <th>11</th>\n",
       "      <td>0.405717</td>\n",
       "      <td>0.666667</td>\n",
       "      <td>0.021609</td>\n",
       "      <td>NaN</td>\n",
       "      <td>NaN</td>\n",
       "      <td>perceptron</td>\n",
       "      <td>25062</td>\n",
       "      <td>0.026298</td>\n",
       "    </tr>\n",
       "    <tr>\n",
       "      <th>4</th>\n",
       "      <td>0.217147</td>\n",
       "      <td>1.000000</td>\n",
       "      <td>0.044635</td>\n",
       "      <td>0.044145</td>\n",
       "      <td>constant</td>\n",
       "      <td>perceptron</td>\n",
       "      <td>19748</td>\n",
       "      <td>0.074338</td>\n",
       "    </tr>\n",
       "  </tbody>\n",
       "</table>\n",
       "</div>"
      ],
      "text/plain": [
       "    Acurácia    Recall  param_classifier__alpha  param_classifier__eta0  \\\n",
       "0   0.782853  0.000000                 0.096703                0.054733   \n",
       "3   0.782853  0.000000                 0.064392                0.081116   \n",
       "13  0.782853  0.000000                 0.036150                     NaN   \n",
       "7   0.782836  0.000025                 0.022303                0.013885   \n",
       "1   0.782552  0.002321                 0.021609                0.097637   \n",
       "14  0.782231  0.000988                 0.000899                     NaN   \n",
       "16  0.705950  0.154877                 0.044635                     NaN   \n",
       "10  0.705591  0.144508                 0.096703                     NaN   \n",
       "18  0.688269  0.311508                 0.052170                     NaN   \n",
       "2   0.682023  0.193689                 0.019769                0.086309   \n",
       "5   0.661312  0.339753                 0.040844                0.052801   \n",
       "8   0.594613  0.378639                 0.025368                0.055484   \n",
       "6   0.545386  0.423574                 0.022876                0.021128   \n",
       "17  0.524128  0.492210                 0.086588                     NaN   \n",
       "19  0.521721  0.434017                 0.021118                     NaN   \n",
       "12  0.519909  0.512505                 0.043479                     NaN   \n",
       "15  0.506758  0.507123                 0.043615                     NaN   \n",
       "9   0.481013  0.528035                 0.007571                0.068569   \n",
       "11  0.405717  0.666667                 0.021609                     NaN   \n",
       "4   0.217147  1.000000                 0.044635                0.044145   \n",
       "\n",
       "   param_classifier__learning_rate       param_classifier__loss  \\\n",
       "0                       invscaling                        hinge   \n",
       "3                       invscaling                squared_error   \n",
       "13                             NaN                        hinge   \n",
       "7                       invscaling                squared_error   \n",
       "1                         adaptive                squared_hinge   \n",
       "14                             NaN                        hinge   \n",
       "16                             NaN                   perceptron   \n",
       "10                             NaN                   perceptron   \n",
       "18                             NaN                squared_hinge   \n",
       "2                         constant                   perceptron   \n",
       "5                         adaptive                squared_hinge   \n",
       "8                         constant                squared_hinge   \n",
       "6                         adaptive  squared_epsilon_insensitive   \n",
       "17                             NaN  squared_epsilon_insensitive   \n",
       "19                             NaN                squared_error   \n",
       "12                             NaN                squared_error   \n",
       "15                             NaN                squared_error   \n",
       "9                         constant  squared_epsilon_insensitive   \n",
       "11                             NaN                   perceptron   \n",
       "4                         constant                   perceptron   \n",
       "\n",
       "    param_classifier__max_iter  param_classifier__tol  \n",
       "0                        16863               0.070773  \n",
       "3                         8002               0.095500  \n",
       "13                       42047               0.060733  \n",
       "7                         5439               0.069667  \n",
       "1                        37616               0.078938  \n",
       "14                        9802               0.096665  \n",
       "16                       27304               0.018586  \n",
       "10                       16863               0.070773  \n",
       "18                       34401               0.023876  \n",
       "2                        35205               0.027647  \n",
       "5                         9336               0.004576  \n",
       "8                        35536               0.013618  \n",
       "6                        14547               0.064266  \n",
       "17                        7143               0.094757  \n",
       "19                       32870               0.041150  \n",
       "12                       12212               0.058236  \n",
       "15                        8002               0.095500  \n",
       "9                        18576               0.042678  \n",
       "11                       25062               0.026298  \n",
       "4                        19748               0.074338  "
      ]
     },
     "execution_count": 76,
     "metadata": {},
     "output_type": "execute_result"
    }
   ],
   "source": [
    "cv_results_sgd1 = rnd_search_sgd1.cv_results_\n",
    "cv_results_sgd = rnd_search_sgd.cv_results_\n",
    "\n",
    "\n",
    "df_sgd1 = pd.DataFrame(cv_results_sgd1)\n",
    "df_sgd = pd.DataFrame(cv_results_sgd)\n",
    "\n",
    "sgd_results = pd.concat([df_sgd1, df_sgd], ignore_index=True)\n",
    "sgd_results_summary = sgd_results[['mean_test_accuracy',\n",
    "                                   'mean_test_recall',\n",
    "                                   'param_classifier__alpha',\n",
    "                                   'param_classifier__eta0',\n",
    "                                   'param_classifier__learning_rate',\n",
    "                                   'param_classifier__loss',\n",
    "                                   'param_classifier__max_iter',\n",
    "                                   'param_classifier__tol',\n",
    "                                  ]].rename(columns={\n",
    "    'mean_test_accuracy': 'Acurácia',\n",
    "    'mean_test_recall': 'Recall'\n",
    "})\n",
    "\n",
    "df_sorted = sgd_results_summary.sort_values(by='Acurácia', ascending=False)\n",
    "\n",
    "df_sorted\n"
   ]
  },
  {
   "cell_type": "code",
   "execution_count": 79,
   "metadata": {},
   "outputs": [],
   "source": [
    "best_model= SGDClassifier(random_state=seed, learning_rate='optimal',\n",
    "                          alpha= 0.052170, loss='squared_hinge',max_iter=34401,tol=0.023876)"
   ]
  },
  {
   "cell_type": "markdown",
   "metadata": {
    "id": "iS4PvA2YJQba"
   },
   "source": [
    "# Modelo e Teste Final"
   ]
  },
  {
   "cell_type": "markdown",
   "metadata": {},
   "source": [
    "Vamos agora testar nosso método escolhido e treinado (no conjunto treino) no conjunto de teste. Lembre-se que nosso conjunto de teste final ainda não foi utilizado, pois ainda estamos na primeira versão do nosso projeto e só após as considerações do professor iremos utlizar nosso conjunto de teste definitivo."
   ]
  },
  {
   "cell_type": "code",
   "execution_count": 83,
   "metadata": {},
   "outputs": [],
   "source": [
    "X_train = full_pipeline.fit_transform(loans)"
   ]
  },
  {
   "cell_type": "code",
   "execution_count": 84,
   "metadata": {},
   "outputs": [
    {
     "name": "stderr",
     "output_type": "stream",
     "text": [
      "c:\\Users\\carol\\AppData\\Local\\Programs\\Python\\Python312\\Lib\\site-packages\\sklearn\\linear_model\\_stochastic_gradient.py:744: ConvergenceWarning: Maximum number of iteration reached before convergence. Consider increasing max_iter to improve the fit.\n",
      "  warnings.warn(\n"
     ]
    },
    {
     "data": {
      "text/html": [
       "<style>#sk-container-id-2 {\n",
       "  /* Definition of color scheme common for light and dark mode */\n",
       "  --sklearn-color-text: black;\n",
       "  --sklearn-color-line: gray;\n",
       "  /* Definition of color scheme for unfitted estimators */\n",
       "  --sklearn-color-unfitted-level-0: #fff5e6;\n",
       "  --sklearn-color-unfitted-level-1: #f6e4d2;\n",
       "  --sklearn-color-unfitted-level-2: #ffe0b3;\n",
       "  --sklearn-color-unfitted-level-3: chocolate;\n",
       "  /* Definition of color scheme for fitted estimators */\n",
       "  --sklearn-color-fitted-level-0: #f0f8ff;\n",
       "  --sklearn-color-fitted-level-1: #d4ebff;\n",
       "  --sklearn-color-fitted-level-2: #b3dbfd;\n",
       "  --sklearn-color-fitted-level-3: cornflowerblue;\n",
       "\n",
       "  /* Specific color for light theme */\n",
       "  --sklearn-color-text-on-default-background: var(--sg-text-color, var(--theme-code-foreground, var(--jp-content-font-color1, black)));\n",
       "  --sklearn-color-background: var(--sg-background-color, var(--theme-background, var(--jp-layout-color0, white)));\n",
       "  --sklearn-color-border-box: var(--sg-text-color, var(--theme-code-foreground, var(--jp-content-font-color1, black)));\n",
       "  --sklearn-color-icon: #696969;\n",
       "\n",
       "  @media (prefers-color-scheme: dark) {\n",
       "    /* Redefinition of color scheme for dark theme */\n",
       "    --sklearn-color-text-on-default-background: var(--sg-text-color, var(--theme-code-foreground, var(--jp-content-font-color1, white)));\n",
       "    --sklearn-color-background: var(--sg-background-color, var(--theme-background, var(--jp-layout-color0, #111)));\n",
       "    --sklearn-color-border-box: var(--sg-text-color, var(--theme-code-foreground, var(--jp-content-font-color1, white)));\n",
       "    --sklearn-color-icon: #878787;\n",
       "  }\n",
       "}\n",
       "\n",
       "#sk-container-id-2 {\n",
       "  color: var(--sklearn-color-text);\n",
       "}\n",
       "\n",
       "#sk-container-id-2 pre {\n",
       "  padding: 0;\n",
       "}\n",
       "\n",
       "#sk-container-id-2 input.sk-hidden--visually {\n",
       "  border: 0;\n",
       "  clip: rect(1px 1px 1px 1px);\n",
       "  clip: rect(1px, 1px, 1px, 1px);\n",
       "  height: 1px;\n",
       "  margin: -1px;\n",
       "  overflow: hidden;\n",
       "  padding: 0;\n",
       "  position: absolute;\n",
       "  width: 1px;\n",
       "}\n",
       "\n",
       "#sk-container-id-2 div.sk-dashed-wrapped {\n",
       "  border: 1px dashed var(--sklearn-color-line);\n",
       "  margin: 0 0.4em 0.5em 0.4em;\n",
       "  box-sizing: border-box;\n",
       "  padding-bottom: 0.4em;\n",
       "  background-color: var(--sklearn-color-background);\n",
       "}\n",
       "\n",
       "#sk-container-id-2 div.sk-container {\n",
       "  /* jupyter's `normalize.less` sets `[hidden] { display: none; }`\n",
       "     but bootstrap.min.css set `[hidden] { display: none !important; }`\n",
       "     so we also need the `!important` here to be able to override the\n",
       "     default hidden behavior on the sphinx rendered scikit-learn.org.\n",
       "     See: https://github.com/scikit-learn/scikit-learn/issues/21755 */\n",
       "  display: inline-block !important;\n",
       "  position: relative;\n",
       "}\n",
       "\n",
       "#sk-container-id-2 div.sk-text-repr-fallback {\n",
       "  display: none;\n",
       "}\n",
       "\n",
       "div.sk-parallel-item,\n",
       "div.sk-serial,\n",
       "div.sk-item {\n",
       "  /* draw centered vertical line to link estimators */\n",
       "  background-image: linear-gradient(var(--sklearn-color-text-on-default-background), var(--sklearn-color-text-on-default-background));\n",
       "  background-size: 2px 100%;\n",
       "  background-repeat: no-repeat;\n",
       "  background-position: center center;\n",
       "}\n",
       "\n",
       "/* Parallel-specific style estimator block */\n",
       "\n",
       "#sk-container-id-2 div.sk-parallel-item::after {\n",
       "  content: \"\";\n",
       "  width: 100%;\n",
       "  border-bottom: 2px solid var(--sklearn-color-text-on-default-background);\n",
       "  flex-grow: 1;\n",
       "}\n",
       "\n",
       "#sk-container-id-2 div.sk-parallel {\n",
       "  display: flex;\n",
       "  align-items: stretch;\n",
       "  justify-content: center;\n",
       "  background-color: var(--sklearn-color-background);\n",
       "  position: relative;\n",
       "}\n",
       "\n",
       "#sk-container-id-2 div.sk-parallel-item {\n",
       "  display: flex;\n",
       "  flex-direction: column;\n",
       "}\n",
       "\n",
       "#sk-container-id-2 div.sk-parallel-item:first-child::after {\n",
       "  align-self: flex-end;\n",
       "  width: 50%;\n",
       "}\n",
       "\n",
       "#sk-container-id-2 div.sk-parallel-item:last-child::after {\n",
       "  align-self: flex-start;\n",
       "  width: 50%;\n",
       "}\n",
       "\n",
       "#sk-container-id-2 div.sk-parallel-item:only-child::after {\n",
       "  width: 0;\n",
       "}\n",
       "\n",
       "/* Serial-specific style estimator block */\n",
       "\n",
       "#sk-container-id-2 div.sk-serial {\n",
       "  display: flex;\n",
       "  flex-direction: column;\n",
       "  align-items: center;\n",
       "  background-color: var(--sklearn-color-background);\n",
       "  padding-right: 1em;\n",
       "  padding-left: 1em;\n",
       "}\n",
       "\n",
       "\n",
       "/* Toggleable style: style used for estimator/Pipeline/ColumnTransformer box that is\n",
       "clickable and can be expanded/collapsed.\n",
       "- Pipeline and ColumnTransformer use this feature and define the default style\n",
       "- Estimators will overwrite some part of the style using the `sk-estimator` class\n",
       "*/\n",
       "\n",
       "/* Pipeline and ColumnTransformer style (default) */\n",
       "\n",
       "#sk-container-id-2 div.sk-toggleable {\n",
       "  /* Default theme specific background. It is overwritten whether we have a\n",
       "  specific estimator or a Pipeline/ColumnTransformer */\n",
       "  background-color: var(--sklearn-color-background);\n",
       "}\n",
       "\n",
       "/* Toggleable label */\n",
       "#sk-container-id-2 label.sk-toggleable__label {\n",
       "  cursor: pointer;\n",
       "  display: block;\n",
       "  width: 100%;\n",
       "  margin-bottom: 0;\n",
       "  padding: 0.5em;\n",
       "  box-sizing: border-box;\n",
       "  text-align: center;\n",
       "}\n",
       "\n",
       "#sk-container-id-2 label.sk-toggleable__label-arrow:before {\n",
       "  /* Arrow on the left of the label */\n",
       "  content: \"▸\";\n",
       "  float: left;\n",
       "  margin-right: 0.25em;\n",
       "  color: var(--sklearn-color-icon);\n",
       "}\n",
       "\n",
       "#sk-container-id-2 label.sk-toggleable__label-arrow:hover:before {\n",
       "  color: var(--sklearn-color-text);\n",
       "}\n",
       "\n",
       "/* Toggleable content - dropdown */\n",
       "\n",
       "#sk-container-id-2 div.sk-toggleable__content {\n",
       "  max-height: 0;\n",
       "  max-width: 0;\n",
       "  overflow: hidden;\n",
       "  text-align: left;\n",
       "  /* unfitted */\n",
       "  background-color: var(--sklearn-color-unfitted-level-0);\n",
       "}\n",
       "\n",
       "#sk-container-id-2 div.sk-toggleable__content.fitted {\n",
       "  /* fitted */\n",
       "  background-color: var(--sklearn-color-fitted-level-0);\n",
       "}\n",
       "\n",
       "#sk-container-id-2 div.sk-toggleable__content pre {\n",
       "  margin: 0.2em;\n",
       "  border-radius: 0.25em;\n",
       "  color: var(--sklearn-color-text);\n",
       "  /* unfitted */\n",
       "  background-color: var(--sklearn-color-unfitted-level-0);\n",
       "}\n",
       "\n",
       "#sk-container-id-2 div.sk-toggleable__content.fitted pre {\n",
       "  /* unfitted */\n",
       "  background-color: var(--sklearn-color-fitted-level-0);\n",
       "}\n",
       "\n",
       "#sk-container-id-2 input.sk-toggleable__control:checked~div.sk-toggleable__content {\n",
       "  /* Expand drop-down */\n",
       "  max-height: 200px;\n",
       "  max-width: 100%;\n",
       "  overflow: auto;\n",
       "}\n",
       "\n",
       "#sk-container-id-2 input.sk-toggleable__control:checked~label.sk-toggleable__label-arrow:before {\n",
       "  content: \"▾\";\n",
       "}\n",
       "\n",
       "/* Pipeline/ColumnTransformer-specific style */\n",
       "\n",
       "#sk-container-id-2 div.sk-label input.sk-toggleable__control:checked~label.sk-toggleable__label {\n",
       "  color: var(--sklearn-color-text);\n",
       "  background-color: var(--sklearn-color-unfitted-level-2);\n",
       "}\n",
       "\n",
       "#sk-container-id-2 div.sk-label.fitted input.sk-toggleable__control:checked~label.sk-toggleable__label {\n",
       "  background-color: var(--sklearn-color-fitted-level-2);\n",
       "}\n",
       "\n",
       "/* Estimator-specific style */\n",
       "\n",
       "/* Colorize estimator box */\n",
       "#sk-container-id-2 div.sk-estimator input.sk-toggleable__control:checked~label.sk-toggleable__label {\n",
       "  /* unfitted */\n",
       "  background-color: var(--sklearn-color-unfitted-level-2);\n",
       "}\n",
       "\n",
       "#sk-container-id-2 div.sk-estimator.fitted input.sk-toggleable__control:checked~label.sk-toggleable__label {\n",
       "  /* fitted */\n",
       "  background-color: var(--sklearn-color-fitted-level-2);\n",
       "}\n",
       "\n",
       "#sk-container-id-2 div.sk-label label.sk-toggleable__label,\n",
       "#sk-container-id-2 div.sk-label label {\n",
       "  /* The background is the default theme color */\n",
       "  color: var(--sklearn-color-text-on-default-background);\n",
       "}\n",
       "\n",
       "/* On hover, darken the color of the background */\n",
       "#sk-container-id-2 div.sk-label:hover label.sk-toggleable__label {\n",
       "  color: var(--sklearn-color-text);\n",
       "  background-color: var(--sklearn-color-unfitted-level-2);\n",
       "}\n",
       "\n",
       "/* Label box, darken color on hover, fitted */\n",
       "#sk-container-id-2 div.sk-label.fitted:hover label.sk-toggleable__label.fitted {\n",
       "  color: var(--sklearn-color-text);\n",
       "  background-color: var(--sklearn-color-fitted-level-2);\n",
       "}\n",
       "\n",
       "/* Estimator label */\n",
       "\n",
       "#sk-container-id-2 div.sk-label label {\n",
       "  font-family: monospace;\n",
       "  font-weight: bold;\n",
       "  display: inline-block;\n",
       "  line-height: 1.2em;\n",
       "}\n",
       "\n",
       "#sk-container-id-2 div.sk-label-container {\n",
       "  text-align: center;\n",
       "}\n",
       "\n",
       "/* Estimator-specific */\n",
       "#sk-container-id-2 div.sk-estimator {\n",
       "  font-family: monospace;\n",
       "  border: 1px dotted var(--sklearn-color-border-box);\n",
       "  border-radius: 0.25em;\n",
       "  box-sizing: border-box;\n",
       "  margin-bottom: 0.5em;\n",
       "  /* unfitted */\n",
       "  background-color: var(--sklearn-color-unfitted-level-0);\n",
       "}\n",
       "\n",
       "#sk-container-id-2 div.sk-estimator.fitted {\n",
       "  /* fitted */\n",
       "  background-color: var(--sklearn-color-fitted-level-0);\n",
       "}\n",
       "\n",
       "/* on hover */\n",
       "#sk-container-id-2 div.sk-estimator:hover {\n",
       "  /* unfitted */\n",
       "  background-color: var(--sklearn-color-unfitted-level-2);\n",
       "}\n",
       "\n",
       "#sk-container-id-2 div.sk-estimator.fitted:hover {\n",
       "  /* fitted */\n",
       "  background-color: var(--sklearn-color-fitted-level-2);\n",
       "}\n",
       "\n",
       "/* Specification for estimator info (e.g. \"i\" and \"?\") */\n",
       "\n",
       "/* Common style for \"i\" and \"?\" */\n",
       "\n",
       ".sk-estimator-doc-link,\n",
       "a:link.sk-estimator-doc-link,\n",
       "a:visited.sk-estimator-doc-link {\n",
       "  float: right;\n",
       "  font-size: smaller;\n",
       "  line-height: 1em;\n",
       "  font-family: monospace;\n",
       "  background-color: var(--sklearn-color-background);\n",
       "  border-radius: 1em;\n",
       "  height: 1em;\n",
       "  width: 1em;\n",
       "  text-decoration: none !important;\n",
       "  margin-left: 1ex;\n",
       "  /* unfitted */\n",
       "  border: var(--sklearn-color-unfitted-level-1) 1pt solid;\n",
       "  color: var(--sklearn-color-unfitted-level-1);\n",
       "}\n",
       "\n",
       ".sk-estimator-doc-link.fitted,\n",
       "a:link.sk-estimator-doc-link.fitted,\n",
       "a:visited.sk-estimator-doc-link.fitted {\n",
       "  /* fitted */\n",
       "  border: var(--sklearn-color-fitted-level-1) 1pt solid;\n",
       "  color: var(--sklearn-color-fitted-level-1);\n",
       "}\n",
       "\n",
       "/* On hover */\n",
       "div.sk-estimator:hover .sk-estimator-doc-link:hover,\n",
       ".sk-estimator-doc-link:hover,\n",
       "div.sk-label-container:hover .sk-estimator-doc-link:hover,\n",
       ".sk-estimator-doc-link:hover {\n",
       "  /* unfitted */\n",
       "  background-color: var(--sklearn-color-unfitted-level-3);\n",
       "  color: var(--sklearn-color-background);\n",
       "  text-decoration: none;\n",
       "}\n",
       "\n",
       "div.sk-estimator.fitted:hover .sk-estimator-doc-link.fitted:hover,\n",
       ".sk-estimator-doc-link.fitted:hover,\n",
       "div.sk-label-container:hover .sk-estimator-doc-link.fitted:hover,\n",
       ".sk-estimator-doc-link.fitted:hover {\n",
       "  /* fitted */\n",
       "  background-color: var(--sklearn-color-fitted-level-3);\n",
       "  color: var(--sklearn-color-background);\n",
       "  text-decoration: none;\n",
       "}\n",
       "\n",
       "/* Span, style for the box shown on hovering the info icon */\n",
       ".sk-estimator-doc-link span {\n",
       "  display: none;\n",
       "  z-index: 9999;\n",
       "  position: relative;\n",
       "  font-weight: normal;\n",
       "  right: .2ex;\n",
       "  padding: .5ex;\n",
       "  margin: .5ex;\n",
       "  width: min-content;\n",
       "  min-width: 20ex;\n",
       "  max-width: 50ex;\n",
       "  color: var(--sklearn-color-text);\n",
       "  box-shadow: 2pt 2pt 4pt #999;\n",
       "  /* unfitted */\n",
       "  background: var(--sklearn-color-unfitted-level-0);\n",
       "  border: .5pt solid var(--sklearn-color-unfitted-level-3);\n",
       "}\n",
       "\n",
       ".sk-estimator-doc-link.fitted span {\n",
       "  /* fitted */\n",
       "  background: var(--sklearn-color-fitted-level-0);\n",
       "  border: var(--sklearn-color-fitted-level-3);\n",
       "}\n",
       "\n",
       ".sk-estimator-doc-link:hover span {\n",
       "  display: block;\n",
       "}\n",
       "\n",
       "/* \"?\"-specific style due to the `<a>` HTML tag */\n",
       "\n",
       "#sk-container-id-2 a.estimator_doc_link {\n",
       "  float: right;\n",
       "  font-size: 1rem;\n",
       "  line-height: 1em;\n",
       "  font-family: monospace;\n",
       "  background-color: var(--sklearn-color-background);\n",
       "  border-radius: 1rem;\n",
       "  height: 1rem;\n",
       "  width: 1rem;\n",
       "  text-decoration: none;\n",
       "  /* unfitted */\n",
       "  color: var(--sklearn-color-unfitted-level-1);\n",
       "  border: var(--sklearn-color-unfitted-level-1) 1pt solid;\n",
       "}\n",
       "\n",
       "#sk-container-id-2 a.estimator_doc_link.fitted {\n",
       "  /* fitted */\n",
       "  border: var(--sklearn-color-fitted-level-1) 1pt solid;\n",
       "  color: var(--sklearn-color-fitted-level-1);\n",
       "}\n",
       "\n",
       "/* On hover */\n",
       "#sk-container-id-2 a.estimator_doc_link:hover {\n",
       "  /* unfitted */\n",
       "  background-color: var(--sklearn-color-unfitted-level-3);\n",
       "  color: var(--sklearn-color-background);\n",
       "  text-decoration: none;\n",
       "}\n",
       "\n",
       "#sk-container-id-2 a.estimator_doc_link.fitted:hover {\n",
       "  /* fitted */\n",
       "  background-color: var(--sklearn-color-fitted-level-3);\n",
       "}\n",
       "</style><div id=\"sk-container-id-2\" class=\"sk-top-container\"><div class=\"sk-text-repr-fallback\"><pre>SGDClassifier(alpha=0.05217, loss=&#x27;squared_hinge&#x27;, max_iter=34401,\n",
       "              random_state=4, tol=0.023876)</pre><b>In a Jupyter environment, please rerun this cell to show the HTML representation or trust the notebook. <br />On GitHub, the HTML representation is unable to render, please try loading this page with nbviewer.org.</b></div><div class=\"sk-container\" hidden><div class=\"sk-item\"><div class=\"sk-estimator fitted sk-toggleable\"><input class=\"sk-toggleable__control sk-hidden--visually\" id=\"sk-estimator-id-2\" type=\"checkbox\" checked><label for=\"sk-estimator-id-2\" class=\"sk-toggleable__label fitted sk-toggleable__label-arrow fitted\">&nbsp;&nbsp;SGDClassifier<a class=\"sk-estimator-doc-link fitted\" rel=\"noreferrer\" target=\"_blank\" href=\"https://scikit-learn.org/1.5/modules/generated/sklearn.linear_model.SGDClassifier.html\">?<span>Documentation for SGDClassifier</span></a><span class=\"sk-estimator-doc-link fitted\">i<span>Fitted</span></span></label><div class=\"sk-toggleable__content fitted\"><pre>SGDClassifier(alpha=0.05217, loss=&#x27;squared_hinge&#x27;, max_iter=34401,\n",
       "              random_state=4, tol=0.023876)</pre></div> </div></div></div></div>"
      ],
      "text/plain": [
       "SGDClassifier(alpha=0.05217, loss='squared_hinge', max_iter=34401,\n",
       "              random_state=4, tol=0.023876)"
      ]
     },
     "execution_count": 84,
     "metadata": {},
     "output_type": "execute_result"
    }
   ],
   "source": [
    "best_model.fit(X_train, loans_labels)"
   ]
  },
  {
   "cell_type": "code",
   "execution_count": 85,
   "metadata": {},
   "outputs": [],
   "source": [
    "X_test = strat_test_set.drop(\"loan_default\", axis=1)\n",
    "y_test = strat_test_set[\"loan_default\"].copy()\n",
    "\n",
    "X_test_prepared = full_pipeline.fit_transform(X_test)\n",
    "final_predictions = best_model.predict(X_test_prepared)\n",
    "\n",
    "final_recall = recall_score(y_test, final_predictions)"
   ]
  },
  {
   "cell_type": "code",
   "execution_count": 86,
   "metadata": {},
   "outputs": [
    {
     "name": "stdout",
     "output_type": "stream",
     "text": [
      "Accuracy of model  0.698119276875898\n",
      "Recall Score  0.13632766125840917\n"
     ]
    }
   ],
   "source": [
    "from sklearn.metrics import f1_score, recall_score, accuracy_score\n",
    "print(\"Accuracy of model \",accuracy_score(y_test, final_predictions ))\n",
    "print(\"Recall Score \",recall_score(y_test, final_predictions ))"
   ]
  },
  {
   "cell_type": "markdown",
   "metadata": {},
   "source": [
    "Note que infelizmente o recall genearalizado não foi muito bom, porém a acurácia teve um resultado relativamente satisfatório. Devido a baixa performance do recall, esse modelo pode não ser o ideal para a empresa.\n",
    "\n",
    "A escolha correta agora, seria fazer novas buscas por métodos melhores (que performam melhor no recall). Porém, por falta de tempo, nos contentamos com o método escolhido.\n",
    "\n",
    "Agora basta aplicarmos o mesmo no conjunto de teste real."
   ]
  },
  {
   "cell_type": "markdown",
   "metadata": {},
   "source": [
    "### Teste final"
   ]
  },
  {
   "cell_type": "markdown",
   "metadata": {},
   "source": [
    "O conjunto de teste real não apresenta a coluna de predição, então não conseguimos associar um score ao nosso modelo aqui. Podemos apenas predizer os rótulos."
   ]
  },
  {
   "cell_type": "code",
   "execution_count": 89,
   "metadata": {},
   "outputs": [],
   "source": [
    "teste_final = pd.read_csv('test.csv')"
   ]
  },
  {
   "cell_type": "code",
   "execution_count": 90,
   "metadata": {},
   "outputs": [],
   "source": [
    "columns_test = test_final.columns.tolist()\n",
    "test_final = pd.DataFrame(test_final, columns=columns_test)"
   ]
  },
  {
   "cell_type": "code",
   "execution_count": null,
   "metadata": {},
   "outputs": [],
   "source": [
    "X_test_final_prepared = full_pipeline.fit_transform(test_final)\n",
    "test_final_predictions = best_model.predict(X_test_final_prepared)\n"
   ]
  },
  {
   "cell_type": "code",
   "execution_count": 93,
   "metadata": {},
   "outputs": [
    {
     "data": {
      "text/plain": [
       "array([0, 1, 0, ..., 0, 1, 0])"
      ]
     },
     "execution_count": 93,
     "metadata": {},
     "output_type": "execute_result"
    }
   ],
   "source": [
    "test_final_predictions "
   ]
  }
 ],
 "metadata": {
  "colab": {
   "collapsed_sections": [
    "Gi5jxcBT_4OB",
    "QVSn2bjtANl-",
    "XEU98SJ7FDin",
    "ZCwZKDREPT2_",
    "UZnmx9AIxDQW",
    "H_fhxG1C4fiz",
    "8kbwpY6S80Sb"
   ],
   "provenance": [],
   "toc_visible": true
  },
  "kernelspec": {
   "display_name": "Python 3",
   "name": "python3"
  },
  "language_info": {
   "codemirror_mode": {
    "name": "ipython",
    "version": 3
   },
   "file_extension": ".py",
   "mimetype": "text/x-python",
   "name": "python",
   "nbconvert_exporter": "python",
   "pygments_lexer": "ipython3",
   "version": "3.12.6"
  }
 },
 "nbformat": 4,
 "nbformat_minor": 0
}
